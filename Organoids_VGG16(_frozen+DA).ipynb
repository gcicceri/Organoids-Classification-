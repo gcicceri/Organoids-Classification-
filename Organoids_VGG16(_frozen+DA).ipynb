{
  "nbformat": 4,
  "nbformat_minor": 0,
  "metadata": {
    "colab": {
      "provenance": [],
      "gpuType": "T4",
      "machine_shape": "hm",
      "authorship_tag": "ABX9TyO1ls70+YCPPIpgTwkhT7d+",
      "include_colab_link": true
    },
    "kernelspec": {
      "name": "python3",
      "display_name": "Python 3"
    },
    "language_info": {
      "name": "python"
    },
    "accelerator": "GPU"
  },
  "cells": [
    {
      "cell_type": "markdown",
      "metadata": {
        "id": "view-in-github",
        "colab_type": "text"
      },
      "source": [
        "<a href=\"https://colab.research.google.com/github/gcicceri/Organoids-Classification-/blob/main/Organoids_VGG16(_frozen%2BDA).ipynb\" target=\"_parent\"><img src=\"https://colab.research.google.com/assets/colab-badge.svg\" alt=\"Open In Colab\"/></a>"
      ]
    },
    {
      "cell_type": "code",
      "execution_count": null,
      "metadata": {
        "colab": {
          "base_uri": "https://localhost:8080/"
        },
        "id": "DdoSq5-CJkP6",
        "outputId": "c4a84c30-e8cc-4f01-9ae6-7e2bbade49d0"
      },
      "outputs": [
        {
          "output_type": "stream",
          "name": "stdout",
          "text": [
            "Mounted at /content/drive\n"
          ]
        }
      ],
      "source": [
        "from google.colab import drive\n",
        "drive.mount('/content/drive')"
      ]
    },
    {
      "cell_type": "code",
      "source": [
        "import tensorflow as tf\n",
        "print('GPU name: ', tf.config.experimental.list_physical_devices('GPU'))\n",
        "from tensorflow.python.client import device_lib\n",
        "print(device_lib.list_local_devices())"
      ],
      "metadata": {
        "id": "UgzPjMqyJlJW",
        "colab": {
          "base_uri": "https://localhost:8080/"
        },
        "outputId": "d2cc2e5a-fe1b-4777-ec49-6b5d6456b12a"
      },
      "execution_count": null,
      "outputs": [
        {
          "output_type": "stream",
          "name": "stdout",
          "text": [
            "GPU name:  [PhysicalDevice(name='/physical_device:GPU:0', device_type='GPU')]\n",
            "[name: \"/device:CPU:0\"\n",
            "device_type: \"CPU\"\n",
            "memory_limit: 268435456\n",
            "locality {\n",
            "}\n",
            "incarnation: 3048424739120455399\n",
            "xla_global_id: -1\n",
            ", name: \"/device:GPU:0\"\n",
            "device_type: \"GPU\"\n",
            "memory_limit: 14626652160\n",
            "locality {\n",
            "  bus_id: 1\n",
            "  links {\n",
            "  }\n",
            "}\n",
            "incarnation: 11006012928244151117\n",
            "physical_device_desc: \"device: 0, name: Tesla T4, pci bus id: 0000:00:04.0, compute capability: 7.5\"\n",
            "xla_global_id: 416903419\n",
            "]\n"
          ]
        }
      ]
    },
    {
      "cell_type": "code",
      "source": [
        "from tensorflow.keras.applications.vgg16 import VGG16\n",
        "from tensorflow.keras.preprocessing import image\n",
        "from tensorflow.keras.applications.mobilenet_v2 import preprocess_input, decode_predictions\n",
        "import numpy as np"
      ],
      "metadata": {
        "id": "gMbwW4-0JlMu"
      },
      "execution_count": null,
      "outputs": []
    },
    {
      "cell_type": "code",
      "source": [
        "base_model = VGG16(weights='imagenet', include_top=False, input_shape=(224, 224, 3))"
      ],
      "metadata": {
        "id": "xmJ_dL9eKQQ7",
        "colab": {
          "base_uri": "https://localhost:8080/"
        },
        "outputId": "b9c99248-7b04-4b4e-aadc-f2c6b38b3666"
      },
      "execution_count": null,
      "outputs": [
        {
          "output_type": "stream",
          "name": "stdout",
          "text": [
            "Downloading data from https://storage.googleapis.com/tensorflow/keras-applications/vgg16/vgg16_weights_tf_dim_ordering_tf_kernels_notop.h5\n",
            "58889256/58889256 [==============================] - 0s 0us/step\n"
          ]
        }
      ]
    },
    {
      "cell_type": "code",
      "source": [
        "from tensorflow.keras.preprocessing.image import ImageDataGenerator\n",
        "from tensorflow.keras.optimizers import Adam\n",
        "from tensorflow.keras.preprocessing import image\n",
        "from tensorflow.keras.applications.densenet import preprocess_input, decode_predictions\n",
        "from tensorflow.keras.models import Model\n",
        "from tensorflow.keras.layers import Dense, GlobalAveragePooling2D\n",
        "\n",
        "x = base_model.output\n",
        "x = GlobalAveragePooling2D()(x)\n",
        "x = Dense(1024, activation='relu')(x)\n",
        "predictions = Dense(4, activation='softmax')(x)  # num_classes è il numero di classi nel tuo dataset\n",
        "model = Model(inputs=base_model.input, outputs=predictions)\n",
        "\n",
        "# Compile the model\n",
        "model.compile(optimizer='adam', loss='categorical_crossentropy', metrics=['accuracy'])"
      ],
      "metadata": {
        "id": "9DK-0SlZ94jC"
      },
      "execution_count": null,
      "outputs": []
    },
    {
      "cell_type": "code",
      "source": [
        "model.summary()"
      ],
      "metadata": {
        "colab": {
          "base_uri": "https://localhost:8080/"
        },
        "id": "ZZHfjn7TJ_3_",
        "outputId": "120f512f-64e1-46cb-ac58-35904f09c1ed"
      },
      "execution_count": null,
      "outputs": [
        {
          "output_type": "stream",
          "name": "stdout",
          "text": [
            "Model: \"model\"\n",
            "_________________________________________________________________\n",
            " Layer (type)                Output Shape              Param #   \n",
            "=================================================================\n",
            " input_1 (InputLayer)        [(None, 224, 224, 3)]     0         \n",
            "                                                                 \n",
            " block1_conv1 (Conv2D)       (None, 224, 224, 64)      1792      \n",
            "                                                                 \n",
            " block1_conv2 (Conv2D)       (None, 224, 224, 64)      36928     \n",
            "                                                                 \n",
            " block1_pool (MaxPooling2D)  (None, 112, 112, 64)      0         \n",
            "                                                                 \n",
            " block2_conv1 (Conv2D)       (None, 112, 112, 128)     73856     \n",
            "                                                                 \n",
            " block2_conv2 (Conv2D)       (None, 112, 112, 128)     147584    \n",
            "                                                                 \n",
            " block2_pool (MaxPooling2D)  (None, 56, 56, 128)       0         \n",
            "                                                                 \n",
            " block3_conv1 (Conv2D)       (None, 56, 56, 256)       295168    \n",
            "                                                                 \n",
            " block3_conv2 (Conv2D)       (None, 56, 56, 256)       590080    \n",
            "                                                                 \n",
            " block3_conv3 (Conv2D)       (None, 56, 56, 256)       590080    \n",
            "                                                                 \n",
            " block3_pool (MaxPooling2D)  (None, 28, 28, 256)       0         \n",
            "                                                                 \n",
            " block4_conv1 (Conv2D)       (None, 28, 28, 512)       1180160   \n",
            "                                                                 \n",
            " block4_conv2 (Conv2D)       (None, 28, 28, 512)       2359808   \n",
            "                                                                 \n",
            " block4_conv3 (Conv2D)       (None, 28, 28, 512)       2359808   \n",
            "                                                                 \n",
            " block4_pool (MaxPooling2D)  (None, 14, 14, 512)       0         \n",
            "                                                                 \n",
            " block5_conv1 (Conv2D)       (None, 14, 14, 512)       2359808   \n",
            "                                                                 \n",
            " block5_conv2 (Conv2D)       (None, 14, 14, 512)       2359808   \n",
            "                                                                 \n",
            " block5_conv3 (Conv2D)       (None, 14, 14, 512)       2359808   \n",
            "                                                                 \n",
            " block5_pool (MaxPooling2D)  (None, 7, 7, 512)         0         \n",
            "                                                                 \n",
            " global_average_pooling2d (  (None, 512)               0         \n",
            " GlobalAveragePooling2D)                                         \n",
            "                                                                 \n",
            " dense (Dense)               (None, 1024)              525312    \n",
            "                                                                 \n",
            " dense_1 (Dense)             (None, 4)                 4100      \n",
            "                                                                 \n",
            "=================================================================\n",
            "Total params: 15244100 (58.15 MB)\n",
            "Trainable params: 15244100 (58.15 MB)\n",
            "Non-trainable params: 0 (0.00 Byte)\n",
            "_________________________________________________________________\n"
          ]
        }
      ]
    },
    {
      "cell_type": "code",
      "source": [
        "from tensorflow.keras.preprocessing.image import ImageDataGenerator\n",
        "from keras import optimizers\n",
        "from keras.models import Sequential, Model\n",
        "from keras.layers import Dropout, Flatten, Dense, GlobalAveragePooling2D\n",
        "from keras.callbacks import ModelCheckpoint"
      ],
      "metadata": {
        "id": "mn0H0uOAJ_5y"
      },
      "execution_count": null,
      "outputs": []
    },
    {
      "cell_type": "code",
      "source": [
        "# Specifica i percorsi delle cartelle di addestramento e validazione\n",
        "train_data_dir = '/content/drive/MyDrive/ORGANOIDS_EXPERIMENTS/Final_Organoids_Dataset/train_folder'\n",
        "val_data_dir = '/content/drive/MyDrive/ORGANOIDS_EXPERIMENTS/Final_Organoids_Dataset/val_folder'\n",
        "\n",
        "\n",
        "#train_data_dir = '/HDD Giovanni/Desktop/Final_Organoids_Dataset-20230921T090135Z-001/Final_Organoids_Dataset/train_folder'\n",
        "#val_data_dir = '/HDD Giovanni/Desktop/Final_Organoids_Dataset-20230921T090135Z-001/Final_Organoids_Dataset/val_folder'"
      ],
      "metadata": {
        "id": "96tjEjGKJlOi"
      },
      "execution_count": null,
      "outputs": []
    },
    {
      "cell_type": "code",
      "source": [
        "batch_size = 128 #before 256\n",
        "num_epochs = 40"
      ],
      "metadata": {
        "id": "Y26lZnSsJ_7o"
      },
      "execution_count": null,
      "outputs": []
    },
    {
      "cell_type": "code",
      "source": [
        "# Definire il generatore di data augmentation con le trasformazioni desiderate\n",
        "data_augmentation = ImageDataGenerator(\n",
        "    #preprocessing_function=preprocess_input,  # aggiunge la pre-elaborazione specifica del modello\n",
        "    rotation_range=20,        # Gradi di rotazione casuale\n",
        "    brightness_range=[0.8, 1.2], # Variazione casuale della luminosità (ad esempio tra 80% e 120% dell'originale)\n",
        "    width_shift_range=0.2,    # Frazione della larghezza totale per lo spostamento orizzontale\n",
        "    height_shift_range=0.2,   # Frazione dell'altezza totale per lo spostamento verticale\n",
        "    horizontal_flip=True,     # Flip orizzontale casuale\n",
        "    zoom_range=0.2,           # Zoom casuale\n",
        "    fill_mode='nearest'       # Strategia di riempimento per i pixel nuovi creati dalla rotazione o dallo spostamento\n",
        ")"
      ],
      "metadata": {
        "id": "XZ5TtzWBJ_9c"
      },
      "execution_count": null,
      "outputs": []
    },
    {
      "cell_type": "code",
      "source": [
        "train_generator = data_augmentation.flow_from_directory(\n",
        "    train_data_dir,\n",
        "    target_size=(224, 224),\n",
        "    batch_size=batch_size,\n",
        "    class_mode='categorical'\n",
        ")\n",
        "val_generator = data_augmentation.flow_from_directory(\n",
        "    val_data_dir,\n",
        "    target_size=(224, 224),\n",
        "    batch_size=batch_size,\n",
        "    class_mode='categorical'\n",
        ")\n"
      ],
      "metadata": {
        "colab": {
          "base_uri": "https://localhost:8080/"
        },
        "id": "J_mIOTieJ__B",
        "outputId": "beff7ce4-b622-4615-83e1-5800f03e0dce"
      },
      "execution_count": null,
      "outputs": [
        {
          "output_type": "stream",
          "name": "stdout",
          "text": [
            "Found 18537 images belonging to 4 classes.\n",
            "Found 2058 images belonging to 4 classes.\n"
          ]
        }
      ]
    },
    {
      "cell_type": "code",
      "source": [
        "import time\n",
        "from keras.callbacks import ModelCheckpoint, EarlyStopping\n",
        "\n",
        "# Define the ModelCheckpoint callback\n",
        "checkpoint_filepath = '/content/best_model.h5'\n",
        "model_checkpoint_callback = ModelCheckpoint(\n",
        "    filepath=checkpoint_filepath,\n",
        "    save_weights_only=False,\n",
        "    monitor='val_loss',\n",
        "    mode='min',\n",
        "    save_best_only=True,\n",
        "    verbose=1\n",
        ")\n",
        "\n",
        "# Define the EarlyStopping callback\n",
        "early_stopping_callback = EarlyStopping(\n",
        "    monitor='val_loss',\n",
        "    mode='min',\n",
        "    patience=10,  # Number of epochs with no improvement after which training will be stopped\n",
        "    verbose=1,\n",
        "    restore_best_weights=True\n",
        ")\n",
        "\n",
        "# Start measuring time\n",
        "start_time = time.time()\n",
        "\n",
        "\n",
        "# Train the model\n",
        "history = model.fit(\n",
        "    train_generator,\n",
        "    steps_per_epoch=train_generator.n // batch_size,\n",
        "    epochs=num_epochs,\n",
        "    validation_data=val_generator,\n",
        "    validation_steps=val_generator.n // batch_size,\n",
        "    callbacks=[model_checkpoint_callback, early_stopping_callback]  # Add both callbacks to the list\n",
        ")\n",
        "\n",
        "# End measuring time\n",
        "end_time = time.time()\n",
        "\n",
        "# Calculate computational cost\n",
        "computational_cost = end_time - start_time\n",
        "\n",
        "# Print computational cost\n",
        "print(f\"Computational cost for model.fit: {computational_cost} seconds\")"
      ],
      "metadata": {
        "id": "bG9lLz56KAA8",
        "colab": {
          "base_uri": "https://localhost:8080/"
        },
        "outputId": "dd2e1efd-771b-40ae-b1e6-5c288aa7c8cb"
      },
      "execution_count": null,
      "outputs": [
        {
          "metadata": {
            "tags": null
          },
          "name": "stdout",
          "output_type": "stream",
          "text": [
            "Epoch 1/40\n",
            "144/144 [==============================] - ETA: 0s - loss: 3.8051 - accuracy: 0.4993 \n",
            "Epoch 1: val_loss improved from inf to 1.17292, saving model to /content/best_model.h5\n"
          ]
        },
        {
          "metadata": {
            "tags": null
          },
          "name": "stderr",
          "output_type": "stream",
          "text": [
            "/usr/local/lib/python3.10/dist-packages/keras/src/engine/training.py:3103: UserWarning: You are saving your model as an HDF5 file via `model.save()`. This file format is considered legacy. We recommend using instead the native Keras format, e.g. `model.save('my_model.keras')`.\n",
            "  saving_api.save_model(\n"
          ]
        },
        {
          "output_type": "stream",
          "name": "stdout",
          "text": [
            "144/144 [==============================] - 2325s 16s/step - loss: 3.8051 - accuracy: 0.4993 - val_loss: 1.1729 - val_accuracy: 0.5171\n",
            "Epoch 2/40\n",
            "144/144 [==============================] - ETA: 0s - loss: 1.1717 - accuracy: 0.5161\n",
            "Epoch 2: val_loss improved from 1.17292 to 1.16702, saving model to /content/best_model.h5\n",
            "144/144 [==============================] - 313s 2s/step - loss: 1.1717 - accuracy: 0.5161 - val_loss: 1.1670 - val_accuracy: 0.5166\n",
            "Epoch 3/40\n",
            "144/144 [==============================] - ETA: 0s - loss: 1.1624 - accuracy: 0.5169\n",
            "Epoch 3: val_loss improved from 1.16702 to 1.15722, saving model to /content/best_model.h5\n",
            "144/144 [==============================] - 314s 2s/step - loss: 1.1624 - accuracy: 0.5169 - val_loss: 1.1572 - val_accuracy: 0.5161\n",
            "Epoch 4/40\n",
            "144/144 [==============================] - ETA: 0s - loss: 1.1472 - accuracy: 0.5164\n",
            "Epoch 4: val_loss improved from 1.15722 to 1.12288, saving model to /content/best_model.h5\n",
            "144/144 [==============================] - 311s 2s/step - loss: 1.1472 - accuracy: 0.5164 - val_loss: 1.1229 - val_accuracy: 0.5161\n",
            "Epoch 5/40\n",
            "144/144 [==============================] - ETA: 0s - loss: 1.0483 - accuracy: 0.5524\n",
            "Epoch 5: val_loss improved from 1.12288 to 1.04285, saving model to /content/best_model.h5\n",
            "144/144 [==============================] - 327s 2s/step - loss: 1.0483 - accuracy: 0.5524 - val_loss: 1.0429 - val_accuracy: 0.5591\n",
            "Epoch 6/40\n",
            "144/144 [==============================] - ETA: 0s - loss: 0.9867 - accuracy: 0.5816\n",
            "Epoch 6: val_loss improved from 1.04285 to 0.93788, saving model to /content/best_model.h5\n",
            "144/144 [==============================] - 340s 2s/step - loss: 0.9867 - accuracy: 0.5816 - val_loss: 0.9379 - val_accuracy: 0.6011\n",
            "Epoch 7/40\n",
            "144/144 [==============================] - ETA: 0s - loss: 0.9591 - accuracy: 0.5929\n",
            "Epoch 7: val_loss improved from 0.93788 to 0.92420, saving model to /content/best_model.h5\n",
            "144/144 [==============================] - 337s 2s/step - loss: 0.9591 - accuracy: 0.5929 - val_loss: 0.9242 - val_accuracy: 0.6035\n",
            "Epoch 8/40\n",
            "144/144 [==============================] - ETA: 0s - loss: 0.9132 - accuracy: 0.6109\n",
            "Epoch 8: val_loss improved from 0.92420 to 0.91399, saving model to /content/best_model.h5\n",
            "144/144 [==============================] - 343s 2s/step - loss: 0.9132 - accuracy: 0.6109 - val_loss: 0.9140 - val_accuracy: 0.6167\n",
            "Epoch 9/40\n",
            "144/144 [==============================] - ETA: 0s - loss: 0.8859 - accuracy: 0.6250\n",
            "Epoch 9: val_loss improved from 0.91399 to 0.84873, saving model to /content/best_model.h5\n",
            "144/144 [==============================] - 344s 2s/step - loss: 0.8859 - accuracy: 0.6250 - val_loss: 0.8487 - val_accuracy: 0.6426\n",
            "Epoch 10/40\n",
            "144/144 [==============================] - ETA: 0s - loss: 0.8565 - accuracy: 0.6376\n",
            "Epoch 10: val_loss improved from 0.84873 to 0.80325, saving model to /content/best_model.h5\n",
            "144/144 [==============================] - 339s 2s/step - loss: 0.8565 - accuracy: 0.6376 - val_loss: 0.8033 - val_accuracy: 0.6504\n",
            "Epoch 11/40\n",
            "144/144 [==============================] - ETA: 0s - loss: 0.8261 - accuracy: 0.6495\n",
            "Epoch 11: val_loss improved from 0.80325 to 0.78400, saving model to /content/best_model.h5\n",
            "144/144 [==============================] - 343s 2s/step - loss: 0.8261 - accuracy: 0.6495 - val_loss: 0.7840 - val_accuracy: 0.6665\n",
            "Epoch 12/40\n",
            "144/144 [==============================] - ETA: 0s - loss: 0.7898 - accuracy: 0.6704\n",
            "Epoch 12: val_loss did not improve from 0.78400\n",
            "144/144 [==============================] - 316s 2s/step - loss: 0.7898 - accuracy: 0.6704 - val_loss: 0.7971 - val_accuracy: 0.6680\n",
            "Epoch 13/40\n",
            "144/144 [==============================] - ETA: 0s - loss: 0.7638 - accuracy: 0.6848\n",
            "Epoch 13: val_loss did not improve from 0.78400\n",
            "144/144 [==============================] - 321s 2s/step - loss: 0.7638 - accuracy: 0.6848 - val_loss: 0.8080 - val_accuracy: 0.6650\n",
            "Epoch 14/40\n",
            "144/144 [==============================] - ETA: 0s - loss: 0.7281 - accuracy: 0.6986\n",
            "Epoch 14: val_loss improved from 0.78400 to 0.69779, saving model to /content/best_model.h5\n",
            "144/144 [==============================] - 317s 2s/step - loss: 0.7281 - accuracy: 0.6986 - val_loss: 0.6978 - val_accuracy: 0.7246\n",
            "Epoch 15/40\n",
            "144/144 [==============================] - ETA: 0s - loss: 0.7116 - accuracy: 0.7073\n",
            "Epoch 15: val_loss improved from 0.69779 to 0.68401, saving model to /content/best_model.h5\n",
            "144/144 [==============================] - 323s 2s/step - loss: 0.7116 - accuracy: 0.7073 - val_loss: 0.6840 - val_accuracy: 0.7241\n",
            "Epoch 16/40\n",
            "144/144 [==============================] - ETA: 0s - loss: 0.6883 - accuracy: 0.7172\n",
            "Epoch 16: val_loss improved from 0.68401 to 0.67898, saving model to /content/best_model.h5\n",
            "144/144 [==============================] - 317s 2s/step - loss: 0.6883 - accuracy: 0.7172 - val_loss: 0.6790 - val_accuracy: 0.7188\n",
            "Epoch 17/40\n",
            "144/144 [==============================] - ETA: 0s - loss: 0.6733 - accuracy: 0.7207\n",
            "Epoch 17: val_loss improved from 0.67898 to 0.65752, saving model to /content/best_model.h5\n",
            "144/144 [==============================] - 318s 2s/step - loss: 0.6733 - accuracy: 0.7207 - val_loss: 0.6575 - val_accuracy: 0.7290\n",
            "Epoch 18/40\n",
            "144/144 [==============================] - ETA: 0s - loss: 0.6439 - accuracy: 0.7365\n",
            "Epoch 18: val_loss improved from 0.65752 to 0.62242, saving model to /content/best_model.h5\n",
            "144/144 [==============================] - 316s 2s/step - loss: 0.6439 - accuracy: 0.7365 - val_loss: 0.6224 - val_accuracy: 0.7510\n",
            "Epoch 19/40\n",
            "144/144 [==============================] - ETA: 0s - loss: 0.6309 - accuracy: 0.7407\n",
            "Epoch 19: val_loss improved from 0.62242 to 0.60771, saving model to /content/best_model.h5\n",
            "144/144 [==============================] - 317s 2s/step - loss: 0.6309 - accuracy: 0.7407 - val_loss: 0.6077 - val_accuracy: 0.7520\n",
            "Epoch 20/40\n",
            "144/144 [==============================] - ETA: 0s - loss: 0.6209 - accuracy: 0.7463\n",
            "Epoch 20: val_loss improved from 0.60771 to 0.58135, saving model to /content/best_model.h5\n",
            "144/144 [==============================] - 314s 2s/step - loss: 0.6209 - accuracy: 0.7463 - val_loss: 0.5814 - val_accuracy: 0.7627\n",
            "Epoch 21/40\n",
            "144/144 [==============================] - ETA: 0s - loss: 0.6060 - accuracy: 0.7502\n",
            "Epoch 21: val_loss did not improve from 0.58135\n",
            "144/144 [==============================] - 312s 2s/step - loss: 0.6060 - accuracy: 0.7502 - val_loss: 0.5872 - val_accuracy: 0.7549\n",
            "Epoch 22/40\n",
            "144/144 [==============================] - ETA: 0s - loss: 0.6020 - accuracy: 0.7532\n",
            "Epoch 22: val_loss improved from 0.58135 to 0.57832, saving model to /content/best_model.h5\n",
            "144/144 [==============================] - 311s 2s/step - loss: 0.6020 - accuracy: 0.7532 - val_loss: 0.5783 - val_accuracy: 0.7637\n",
            "Epoch 23/40\n",
            "144/144 [==============================] - ETA: 0s - loss: 0.5692 - accuracy: 0.7677\n",
            "Epoch 23: val_loss did not improve from 0.57832\n",
            "144/144 [==============================] - 322s 2s/step - loss: 0.5692 - accuracy: 0.7677 - val_loss: 0.6217 - val_accuracy: 0.7485\n",
            "Epoch 24/40\n",
            "144/144 [==============================] - ETA: 0s - loss: 0.5647 - accuracy: 0.7682\n",
            "Epoch 24: val_loss did not improve from 0.57832\n",
            "144/144 [==============================] - 321s 2s/step - loss: 0.5647 - accuracy: 0.7682 - val_loss: 0.5888 - val_accuracy: 0.7617\n",
            "Epoch 25/40\n",
            "144/144 [==============================] - ETA: 0s - loss: 0.5588 - accuracy: 0.7708\n",
            "Epoch 25: val_loss improved from 0.57832 to 0.51498, saving model to /content/best_model.h5\n",
            "144/144 [==============================] - 313s 2s/step - loss: 0.5588 - accuracy: 0.7708 - val_loss: 0.5150 - val_accuracy: 0.7856\n",
            "Epoch 26/40\n",
            "144/144 [==============================] - ETA: 0s - loss: 0.5414 - accuracy: 0.7772\n",
            "Epoch 26: val_loss did not improve from 0.51498\n",
            "144/144 [==============================] - 312s 2s/step - loss: 0.5414 - accuracy: 0.7772 - val_loss: 0.5649 - val_accuracy: 0.7666\n",
            "Epoch 27/40\n",
            "144/144 [==============================] - ETA: 0s - loss: 0.5215 - accuracy: 0.7892\n",
            "Epoch 27: val_loss improved from 0.51498 to 0.50401, saving model to /content/best_model.h5\n",
            "144/144 [==============================] - 314s 2s/step - loss: 0.5215 - accuracy: 0.7892 - val_loss: 0.5040 - val_accuracy: 0.8003\n",
            "Epoch 28/40\n",
            "144/144 [==============================] - ETA: 0s - loss: 0.5318 - accuracy: 0.7821\n",
            "Epoch 28: val_loss improved from 0.50401 to 0.49221, saving model to /content/best_model.h5\n",
            "144/144 [==============================] - 320s 2s/step - loss: 0.5318 - accuracy: 0.7821 - val_loss: 0.4922 - val_accuracy: 0.8071\n",
            "Epoch 29/40\n",
            "144/144 [==============================] - ETA: 0s - loss: 0.5196 - accuracy: 0.7856\n",
            "Epoch 29: val_loss did not improve from 0.49221\n",
            "144/144 [==============================] - 316s 2s/step - loss: 0.5196 - accuracy: 0.7856 - val_loss: 0.5481 - val_accuracy: 0.7661\n",
            "Epoch 30/40\n",
            "144/144 [==============================] - ETA: 0s - loss: 0.5032 - accuracy: 0.7972\n",
            "Epoch 30: val_loss improved from 0.49221 to 0.47360, saving model to /content/best_model.h5\n",
            "144/144 [==============================] - 316s 2s/step - loss: 0.5032 - accuracy: 0.7972 - val_loss: 0.4736 - val_accuracy: 0.8091\n",
            "Epoch 31/40\n",
            "144/144 [==============================] - ETA: 0s - loss: 0.4978 - accuracy: 0.7981\n",
            "Epoch 31: val_loss did not improve from 0.47360\n",
            "144/144 [==============================] - 313s 2s/step - loss: 0.4978 - accuracy: 0.7981 - val_loss: 0.4826 - val_accuracy: 0.7979\n",
            "Epoch 32/40\n",
            "144/144 [==============================] - ETA: 0s - loss: 0.5098 - accuracy: 0.7914\n",
            "Epoch 32: val_loss improved from 0.47360 to 0.46710, saving model to /content/best_model.h5\n",
            "144/144 [==============================] - 311s 2s/step - loss: 0.5098 - accuracy: 0.7914 - val_loss: 0.4671 - val_accuracy: 0.8101\n",
            "Epoch 33/40\n",
            "144/144 [==============================] - ETA: 0s - loss: 0.4952 - accuracy: 0.7959\n",
            "Epoch 33: val_loss did not improve from 0.46710\n",
            "144/144 [==============================] - 313s 2s/step - loss: 0.4952 - accuracy: 0.7959 - val_loss: 0.5099 - val_accuracy: 0.7935\n",
            "Epoch 34/40\n",
            "144/144 [==============================] - ETA: 0s - loss: 0.4813 - accuracy: 0.8063\n",
            "Epoch 34: val_loss did not improve from 0.46710\n",
            "144/144 [==============================] - 309s 2s/step - loss: 0.4813 - accuracy: 0.8063 - val_loss: 0.4830 - val_accuracy: 0.8042\n",
            "Epoch 35/40\n",
            "144/144 [==============================] - ETA: 0s - loss: 0.4869 - accuracy: 0.8002\n",
            "Epoch 35: val_loss did not improve from 0.46710\n",
            "144/144 [==============================] - 310s 2s/step - loss: 0.4869 - accuracy: 0.8002 - val_loss: 0.4683 - val_accuracy: 0.8081\n",
            "Epoch 36/40\n",
            "144/144 [==============================] - ETA: 0s - loss: 0.4869 - accuracy: 0.8049\n",
            "Epoch 36: val_loss did not improve from 0.46710\n",
            "144/144 [==============================] - 309s 2s/step - loss: 0.4869 - accuracy: 0.8049 - val_loss: 0.4942 - val_accuracy: 0.8032\n",
            "Epoch 37/40\n",
            "144/144 [==============================] - ETA: 0s - loss: 0.4712 - accuracy: 0.8100\n",
            "Epoch 37: val_loss improved from 0.46710 to 0.46212, saving model to /content/best_model.h5\n",
            "144/144 [==============================] - 317s 2s/step - loss: 0.4712 - accuracy: 0.8100 - val_loss: 0.4621 - val_accuracy: 0.8096\n",
            "Epoch 38/40\n",
            "144/144 [==============================] - ETA: 0s - loss: 0.4700 - accuracy: 0.8082\n",
            "Epoch 38: val_loss did not improve from 0.46212\n",
            "144/144 [==============================] - 325s 2s/step - loss: 0.4700 - accuracy: 0.8082 - val_loss: 0.4973 - val_accuracy: 0.8042\n",
            "Epoch 39/40\n",
            "144/144 [==============================] - ETA: 0s - loss: 0.4681 - accuracy: 0.8113\n",
            "Epoch 39: val_loss did not improve from 0.46212\n",
            "144/144 [==============================] - 310s 2s/step - loss: 0.4681 - accuracy: 0.8113 - val_loss: 0.4704 - val_accuracy: 0.8057\n",
            "Epoch 40/40\n",
            "144/144 [==============================] - ETA: 0s - loss: 0.4653 - accuracy: 0.8076\n",
            "Epoch 40: val_loss improved from 0.46212 to 0.43832, saving model to /content/best_model.h5\n",
            "144/144 [==============================] - 309s 2s/step - loss: 0.4653 - accuracy: 0.8076 - val_loss: 0.4383 - val_accuracy: 0.8252\n",
            "Computational cost for model.fit: 14986.167110919952 seconds\n"
          ]
        }
      ]
    },
    {
      "cell_type": "code",
      "source": [
        "#track the curve\n",
        "train_loss = history.history['loss']\n",
        "val_loss = history.history['val_loss']\n",
        "train_acc = history.history['accuracy']\n",
        "val_acc = history.history['val_accuracy']"
      ],
      "metadata": {
        "id": "Bdw5-0FCKACr"
      },
      "execution_count": null,
      "outputs": []
    },
    {
      "cell_type": "code",
      "source": [
        "import matplotlib.pyplot as plt\n",
        "\n",
        "# Assuming you have defined train_loss, val_loss, train_acc, and val_acc\n",
        "\n",
        "epochs = range(1, len(train_loss) + 1)\n",
        "\n",
        "# Plot and save the loss figure with 600 DPI\n",
        "plt.plot(epochs, train_loss, 'b-', label='Training')\n",
        "plt.plot(epochs, val_loss, 'r-', label='Validation')\n",
        "plt.title('Loss')\n",
        "plt.xlabel('Epoch')\n",
        "plt.ylabel('Loss')\n",
        "plt.legend()\n",
        "\n",
        "# Save the figure in a suitable format (e.g., PNG) with 600 DPI for line drawings\n",
        "plt.savefig('loss_plot_line_drawings.png', format='png', dpi=600, bbox_inches='tight')\n",
        "plt.show()\n",
        "\n",
        "# Plot and save the accuracy figure with 600 DPI\n",
        "plt.plot(epochs, train_acc, 'b-', label='Training')\n",
        "plt.plot(epochs, val_acc, 'r-', label='Validation')\n",
        "plt.title('Accuracy')\n",
        "plt.xlabel('Epoch')\n",
        "plt.ylabel('Accuracy')\n",
        "plt.legend()\n",
        "\n",
        "# Save the figure in a suitable format (e.g., PNG) with 600 DPI for line drawings\n",
        "plt.savefig('accuracy_plot_line_drawings.png', format='png', dpi=600, bbox_inches='tight')\n",
        "plt.show()\n"
      ],
      "metadata": {
        "id": "BirLDSKgKAEP",
        "colab": {
          "base_uri": "https://localhost:8080/",
          "height": 927
        },
        "outputId": "8003775a-4e09-48eb-b507-ec33b8b2f5e3"
      },
      "execution_count": null,
      "outputs": [
        {
          "output_type": "display_data",
          "data": {
            "text/plain": [
              "<Figure size 640x480 with 1 Axes>"
            ],
            "image/png": "[encoded data removed]"
          },
          "metadata": {}
        },
        {
          "output_type": "display_data",
          "data": {
            "text/plain": [
              "<Figure size 640x480 with 1 Axes>"
            ],
            "image/png": "[encoded data removed]"
          },
          "metadata": {}
        }
      ]
    },
    {
      "cell_type": "code",
      "source": [
        "from tensorflow.keras.preprocessing.image import ImageDataGenerator\n",
        "\n",
        "test_data_dir = '/content/drive/MyDrive/ORGANOIDS_EXPERIMENTS/Final_Organoids_Dataset/test_folder'\n",
        "\n",
        "#test_datagen = ImageDataGenerator(preprocessing_function=preprocess_input)\n",
        "\n",
        "test_datagen = ImageDataGenerator()\n",
        "\n",
        "\n",
        "test_generator = test_datagen.flow_from_directory(\n",
        "    test_data_dir,\n",
        "    target_size=(224, 224),\n",
        "    batch_size=batch_size,\n",
        "    class_mode='categorical',\n",
        "    shuffle=False\n",
        ")"
      ],
      "metadata": {
        "id": "9_-V00TxKAGD",
        "colab": {
          "base_uri": "https://localhost:8080/"
        },
        "outputId": "03c35bca-526d-46a8-d4f1-c25e0f3f5416"
      },
      "execution_count": null,
      "outputs": [
        {
          "output_type": "stream",
          "name": "stdout",
          "text": [
            "Found 2468 images belonging to 4 classes.\n"
          ]
        }
      ]
    },
    {
      "cell_type": "code",
      "source": [
        "#DA PROVARE\n",
        "\n",
        "import time\n",
        "import numpy as np\n",
        "from keras.models import load_model\n",
        "\n",
        "# Load the best model\n",
        "model_path = '/content/best_model.h5'\n",
        "model = load_model(model_path)\n",
        "\n",
        "# Start measuring time\n",
        "start_time = time.time()\n",
        "\n",
        "# Assuming you have defined test_generator\n",
        "# This is just for measuring the time spent on loading data and making predictions\n",
        "\n",
        "# Load true labels\n",
        "y_true = test_generator.classes  # Etichette reali\n",
        "\n",
        "# Make predictions\n",
        "y_pred = model.predict(test_generator)  # Previsioni del modello\n",
        "\n",
        "# Calculate predicted classes\n",
        "y_pred_classes = np.argmax(y_pred, axis=1)  # Classi predette\n",
        "\n",
        "# End measuring time\n",
        "end_time = time.time()\n",
        "\n",
        "# Calculate computational cost\n",
        "computational_cost = end_time - start_time\n",
        "\n",
        "# Print computational cost\n",
        "print(f\"Computational cost: {computational_cost} seconds\")"
      ],
      "metadata": {
        "id": "LNH3lGrNKAHY"
      },
      "execution_count": null,
      "outputs": []
    },
    {
      "cell_type": "code",
      "source": [
        "y_pred"
      ],
      "metadata": {
        "id": "E-Xh6-WFNXtb",
        "colab": {
          "base_uri": "https://localhost:8080/"
        },
        "outputId": "ab4e53f7-7bde-470d-da1b-1ad2143ea166"
      },
      "execution_count": null,
      "outputs": [
        {
          "output_type": "execute_result",
          "data": {
            "text/plain": [
              "array([[9.9745470e-01, 1.3752651e-03, 1.1537678e-05, 1.1585075e-03],\n",
              "       [9.2050481e-01, 3.2598658e-03, 1.3324036e-04, 7.6102160e-02],\n",
              "       [9.5441335e-01, 5.6384411e-03, 7.3226271e-05, 3.9874978e-02],\n",
              "       ...,\n",
              "       [7.6872408e-01, 1.0500037e-01, 3.4001865e-03, 1.2287529e-01],\n",
              "       [8.1154531e-01, 5.7332937e-02, 2.0146377e-03, 1.2910712e-01],\n",
              "       [6.1957181e-01, 5.3582760e-03, 2.3971774e-04, 3.7483025e-01]],\n",
              "      dtype=float32)"
            ]
          },
          "metadata": {},
          "execution_count": 33
        }
      ]
    },
    {
      "cell_type": "code",
      "source": [
        "import matplotlib.pyplot as plt\n",
        "from sklearn.metrics import roc_curve, auc\n",
        "from sklearn.preprocessing import label_binarize\n",
        "from sklearn.metrics import roc_auc_score\n",
        "\n",
        "# Assuming you have defined y_true and y_pred_classes as described in your code\n",
        "# y_true contains true labels, and y_pred_classes contains predicted classes\n",
        "\n",
        "# Binarize the true labels (one-hot encoding)\n",
        "n_classes = len(np.unique(y_true))\n",
        "y_true_bin = label_binarize(y_true, classes=np.arange(n_classes))\n",
        "\n",
        "# Compute ROC curve and ROC area for each class\n",
        "fpr = dict()\n",
        "tpr = dict()\n",
        "roc_auc = dict()\n",
        "for i in range(n_classes):\n",
        "    fpr[i], tpr[i], _ = roc_curve(y_true_bin[:, i], y_pred[:, i])\n",
        "    roc_auc[i] = auc(fpr[i], tpr[i])\n",
        "\n",
        "# Compute micro-average ROC curve and ROC area\n",
        "fpr[\"micro\"], tpr[\"micro\"], _ = roc_curve(y_true_bin.ravel(), y_pred.ravel())\n",
        "roc_auc[\"micro\"] = auc(fpr[\"micro\"], tpr[\"micro\"])\n",
        "\n",
        "# Plot ROC curves for each class\n",
        "plt.figure()\n",
        "lw = 2\n",
        "for i in range(n_classes):\n",
        "    plt.plot(fpr[i], tpr[i], lw=lw, label='ROC curve (area = %0.2f)' % roc_auc[i])\n",
        "\n",
        "# Plot micro-average ROC curve\n",
        "plt.plot(fpr[\"micro\"], tpr[\"micro\"],\n",
        "         label='Micro-average ROC curve (area = %0.2f)' % roc_auc[\"micro\"],\n",
        "         color='deeppink', linestyle=':', linewidth=4)\n",
        "\n",
        "# Add labels and legend\n",
        "plt.xlabel('False Positive Rate')\n",
        "plt.ylabel('True Positive Rate')\n",
        "plt.title('Receiver Operating Characteristic (ROC)')\n",
        "plt.legend(loc=\"lower right\")\n",
        "# Save the figure in a suitable format (e.g., PNG) with 600 DPI for line drawings\n",
        "plt.savefig('roc_curves.png', format='png', dpi=600, bbox_inches='tight')\n",
        "plt.show()\n"
      ],
      "metadata": {
        "id": "n7L2j9AoNXvm",
        "colab": {
          "base_uri": "https://localhost:8080/",
          "height": 472
        },
        "outputId": "7915153a-b56b-44cb-fd6d-650d6a8d4746"
      },
      "execution_count": null,
      "outputs": [
        {
          "output_type": "display_data",
          "data": {
            "text/plain": [
              "<Figure size 640x480 with 1 Axes>"
            ],
            "image/png": "[encoded data removed]"
          },
          "metadata": {}
        }
      ]
    },
    {
      "cell_type": "code",
      "source": [
        "import numpy as np\n",
        "import matplotlib.pyplot as plt\n",
        "from sklearn.metrics import roc_curve, auc\n",
        "from sklearn.preprocessing import label_binarize\n",
        "\n",
        "# Assuming you have defined y_true and y_pred as described in your previous code\n",
        "# y_true contains true labels, and y_pred contains predicted probabilities\n",
        "\n",
        "# Binarize the true labels (one-hot encoding)\n",
        "n_classes = 4  # Number of classes (change to your actual number of classes)\n",
        "y_true_bin = label_binarize(y_true, classes=np.arange(n_classes))\n",
        "\n",
        "# Initialize dictionaries to store FPR and TPR for each class\n",
        "fpr_dict = {}\n",
        "tpr_dict = {}\n",
        "\n",
        "# Compute ROC curve and ROC area for each class\n",
        "for i in range(n_classes):\n",
        "    fpr_dict[i], tpr_dict[i], _ = roc_curve(y_true_bin[:, i], y_pred[:, i])\n",
        "\n",
        "# Plot ROC curves for each class\n",
        "plt.figure()\n",
        "lw = 2\n",
        "for i in range(n_classes):\n",
        "    plt.plot(fpr_dict[i], tpr_dict[i], lw=lw, label=f'Class {i}')\n",
        "\n",
        "# Add labels and legend\n",
        "plt.xlabel('False Positive Rate')\n",
        "plt.ylabel('True Positive Rate')\n",
        "plt.title('ROC Curves for Each Class')\n",
        "plt.legend(loc=\"lower right\")\n",
        "plt.savefig('roc_curves_for_class.png', format='png', dpi=600, bbox_inches='tight')\n",
        "\n",
        "# Show the plot\n",
        "plt.show()\n",
        "\n",
        "# Save FPR and TPR values to separate CSV files for each class\n",
        "for i in range(n_classes):\n",
        "    class_name = f'Class_{i}'\n",
        "    fpr = fpr_dict[i]\n",
        "    tpr = tpr_dict[i]\n",
        "\n",
        "    # Save FPR and TPR values for the class to a CSV file\n",
        "    with open(f'{class_name}_roc_curve.csv', 'w') as file:\n",
        "        file.write('False Positive Rate, True Positive Rate\\n')\n",
        "        for j in range(len(fpr)):\n",
        "            file.write(f'{fpr[j]}, {tpr[j]}\\n')\n"
      ],
      "metadata": {
        "id": "7E0TnDYTNXxS",
        "colab": {
          "base_uri": "https://localhost:8080/",
          "height": 472
        },
        "outputId": "a145d436-f364-45f3-f068-0a89d79115f7"
      },
      "execution_count": null,
      "outputs": [
        {
          "output_type": "display_data",
          "data": {
            "text/plain": [
              "<Figure size 640x480 with 1 Axes>"
            ],
            "image/png": "[encoded data removed]"
          },
          "metadata": {}
        }
      ]
    },
    {
      "cell_type": "code",
      "source": [
        "import numpy as np\n",
        "import matplotlib.pyplot as plt\n",
        "from sklearn.metrics import roc_curve, auc\n",
        "from sklearn.preprocessing import label_binarize\n",
        "from sklearn.metrics import roc_auc_score\n",
        "\n",
        "# Assuming you have defined y_true and y_pred as described in your previous code\n",
        "# y_true contains true labels, and y_pred contains predicted probabilities\n",
        "\n",
        "# Binarize the true labels (one-hot encoding)\n",
        "n_classes = 4  # Number of classes (change to your actual number of classes)\n",
        "y_true_bin = label_binarize(y_true, classes=np.arange(n_classes))\n",
        "\n",
        "# Compute micro-average ROC curve and ROC area\n",
        "fpr_micro, tpr_micro, _ = roc_curve(y_true_bin.ravel(), y_pred.ravel())\n",
        "roc_auc_micro = auc(fpr_micro, tpr_micro)\n",
        "\n",
        "# Plot the micro-average ROC curve\n",
        "plt.figure()\n",
        "lw = 2\n",
        "plt.plot(fpr_micro, tpr_micro, color='darkorange',\n",
        "         lw=lw, label=f'Micro-average ROC curve (area = {roc_auc_micro:.2f})')\n",
        "\n",
        "# Add labels and legend\n",
        "plt.xlabel('False Positive Rate')\n",
        "plt.ylabel('True Positive Rate')\n",
        "plt.title('Micro-average ROC Curve')\n",
        "plt.legend(loc=\"lower right\")\n",
        "plt.savefig('micro_avg_roc_curves.png', format='png', dpi=600, bbox_inches='tight')\n",
        "\n",
        "\n",
        "# Show the plot\n",
        "plt.show()\n",
        "\n",
        "import pandas as pd\n",
        "\n",
        "# Create a dataframe with fpr_micro and tpr_micro\n",
        "df = pd.DataFrame({'fpr_micro': fpr_micro, 'tpr_micro': tpr_micro})\n",
        "\n",
        "# Save the dataframe to a CSV file\n",
        "df.to_csv('fpr_tpr_micro_values.csv', index=False)\n"
      ],
      "metadata": {
        "id": "B86OIkeoNXy7",
        "colab": {
          "base_uri": "https://localhost:8080/",
          "height": 472
        },
        "outputId": "eecce8ae-65ee-4e9e-cdf9-b1fd42258421"
      },
      "execution_count": null,
      "outputs": [
        {
          "output_type": "display_data",
          "data": {
            "text/plain": [
              "<Figure size 640x480 with 1 Axes>"
            ],
            "image/png": "[encoded data removed]"
          },
          "metadata": {}
        }
      ]
    },
    {
      "cell_type": "code",
      "source": [
        "from sklearn.metrics import accuracy_score, precision_score, recall_score, f1_score, confusion_matrix\n",
        "\n",
        "accuracy = accuracy_score(y_true, y_pred_classes)\n",
        "precision = precision_score(y_true, y_pred_classes, average='weighted')\n",
        "recall = recall_score(y_true, y_pred_classes, average='weighted')\n",
        "f1 = f1_score(y_true, y_pred_classes, average='weighted')\n",
        "\n",
        "print(\"Accuracy:\", accuracy)\n",
        "print(\"Precision:\", precision)\n",
        "print(\"Recall:\", recall)\n",
        "print(\"F1-score:\", f1)"
      ],
      "metadata": {
        "id": "T-zjmW8VNX0t",
        "colab": {
          "base_uri": "https://localhost:8080/"
        },
        "outputId": "79c1d5f7-8940-46c1-d2cc-7dde3604f17f"
      },
      "execution_count": null,
      "outputs": [
        {
          "output_type": "stream",
          "name": "stdout",
          "text": [
            "Accuracy: 0.8419773095623987\n",
            "Precision: 0.8411386022709236\n",
            "Recall: 0.8419773095623987\n",
            "F1-score: 0.8385037834772664\n"
          ]
        }
      ]
    },
    {
      "cell_type": "code",
      "source": [
        "from sklearn.metrics import accuracy_score, precision_score, recall_score, f1_score, confusion_matrix\n",
        "\n",
        "accuracy = accuracy_score(y_true, y_pred_classes)\n",
        "precision = precision_score(y_true, y_pred_classes, average='macro')\n",
        "recall = recall_score(y_true, y_pred_classes, average='macro')\n",
        "f1 = f1_score(y_true, y_pred_classes, average='macro')\n",
        "\n",
        "print(\"Accuracy:\", accuracy)\n",
        "print(\"Precision:\", precision)\n",
        "print(\"Recall:\", recall)\n",
        "print(\"F1-score:\", f1)"
      ],
      "metadata": {
        "id": "jSyC-EPxNiAm",
        "colab": {
          "base_uri": "https://localhost:8080/"
        },
        "outputId": "bc3a9035-c8b2-4be4-8d49-e4e2189b7bd8"
      },
      "execution_count": null,
      "outputs": [
        {
          "output_type": "stream",
          "name": "stdout",
          "text": [
            "Accuracy: 0.8419773095623987\n",
            "Precision: 0.818628401879\n",
            "Recall: 0.7916258840067506\n",
            "F1-score: 0.7998531592991709\n"
          ]
        }
      ]
    },
    {
      "cell_type": "code",
      "source": [
        "confusion_mtx = confusion_matrix(y_true, y_pred_classes)\n",
        "print(\"Matrice di confusione:\")\n",
        "print(confusion_mtx)"
      ],
      "metadata": {
        "id": "HrgkVthBNiCg",
        "colab": {
          "base_uri": "https://localhost:8080/"
        },
        "outputId": "572e0ce2-c1c3-4e3a-e80f-c651c40b1702"
      },
      "execution_count": null,
      "outputs": [
        {
          "output_type": "stream",
          "name": "stdout",
          "text": [
            "Matrice di confusione:\n",
            "[[1202   67    4   21]\n",
            " [  72  361  109    6]\n",
            " [   1   36  364    0]\n",
            " [  68    6    0  151]]\n"
          ]
        }
      ]
    },
    {
      "cell_type": "code",
      "source": [
        "# Assuming you have defined confusion_mtx as described in your code\n",
        "\n",
        "# Print the confusion matrix\n",
        "print(\"Confusion Matrix:\")\n",
        "print(confusion_mtx)\n",
        "\n",
        "# Save the confusion matrix values to a text file (e.g., CSV)\n",
        "with open('confusion_matrix.csv', 'w') as file:\n",
        "    file.write(\"Confusion Matrix:\\n\")\n",
        "    for row in confusion_mtx:\n",
        "        file.write(','.join(map(str, row)) + '\\n')"
      ],
      "metadata": {
        "id": "JiYh2VhtNiEh",
        "colab": {
          "base_uri": "https://localhost:8080/"
        },
        "outputId": "01fc5060-3f6b-4e57-d1d8-d03fd0a627dc"
      },
      "execution_count": null,
      "outputs": [
        {
          "output_type": "stream",
          "name": "stdout",
          "text": [
            "Confusion Matrix:\n",
            "[[1202   67    4   21]\n",
            " [  72  361  109    6]\n",
            " [   1   36  364    0]\n",
            " [  68    6    0  151]]\n"
          ]
        }
      ]
    },
    {
      "cell_type": "code",
      "source": [
        "#print PPT\n",
        "\n",
        "import numpy as np\n",
        "from sklearn.metrics import roc_curve\n",
        "\n",
        "# Assuming you have defined y_true and y_pred as described in your previous code\n",
        "# y_true contains true labels, and y_pred contains predicted probabilities\n",
        "\n",
        "# Binarize the true labels (one-hot encoding)\n",
        "n_classes = 4  # Number of classes (change to your actual number of classes)\n",
        "y_true_bin = label_binarize(y_true, classes=np.arange(n_classes))\n",
        "\n",
        "# Initialize dictionaries to store FPR and TPR for each class\n",
        "fpr_dict = {}\n",
        "tpr_dict = {}\n",
        "\n",
        "# Compute ROC curve for each class\n",
        "for i in range(n_classes):\n",
        "    fpr_dict[i], tpr_dict[i], _ = roc_curve(y_true_bin[:, i], y_pred[:, i])\n",
        "\n",
        "# Print TPR and FPR for each class\n",
        "for i in range(n_classes):\n",
        "    print(f\"Class {i}:\")\n",
        "    print(f\"TPR (True Positive Rate): {tpr_dict[i]}\")\n",
        "    print(f\"FPR (False Positive Rate): {fpr_dict[i]}\")\n",
        "    print()\n"
      ],
      "metadata": {
        "id": "ez6N-qtzNX2h",
        "colab": {
          "base_uri": "https://localhost:8080/"
        },
        "outputId": "efed9c90-ef63-4d18-c676-bda070d0caaa"
      },
      "execution_count": null,
      "outputs": [
        {
          "output_type": "stream",
          "name": "stdout",
          "text": [
            "Class 0:\n",
            "TPR (True Positive Rate): [0.00000000e+00 7.72797527e-04 1.15146832e-01 1.16692427e-01\n",
            " 2.26429675e-01 2.26429675e-01 2.28748068e-01 2.30293663e-01\n",
            " 2.52704791e-01 2.52704791e-01 2.78979907e-01 2.78979907e-01\n",
            " 2.85935085e-01 2.85935085e-01 3.49304482e-01 3.49304482e-01\n",
            " 3.97990726e-01 3.97990726e-01 4.07264297e-01 4.07264297e-01\n",
            " 4.21947450e-01 4.21947450e-01 4.32766615e-01 4.32766615e-01\n",
            " 4.42812983e-01 4.42812983e-01 4.48222566e-01 4.48222566e-01\n",
            " 4.51313756e-01 4.51313756e-01 4.66769706e-01 4.66769706e-01\n",
            " 4.68315301e-01 4.68315301e-01 4.89953632e-01 4.89953632e-01\n",
            " 4.92272025e-01 4.92272025e-01 4.95363215e-01 4.95363215e-01\n",
            " 5.03863988e-01 5.03863988e-01 5.20092736e-01 5.20092736e-01\n",
            " 5.35548686e-01 5.35548686e-01 5.59505410e-01 5.59505410e-01\n",
            " 5.60278207e-01 5.60278207e-01 5.76506955e-01 5.76506955e-01\n",
            " 5.88098918e-01 5.88098918e-01 6.15919629e-01 6.15919629e-01\n",
            " 6.16692427e-01 6.16692427e-01 6.34466770e-01 6.34466770e-01\n",
            " 6.47604328e-01 6.47604328e-01 6.59969088e-01 6.59969088e-01\n",
            " 6.61514683e-01 6.61514683e-01 6.63833076e-01 6.63833076e-01\n",
            " 6.93972179e-01 6.93972179e-01 6.94744977e-01 6.94744977e-01\n",
            " 6.99381762e-01 6.99381762e-01 7.06336940e-01 7.06336940e-01\n",
            " 7.25656878e-01 7.25656878e-01 7.33384853e-01 7.33384853e-01\n",
            " 7.39567233e-01 7.39567233e-01 7.42658423e-01 7.42658423e-01\n",
            " 7.44204019e-01 7.44204019e-01 7.44976816e-01 7.44976816e-01\n",
            " 7.60432767e-01 7.60432767e-01 7.63523957e-01 7.63523957e-01\n",
            " 7.65069552e-01 7.65069552e-01 7.68933539e-01 7.68933539e-01\n",
            " 7.72024730e-01 7.72024730e-01 7.77434312e-01 7.77434312e-01\n",
            " 7.78979907e-01 7.78979907e-01 7.79752705e-01 7.79752705e-01\n",
            " 7.81298300e-01 7.81298300e-01 7.82071097e-01 7.82071097e-01\n",
            " 7.83616692e-01 7.83616692e-01 7.84389490e-01 7.84389490e-01\n",
            " 7.85162287e-01 7.85162287e-01 7.90571870e-01 7.90571870e-01\n",
            " 7.95208655e-01 7.95208655e-01 8.02163833e-01 8.02163833e-01\n",
            " 8.05255023e-01 8.05255023e-01 8.14528594e-01 8.14528594e-01\n",
            " 8.17619784e-01 8.17619784e-01 8.21483771e-01 8.21483771e-01\n",
            " 8.32302937e-01 8.32302937e-01 8.43122102e-01 8.43122102e-01\n",
            " 8.43894900e-01 8.43894900e-01 8.46986090e-01 8.46986090e-01\n",
            " 8.47758887e-01 8.47758887e-01 8.50077280e-01 8.50077280e-01\n",
            " 8.50850077e-01 8.50850077e-01 8.52395672e-01 8.52395672e-01\n",
            " 8.53168470e-01 8.53168470e-01 8.57032457e-01 8.57032457e-01\n",
            " 8.58578053e-01 8.58578053e-01 8.61669243e-01 8.61669243e-01\n",
            " 8.69397218e-01 8.69397218e-01 8.70942813e-01 8.70942813e-01\n",
            " 8.72488408e-01 8.72488408e-01 8.76352396e-01 8.76352396e-01\n",
            " 8.78670788e-01 8.78670788e-01 8.80989181e-01 8.80989181e-01\n",
            " 8.84080371e-01 8.84080371e-01 8.85625966e-01 8.85625966e-01\n",
            " 8.86398764e-01 8.86398764e-01 8.87944359e-01 8.87944359e-01\n",
            " 8.90262751e-01 8.90262751e-01 8.91808346e-01 8.91808346e-01\n",
            " 8.96445131e-01 8.96445131e-01 8.97217929e-01 8.97217929e-01\n",
            " 9.04173107e-01 9.04173107e-01 9.05718702e-01 9.05718702e-01\n",
            " 9.09582689e-01 9.09582689e-01 9.10355487e-01 9.10355487e-01\n",
            " 9.12673879e-01 9.12673879e-01 9.16537867e-01 9.16537867e-01\n",
            " 9.19629057e-01 9.19629057e-01 9.20401855e-01 9.20401855e-01\n",
            " 9.21174652e-01 9.21174652e-01 9.23493045e-01 9.23493045e-01\n",
            " 9.25038640e-01 9.25038640e-01 9.26584235e-01 9.26584235e-01\n",
            " 9.28129830e-01 9.28129830e-01 9.29675425e-01 9.29675425e-01\n",
            " 9.30448223e-01 9.30448223e-01 9.31221020e-01 9.31221020e-01\n",
            " 9.33539413e-01 9.33539413e-01 9.34312210e-01 9.34312210e-01\n",
            " 9.39721793e-01 9.39721793e-01 9.40494590e-01 9.40494590e-01\n",
            " 9.42040185e-01 9.42040185e-01 9.43585781e-01 9.43585781e-01\n",
            " 9.45131376e-01 9.45131376e-01 9.45904173e-01 9.45904173e-01\n",
            " 9.46676971e-01 9.46676971e-01 9.47449768e-01 9.47449768e-01\n",
            " 9.48995363e-01 9.48995363e-01 9.50540958e-01 9.50540958e-01\n",
            " 9.51313756e-01 9.51313756e-01 9.52086553e-01 9.52086553e-01\n",
            " 9.52859351e-01 9.52859351e-01 9.53632148e-01 9.53632148e-01\n",
            " 9.54404946e-01 9.54404946e-01 9.55177743e-01 9.55177743e-01\n",
            " 9.55950541e-01 9.55950541e-01 9.56723338e-01 9.56723338e-01\n",
            " 9.57496136e-01 9.57496136e-01 9.58268934e-01 9.58268934e-01\n",
            " 9.59041731e-01 9.59041731e-01 9.59814529e-01 9.59814529e-01\n",
            " 9.60587326e-01 9.60587326e-01 9.61360124e-01 9.61360124e-01\n",
            " 9.64451314e-01 9.64451314e-01 9.65224111e-01 9.65224111e-01\n",
            " 9.65996909e-01 9.65996909e-01 9.66769706e-01 9.66769706e-01\n",
            " 9.67542504e-01 9.67542504e-01 9.68315301e-01 9.68315301e-01\n",
            " 9.69088099e-01 9.69088099e-01 9.69860896e-01 9.69860896e-01\n",
            " 9.71406491e-01 9.71406491e-01 9.72179289e-01 9.72179289e-01\n",
            " 9.72952087e-01 9.72952087e-01 9.73724884e-01 9.73724884e-01\n",
            " 9.74497682e-01 9.74497682e-01 9.75270479e-01 9.75270479e-01\n",
            " 9.76043277e-01 9.76043277e-01 9.76816074e-01 9.76816074e-01\n",
            " 9.77588872e-01 9.77588872e-01 9.78361669e-01 9.78361669e-01\n",
            " 9.79134467e-01 9.79134467e-01 9.80680062e-01 9.80680062e-01\n",
            " 9.81452859e-01 9.81452859e-01 9.82225657e-01 9.82225657e-01\n",
            " 9.82998454e-01 9.82998454e-01 9.83771252e-01 9.83771252e-01\n",
            " 9.84544049e-01 9.84544049e-01 9.85316847e-01 9.85316847e-01\n",
            " 9.86089645e-01 9.86089645e-01 9.86862442e-01 9.86862442e-01\n",
            " 9.87635240e-01 9.87635240e-01 9.89180835e-01 9.89180835e-01\n",
            " 9.89953632e-01 9.89953632e-01 9.91499227e-01 9.91499227e-01\n",
            " 9.92272025e-01 9.92272025e-01 9.93817620e-01 9.93817620e-01\n",
            " 9.94590417e-01 9.94590417e-01 9.95363215e-01 9.95363215e-01\n",
            " 9.96136012e-01 9.96136012e-01 9.96908810e-01 9.96908810e-01\n",
            " 9.97681607e-01 9.97681607e-01 9.98454405e-01 9.98454405e-01\n",
            " 9.99227202e-01 9.99227202e-01 1.00000000e+00 1.00000000e+00]\n",
            "FPR (False Positive Rate): [0.00000000e+00 0.00000000e+00 0.00000000e+00 0.00000000e+00\n",
            " 0.00000000e+00 8.51788756e-04 8.51788756e-04 8.51788756e-04\n",
            " 8.51788756e-04 1.70357751e-03 1.70357751e-03 2.55536627e-03\n",
            " 2.55536627e-03 3.40715503e-03 3.40715503e-03 4.25894378e-03\n",
            " 4.25894378e-03 5.11073254e-03 5.11073254e-03 5.96252129e-03\n",
            " 5.96252129e-03 6.81431005e-03 6.81431005e-03 7.66609881e-03\n",
            " 7.66609881e-03 8.51788756e-03 8.51788756e-03 9.36967632e-03\n",
            " 9.36967632e-03 1.10732538e-02 1.10732538e-02 1.19250426e-02\n",
            " 1.19250426e-02 1.27768313e-02 1.27768313e-02 1.36286201e-02\n",
            " 1.36286201e-02 1.44804089e-02 1.44804089e-02 1.53321976e-02\n",
            " 1.53321976e-02 1.70357751e-02 1.70357751e-02 1.78875639e-02\n",
            " 1.78875639e-02 1.87393526e-02 1.87393526e-02 1.95911414e-02\n",
            " 1.95911414e-02 2.04429302e-02 2.04429302e-02 2.12947189e-02\n",
            " 2.12947189e-02 2.21465077e-02 2.21465077e-02 2.29982964e-02\n",
            " 2.29982964e-02 2.38500852e-02 2.38500852e-02 2.47018739e-02\n",
            " 2.47018739e-02 2.55536627e-02 2.55536627e-02 2.64054514e-02\n",
            " 2.64054514e-02 2.72572402e-02 2.72572402e-02 2.81090290e-02\n",
            " 2.81090290e-02 2.89608177e-02 2.89608177e-02 2.98126065e-02\n",
            " 2.98126065e-02 3.15161840e-02 3.15161840e-02 3.23679727e-02\n",
            " 3.23679727e-02 3.32197615e-02 3.32197615e-02 3.40715503e-02\n",
            " 3.40715503e-02 3.57751278e-02 3.57751278e-02 3.66269165e-02\n",
            " 3.66269165e-02 3.83304940e-02 3.83304940e-02 4.00340716e-02\n",
            " 4.00340716e-02 4.08858603e-02 4.08858603e-02 4.17376491e-02\n",
            " 4.17376491e-02 4.25894378e-02 4.25894378e-02 4.34412266e-02\n",
            " 4.34412266e-02 4.42930153e-02 4.42930153e-02 4.77001704e-02\n",
            " 4.77001704e-02 4.85519591e-02 4.85519591e-02 4.94037479e-02\n",
            " 4.94037479e-02 5.02555366e-02 5.02555366e-02 5.19591141e-02\n",
            " 5.19591141e-02 5.28109029e-02 5.28109029e-02 5.36626917e-02\n",
            " 5.36626917e-02 5.45144804e-02 5.45144804e-02 5.62180579e-02\n",
            " 5.62180579e-02 5.79216354e-02 5.79216354e-02 6.04770017e-02\n",
            " 6.04770017e-02 6.13287905e-02 6.13287905e-02 6.21805792e-02\n",
            " 6.21805792e-02 6.30323680e-02 6.30323680e-02 6.38841567e-02\n",
            " 6.38841567e-02 6.55877342e-02 6.55877342e-02 6.64395230e-02\n",
            " 6.64395230e-02 6.72913118e-02 6.72913118e-02 7.15502555e-02\n",
            " 7.15502555e-02 7.24020443e-02 7.24020443e-02 7.32538330e-02\n",
            " 7.32538330e-02 7.41056218e-02 7.41056218e-02 7.49574106e-02\n",
            " 7.49574106e-02 7.58091993e-02 7.58091993e-02 7.66609881e-02\n",
            " 7.66609881e-02 7.75127768e-02 7.75127768e-02 7.83645656e-02\n",
            " 7.83645656e-02 7.92163543e-02 7.92163543e-02 8.00681431e-02\n",
            " 8.00681431e-02 8.43270869e-02 8.43270869e-02 8.60306644e-02\n",
            " 8.60306644e-02 8.68824532e-02 8.68824532e-02 8.77342419e-02\n",
            " 8.77342419e-02 8.94378194e-02 8.94378194e-02 9.02896082e-02\n",
            " 9.02896082e-02 9.19931857e-02 9.19931857e-02 9.28449744e-02\n",
            " 9.28449744e-02 9.36967632e-02 9.36967632e-02 9.45485520e-02\n",
            " 9.45485520e-02 9.54003407e-02 9.54003407e-02 9.71039182e-02\n",
            " 9.71039182e-02 9.79557070e-02 9.79557070e-02 9.88074957e-02\n",
            " 9.88074957e-02 1.02214651e-01 1.02214651e-01 1.06473595e-01\n",
            " 1.06473595e-01 1.09880750e-01 1.09880750e-01 1.10732538e-01\n",
            " 1.10732538e-01 1.11584327e-01 1.11584327e-01 1.12436116e-01\n",
            " 1.12436116e-01 1.14139693e-01 1.14139693e-01 1.14991482e-01\n",
            " 1.14991482e-01 1.15843271e-01 1.15843271e-01 1.16695060e-01\n",
            " 1.16695060e-01 1.17546848e-01 1.17546848e-01 1.20102215e-01\n",
            " 1.20102215e-01 1.21805792e-01 1.21805792e-01 1.23509370e-01\n",
            " 1.23509370e-01 1.24361158e-01 1.24361158e-01 1.25212947e-01\n",
            " 1.25212947e-01 1.27768313e-01 1.27768313e-01 1.30323680e-01\n",
            " 1.30323680e-01 1.31175468e-01 1.31175468e-01 1.32027257e-01\n",
            " 1.32027257e-01 1.34582624e-01 1.34582624e-01 1.35434412e-01\n",
            " 1.35434412e-01 1.39693356e-01 1.39693356e-01 1.41396934e-01\n",
            " 1.41396934e-01 1.42248722e-01 1.42248722e-01 1.46507666e-01\n",
            " 1.46507666e-01 1.47359455e-01 1.47359455e-01 1.48211244e-01\n",
            " 1.48211244e-01 1.49914821e-01 1.49914821e-01 1.51618399e-01\n",
            " 1.51618399e-01 1.52470187e-01 1.52470187e-01 1.53321976e-01\n",
            " 1.53321976e-01 1.56729131e-01 1.56729131e-01 1.57580920e-01\n",
            " 1.57580920e-01 1.58432709e-01 1.58432709e-01 1.59284497e-01\n",
            " 1.59284497e-01 1.60136286e-01 1.60136286e-01 1.60988075e-01\n",
            " 1.60988075e-01 1.65247019e-01 1.65247019e-01 1.66098807e-01\n",
            " 1.66098807e-01 1.71209540e-01 1.71209540e-01 1.73764906e-01\n",
            " 1.73764906e-01 1.77172061e-01 1.77172061e-01 1.78875639e-01\n",
            " 1.78875639e-01 1.81431005e-01 1.81431005e-01 1.83134583e-01\n",
            " 1.83134583e-01 1.89097104e-01 1.89097104e-01 1.92504259e-01\n",
            " 1.92504259e-01 1.93356048e-01 1.93356048e-01 1.94207836e-01\n",
            " 1.94207836e-01 1.98466780e-01 1.98466780e-01 2.00170358e-01\n",
            " 2.00170358e-01 2.01022147e-01 2.01022147e-01 2.08688245e-01\n",
            " 2.08688245e-01 2.10391823e-01 2.10391823e-01 2.18909710e-01\n",
            " 2.18909710e-01 2.19761499e-01 2.19761499e-01 2.23168654e-01\n",
            " 2.23168654e-01 2.25724020e-01 2.25724020e-01 2.31686542e-01\n",
            " 2.31686542e-01 2.36797274e-01 2.36797274e-01 2.45315162e-01\n",
            " 2.45315162e-01 2.49574106e-01 2.49574106e-01 2.58943782e-01\n",
            " 2.58943782e-01 2.59795571e-01 2.59795571e-01 2.64054514e-01\n",
            " 2.64054514e-01 2.64906303e-01 2.64906303e-01 2.83645656e-01\n",
            " 2.83645656e-01 2.94718910e-01 2.94718910e-01 2.95570698e-01\n",
            " 2.95570698e-01 2.98977853e-01 2.98977853e-01 3.12606474e-01\n",
            " 3.12606474e-01 3.15161840e-01 3.15161840e-01 3.21124361e-01\n",
            " 3.21124361e-01 3.34752981e-01 3.34752981e-01 3.38160136e-01\n",
            " 3.38160136e-01 3.48381601e-01 3.48381601e-01 3.59454855e-01\n",
            " 3.59454855e-01 4.73594549e-01 4.73594549e-01 5.23850085e-01\n",
            " 5.23850085e-01 5.66439523e-01 5.66439523e-01 1.00000000e+00]\n",
            "\n",
            "Class 1:\n",
            "TPR (True Positive Rate): [0.         0.00182482 0.04562044 0.04562044 0.11678832 0.11678832\n",
            " 0.12226277 0.12226277 0.14416058 0.14416058 0.14963504 0.14963504\n",
            " 0.16788321 0.16788321 0.18248175 0.18248175 0.20255474 0.20255474\n",
            " 0.22080292 0.22080292 0.22262774 0.22262774 0.24635036 0.24635036\n",
            " 0.25547445 0.25547445 0.26459854 0.26459854 0.27189781 0.27189781\n",
            " 0.27554745 0.27554745 0.27919708 0.27919708 0.2810219  0.2810219\n",
            " 0.28467153 0.28467153 0.28832117 0.28832117 0.29379562 0.29379562\n",
            " 0.29562044 0.29562044 0.30656934 0.30656934 0.30839416 0.30839416\n",
            " 0.31021898 0.31021898 0.33759124 0.33759124 0.35218978 0.35218978\n",
            " 0.3540146  0.3540146  0.3649635  0.3649635  0.37226277 0.37226277\n",
            " 0.37591241 0.37591241 0.39051095 0.39051095 0.41423358 0.41423358\n",
            " 0.43065693 0.43065693 0.44525547 0.44525547 0.44708029 0.44708029\n",
            " 0.45437956 0.45437956 0.45620438 0.45620438 0.4689781  0.4689781\n",
            " 0.47627737 0.47627737 0.48175182 0.48175182 0.48357664 0.48357664\n",
            " 0.49087591 0.49087591 0.49452555 0.49452555 0.5        0.5\n",
            " 0.50182482 0.50182482 0.50364964 0.50364964 0.51094891 0.51094891\n",
            " 0.51459854 0.51459854 0.52372263 0.52372263 0.53467153 0.53467153\n",
            " 0.53649635 0.53649635 0.53832117 0.53832117 0.5419708  0.5419708\n",
            " 0.54562044 0.54562044 0.55291971 0.55291971 0.55656934 0.55656934\n",
            " 0.56386861 0.56386861 0.5729927  0.5729927  0.57846715 0.57846715\n",
            " 0.58759124 0.58759124 0.58941606 0.58941606 0.6040146  0.6040146\n",
            " 0.60583942 0.60583942 0.60948905 0.60948905 0.6149635  0.6149635\n",
            " 0.62043796 0.62043796 0.62956204 0.62956204 0.63138686 0.63138686\n",
            " 0.63321168 0.63321168 0.6350365  0.6350365  0.63686131 0.63686131\n",
            " 0.64051095 0.64051095 0.64416058 0.64416058 0.64781022 0.64781022\n",
            " 0.64963504 0.64963504 0.65510949 0.65510949 0.65875912 0.65875912\n",
            " 0.66240876 0.66240876 0.67335766 0.67335766 0.6770073  0.6770073\n",
            " 0.68065693 0.68065693 0.68248175 0.68248175 0.68430657 0.68430657\n",
            " 0.6879562  0.6879562  0.68978102 0.68978102 0.69160584 0.69160584\n",
            " 0.69525547 0.69525547 0.69708029 0.69708029 0.69890511 0.69890511\n",
            " 0.70437956 0.70437956 0.71167883 0.71167883 0.71715328 0.71715328\n",
            " 0.72262774 0.72262774 0.72445255 0.72445255 0.72810219 0.72810219\n",
            " 0.72992701 0.72992701 0.73357664 0.73357664 0.73540146 0.73540146\n",
            " 0.73722628 0.73722628 0.73905109 0.73905109 0.74452555 0.74452555\n",
            " 0.74817518 0.74817518 0.75       0.75       0.75182482 0.75182482\n",
            " 0.75364964 0.75364964 0.75729927 0.75729927 0.76277372 0.76277372\n",
            " 0.76824818 0.76824818 0.77189781 0.77189781 0.77737226 0.77737226\n",
            " 0.7810219  0.7810219  0.78467153 0.78467153 0.78649635 0.78649635\n",
            " 0.7919708  0.7919708  0.79379562 0.79379562 0.79562044 0.79562044\n",
            " 0.79744526 0.79744526 0.79927007 0.79927007 0.80109489 0.80109489\n",
            " 0.80291971 0.80291971 0.80474453 0.80474453 0.80656934 0.80656934\n",
            " 0.80839416 0.80839416 0.81021898 0.81021898 0.8120438  0.8120438\n",
            " 0.81386861 0.81386861 0.81751825 0.81751825 0.81934307 0.81934307\n",
            " 0.82116788 0.82116788 0.82481752 0.82481752 0.82846715 0.82846715\n",
            " 0.83029197 0.83029197 0.83394161 0.83394161 0.83576642 0.83576642\n",
            " 0.83941606 0.83941606 0.84124088 0.84124088 0.84306569 0.84306569\n",
            " 0.84489051 0.84489051 0.85036496 0.85036496 0.85218978 0.85218978\n",
            " 0.8540146  0.8540146  0.85583942 0.85583942 0.85766423 0.85766423\n",
            " 0.85948905 0.85948905 0.8649635  0.8649635  0.86861314 0.86861314\n",
            " 0.87043796 0.87043796 0.87226277 0.87226277 0.87408759 0.87408759\n",
            " 0.87591241 0.87591241 0.87773723 0.87773723 0.87956204 0.87956204\n",
            " 0.88138686 0.88138686 0.8850365  0.8850365  0.88686131 0.88686131\n",
            " 0.88868613 0.88868613 0.89233577 0.89233577 0.8959854  0.8959854\n",
            " 0.89781022 0.89781022 0.89963504 0.89963504 0.90145985 0.90145985\n",
            " 0.90328467 0.90328467 0.90510949 0.90510949 0.90693431 0.90693431\n",
            " 0.90875912 0.90875912 0.91058394 0.91058394 0.91240876 0.91240876\n",
            " 0.91423358 0.91423358 0.91605839 0.91605839 0.91788321 0.91788321\n",
            " 0.91970803 0.91970803 0.92153285 0.92153285 0.92335766 0.92335766\n",
            " 0.92518248 0.92518248 0.9270073  0.9270073  0.92883212 0.92883212\n",
            " 0.93065693 0.93065693 0.93248175 0.93248175 0.93430657 0.93430657\n",
            " 0.93613139 0.93613139 0.9379562  0.9379562  0.93978102 0.93978102\n",
            " 0.94343066 0.94343066 0.94525547 0.94525547 0.94708029 0.94708029\n",
            " 0.94890511 0.94890511 0.95072993 0.95072993 0.95255474 0.95255474\n",
            " 0.95437956 0.95437956 0.95620438 0.95620438 0.9580292  0.9580292\n",
            " 0.95985401 0.95985401 0.96167883 0.96167883 0.96350365 0.96350365\n",
            " 0.96532847 0.96532847 0.96715328 0.96715328 0.9689781  0.9689781\n",
            " 0.97080292 0.97080292 0.97262774 0.97262774 0.97445255 0.97445255\n",
            " 0.97627737 0.97627737 0.97810219 0.97810219 0.97992701 0.97992701\n",
            " 0.98175182 0.98175182 0.98357664 0.98357664 0.98540146 0.98540146\n",
            " 0.98722628 0.98722628 0.98905109 0.98905109 0.99087591 0.99087591\n",
            " 0.99270073 0.99270073 0.99452555 0.99452555 0.99635036 0.99635036\n",
            " 0.99817518 0.99817518 1.         1.        ]\n",
            "FPR (False Positive Rate): [0.00000000e+00 0.00000000e+00 0.00000000e+00 5.20833333e-04\n",
            " 5.20833333e-04 1.04166667e-03 1.04166667e-03 1.56250000e-03\n",
            " 1.56250000e-03 2.08333333e-03 2.08333333e-03 2.60416667e-03\n",
            " 2.60416667e-03 3.12500000e-03 3.12500000e-03 3.64583333e-03\n",
            " 3.64583333e-03 4.16666667e-03 4.16666667e-03 4.68750000e-03\n",
            " 4.68750000e-03 5.20833333e-03 5.20833333e-03 6.25000000e-03\n",
            " 6.25000000e-03 6.77083333e-03 6.77083333e-03 7.29166667e-03\n",
            " 7.29166667e-03 7.81250000e-03 7.81250000e-03 8.33333333e-03\n",
            " 8.33333333e-03 8.85416667e-03 8.85416667e-03 9.37500000e-03\n",
            " 9.37500000e-03 9.89583333e-03 9.89583333e-03 1.04166667e-02\n",
            " 1.04166667e-02 1.09375000e-02 1.09375000e-02 1.14583333e-02\n",
            " 1.14583333e-02 1.19791667e-02 1.19791667e-02 1.25000000e-02\n",
            " 1.25000000e-02 1.30208333e-02 1.30208333e-02 1.35416667e-02\n",
            " 1.35416667e-02 1.40625000e-02 1.40625000e-02 1.45833333e-02\n",
            " 1.45833333e-02 1.51041667e-02 1.51041667e-02 1.56250000e-02\n",
            " 1.56250000e-02 1.61458333e-02 1.61458333e-02 1.66666667e-02\n",
            " 1.66666667e-02 1.71875000e-02 1.71875000e-02 1.77083333e-02\n",
            " 1.77083333e-02 1.82291667e-02 1.82291667e-02 1.87500000e-02\n",
            " 1.87500000e-02 1.92708333e-02 1.92708333e-02 1.97916667e-02\n",
            " 1.97916667e-02 2.08333333e-02 2.08333333e-02 2.18750000e-02\n",
            " 2.18750000e-02 2.23958333e-02 2.23958333e-02 2.29166667e-02\n",
            " 2.29166667e-02 2.34375000e-02 2.34375000e-02 2.39583333e-02\n",
            " 2.39583333e-02 2.44791667e-02 2.44791667e-02 2.50000000e-02\n",
            " 2.50000000e-02 2.55208333e-02 2.55208333e-02 2.60416667e-02\n",
            " 2.60416667e-02 2.81250000e-02 2.81250000e-02 2.86458333e-02\n",
            " 2.86458333e-02 2.91666667e-02 2.91666667e-02 2.96875000e-02\n",
            " 2.96875000e-02 3.02083333e-02 3.02083333e-02 3.12500000e-02\n",
            " 3.12500000e-02 3.17708333e-02 3.17708333e-02 3.22916667e-02\n",
            " 3.22916667e-02 3.28125000e-02 3.28125000e-02 3.48958333e-02\n",
            " 3.48958333e-02 3.54166667e-02 3.54166667e-02 3.64583333e-02\n",
            " 3.64583333e-02 3.69791667e-02 3.69791667e-02 3.90625000e-02\n",
            " 3.90625000e-02 3.95833333e-02 3.95833333e-02 4.01041667e-02\n",
            " 4.01041667e-02 4.21875000e-02 4.21875000e-02 4.27083333e-02\n",
            " 4.27083333e-02 4.32291667e-02 4.32291667e-02 4.37500000e-02\n",
            " 4.37500000e-02 4.42708333e-02 4.42708333e-02 4.47916667e-02\n",
            " 4.47916667e-02 4.58333333e-02 4.58333333e-02 4.68750000e-02\n",
            " 4.68750000e-02 4.79166667e-02 4.79166667e-02 4.89583333e-02\n",
            " 4.89583333e-02 4.94791667e-02 4.94791667e-02 5.00000000e-02\n",
            " 5.00000000e-02 5.20833333e-02 5.20833333e-02 5.31250000e-02\n",
            " 5.31250000e-02 5.62500000e-02 5.62500000e-02 5.67708333e-02\n",
            " 5.67708333e-02 5.72916667e-02 5.72916667e-02 5.83333333e-02\n",
            " 5.83333333e-02 5.88541667e-02 5.88541667e-02 6.09375000e-02\n",
            " 6.09375000e-02 6.14583333e-02 6.14583333e-02 6.19791667e-02\n",
            " 6.19791667e-02 6.25000000e-02 6.25000000e-02 6.30208333e-02\n",
            " 6.30208333e-02 6.40625000e-02 6.40625000e-02 6.45833333e-02\n",
            " 6.45833333e-02 6.82291667e-02 6.82291667e-02 6.87500000e-02\n",
            " 6.87500000e-02 7.03125000e-02 7.03125000e-02 7.08333333e-02\n",
            " 7.08333333e-02 7.13541667e-02 7.13541667e-02 7.18750000e-02\n",
            " 7.18750000e-02 7.50000000e-02 7.50000000e-02 7.65625000e-02\n",
            " 7.65625000e-02 7.76041667e-02 7.76041667e-02 7.81250000e-02\n",
            " 7.81250000e-02 7.86458333e-02 7.86458333e-02 8.07291667e-02\n",
            " 8.07291667e-02 8.17708333e-02 8.17708333e-02 8.43750000e-02\n",
            " 8.43750000e-02 8.64583333e-02 8.64583333e-02 9.01041667e-02\n",
            " 9.01041667e-02 9.06250000e-02 9.06250000e-02 9.16666667e-02\n",
            " 9.16666667e-02 9.27083333e-02 9.27083333e-02 9.58333333e-02\n",
            " 9.58333333e-02 9.79166667e-02 9.79166667e-02 1.01562500e-01\n",
            " 1.01562500e-01 1.02083333e-01 1.02083333e-01 1.03125000e-01\n",
            " 1.03125000e-01 1.04687500e-01 1.04687500e-01 1.09375000e-01\n",
            " 1.09375000e-01 1.10416667e-01 1.10416667e-01 1.10937500e-01\n",
            " 1.10937500e-01 1.11458333e-01 1.11458333e-01 1.11979167e-01\n",
            " 1.11979167e-01 1.13020833e-01 1.13020833e-01 1.14583333e-01\n",
            " 1.14583333e-01 1.16145833e-01 1.16145833e-01 1.18750000e-01\n",
            " 1.18750000e-01 1.19270833e-01 1.19270833e-01 1.21354167e-01\n",
            " 1.21354167e-01 1.23958333e-01 1.23958333e-01 1.26041667e-01\n",
            " 1.26041667e-01 1.27604167e-01 1.27604167e-01 1.29687500e-01\n",
            " 1.29687500e-01 1.31770833e-01 1.31770833e-01 1.34895833e-01\n",
            " 1.34895833e-01 1.35416667e-01 1.35416667e-01 1.39062500e-01\n",
            " 1.39062500e-01 1.39583333e-01 1.39583333e-01 1.44270833e-01\n",
            " 1.44270833e-01 1.44791667e-01 1.44791667e-01 1.46354167e-01\n",
            " 1.46354167e-01 1.48958333e-01 1.48958333e-01 1.51041667e-01\n",
            " 1.51041667e-01 1.51562500e-01 1.51562500e-01 1.52083333e-01\n",
            " 1.52083333e-01 1.55208333e-01 1.55208333e-01 1.55729167e-01\n",
            " 1.55729167e-01 1.56250000e-01 1.56250000e-01 1.57812500e-01\n",
            " 1.57812500e-01 1.58333333e-01 1.58333333e-01 1.61458333e-01\n",
            " 1.61458333e-01 1.63541667e-01 1.63541667e-01 1.64062500e-01\n",
            " 1.64062500e-01 1.64583333e-01 1.64583333e-01 1.67708333e-01\n",
            " 1.67708333e-01 1.69270833e-01 1.69270833e-01 1.70312500e-01\n",
            " 1.70312500e-01 1.70833333e-01 1.70833333e-01 1.73958333e-01\n",
            " 1.73958333e-01 1.74479167e-01 1.74479167e-01 1.77083333e-01\n",
            " 1.77083333e-01 1.80208333e-01 1.80208333e-01 1.80729167e-01\n",
            " 1.80729167e-01 1.81250000e-01 1.81250000e-01 1.82812500e-01\n",
            " 1.82812500e-01 1.84895833e-01 1.84895833e-01 1.90625000e-01\n",
            " 1.90625000e-01 1.94270833e-01 1.94270833e-01 1.95833333e-01\n",
            " 1.95833333e-01 1.97916667e-01 1.97916667e-01 1.98958333e-01\n",
            " 1.98958333e-01 2.02083333e-01 2.02083333e-01 2.07291667e-01\n",
            " 2.07291667e-01 2.10416667e-01 2.10416667e-01 2.11979167e-01\n",
            " 2.11979167e-01 2.16145833e-01 2.16145833e-01 2.18229167e-01\n",
            " 2.18229167e-01 2.21354167e-01 2.21354167e-01 2.34895833e-01\n",
            " 2.34895833e-01 2.44791667e-01 2.44791667e-01 2.45833333e-01\n",
            " 2.45833333e-01 2.47916667e-01 2.47916667e-01 2.50000000e-01\n",
            " 2.50000000e-01 2.50520833e-01 2.50520833e-01 2.51041667e-01\n",
            " 2.51041667e-01 2.53125000e-01 2.53125000e-01 2.58854167e-01\n",
            " 2.58854167e-01 2.65625000e-01 2.65625000e-01 2.69791667e-01\n",
            " 2.69791667e-01 2.70833333e-01 2.70833333e-01 2.80208333e-01\n",
            " 2.80208333e-01 2.87500000e-01 2.87500000e-01 2.95312500e-01\n",
            " 2.95312500e-01 2.97395833e-01 2.97395833e-01 3.01562500e-01\n",
            " 3.01562500e-01 3.06250000e-01 3.06250000e-01 3.15625000e-01\n",
            " 3.15625000e-01 3.16666667e-01 3.16666667e-01 3.17708333e-01\n",
            " 3.17708333e-01 3.34375000e-01 3.34375000e-01 3.53645833e-01\n",
            " 3.53645833e-01 3.61979167e-01 3.61979167e-01 3.62500000e-01\n",
            " 3.62500000e-01 3.68750000e-01 3.68750000e-01 3.80729167e-01\n",
            " 3.80729167e-01 4.14583333e-01 4.14583333e-01 4.16145833e-01\n",
            " 4.16145833e-01 4.42187500e-01 4.42187500e-01 4.52083333e-01\n",
            " 4.52083333e-01 4.60416667e-01 4.60416667e-01 4.77083333e-01\n",
            " 4.77083333e-01 4.98958333e-01 4.98958333e-01 5.05208333e-01\n",
            " 5.05208333e-01 5.14062500e-01 5.14062500e-01 5.23437500e-01\n",
            " 5.23437500e-01 5.38541667e-01 5.38541667e-01 6.60416667e-01\n",
            " 6.60416667e-01 1.00000000e+00]\n",
            "\n",
            "Class 2:\n",
            "TPR (True Positive Rate): [0.         0.00249377 0.26433915 0.26433915 0.31670823 0.31670823\n",
            " 0.36408978 0.36408978 0.38653367 0.38653367 0.41895262 0.41895262\n",
            " 0.42144638 0.42144638 0.44887781 0.44887781 0.47381546 0.47381546\n",
            " 0.53117207 0.53117207 0.54613466 0.54613466 0.56857855 0.56857855\n",
            " 0.58852868 0.58852868 0.62094763 0.62094763 0.62842893 0.62842893\n",
            " 0.63341646 0.63341646 0.65087282 0.65087282 0.66084788 0.66084788\n",
            " 0.66832918 0.66832918 0.67581047 0.67581047 0.68578554 0.68578554\n",
            " 0.69326683 0.69326683 0.69825436 0.69825436 0.71072319 0.71072319\n",
            " 0.72069825 0.72069825 0.72319202 0.72319202 0.72568579 0.72568579\n",
            " 0.72817955 0.72817955 0.73316708 0.73316708 0.73566085 0.73566085\n",
            " 0.74563591 0.74563591 0.7680798  0.7680798  0.77057357 0.77057357\n",
            " 0.7755611  0.7755611  0.77805486 0.77805486 0.78054863 0.78054863\n",
            " 0.78802993 0.78802993 0.79551122 0.79551122 0.80049875 0.80049875\n",
            " 0.80798005 0.80798005 0.81047382 0.81047382 0.82294264 0.82294264\n",
            " 0.82543641 0.82543641 0.82793017 0.82793017 0.83042394 0.83042394\n",
            " 0.83291771 0.83291771 0.83541147 0.83541147 0.840399   0.840399\n",
            " 0.8478803  0.8478803  0.85037406 0.85037406 0.86034913 0.86034913\n",
            " 0.86284289 0.86284289 0.87281796 0.87281796 0.87531172 0.87531172\n",
            " 0.88528678 0.88528678 0.88778055 0.88778055 0.89276808 0.89276808\n",
            " 0.89526185 0.89526185 0.90024938 0.90024938 0.90523691 0.90523691\n",
            " 0.90773067 0.90773067 0.91022444 0.91022444 0.9127182  0.9127182\n",
            " 0.91521197 0.91521197 0.91770574 0.91770574 0.9201995  0.9201995\n",
            " 0.92518703 0.92518703 0.93017456 0.93017456 0.93765586 0.93765586\n",
            " 0.94014963 0.94014963 0.94264339 0.94264339 0.94513716 0.94513716\n",
            " 0.94763092 0.94763092 0.95012469 0.95012469 0.95261845 0.95261845\n",
            " 0.95511222 0.95511222 0.96009975 0.96009975 0.96259352 0.96259352\n",
            " 0.96508728 0.96508728 0.96758105 0.96758105 0.97007481 0.97007481\n",
            " 0.97256858 0.97256858 0.97506234 0.97506234 0.97755611 0.97755611\n",
            " 0.98004988 0.98004988 0.98254364 0.98254364 0.98503741 0.98503741\n",
            " 0.99002494 0.99002494 0.9925187  0.9925187  0.99501247 0.99501247\n",
            " 0.99750623 0.99750623 1.         1.        ]\n",
            "FPR (False Positive Rate): [0.00000000e+00 0.00000000e+00 0.00000000e+00 4.83792937e-04\n",
            " 4.83792937e-04 9.67585873e-04 9.67585873e-04 1.45137881e-03\n",
            " 1.45137881e-03 1.93517175e-03 1.93517175e-03 2.41896468e-03\n",
            " 2.41896468e-03 2.90275762e-03 2.90275762e-03 3.38655056e-03\n",
            " 3.38655056e-03 3.87034349e-03 3.87034349e-03 4.35413643e-03\n",
            " 4.35413643e-03 4.83792937e-03 4.83792937e-03 5.32172230e-03\n",
            " 5.32172230e-03 5.80551524e-03 5.80551524e-03 6.77310111e-03\n",
            " 6.77310111e-03 7.25689405e-03 7.25689405e-03 7.74068699e-03\n",
            " 7.74068699e-03 8.70827286e-03 8.70827286e-03 9.19206580e-03\n",
            " 9.19206580e-03 9.67585873e-03 9.67585873e-03 1.01596517e-02\n",
            " 1.01596517e-02 1.06434446e-02 1.06434446e-02 1.11272375e-02\n",
            " 1.11272375e-02 1.16110305e-02 1.16110305e-02 1.25786164e-02\n",
            " 1.25786164e-02 1.40299952e-02 1.40299952e-02 1.59651669e-02\n",
            " 1.59651669e-02 1.79003387e-02 1.79003387e-02 1.93517175e-02\n",
            " 1.93517175e-02 1.98355104e-02 1.98355104e-02 2.03193033e-02\n",
            " 2.03193033e-02 2.08030963e-02 2.08030963e-02 2.17706821e-02\n",
            " 2.17706821e-02 2.22544751e-02 2.22544751e-02 2.27382680e-02\n",
            " 2.27382680e-02 2.32220610e-02 2.32220610e-02 2.41896468e-02\n",
            " 2.41896468e-02 2.56410256e-02 2.56410256e-02 2.61248186e-02\n",
            " 2.61248186e-02 2.70924045e-02 2.70924045e-02 2.75761974e-02\n",
            " 2.75761974e-02 2.80599903e-02 2.80599903e-02 2.85437833e-02\n",
            " 2.85437833e-02 2.90275762e-02 2.90275762e-02 2.95113691e-02\n",
            " 2.95113691e-02 3.09627479e-02 3.09627479e-02 3.14465409e-02\n",
            " 3.14465409e-02 3.28979197e-02 3.28979197e-02 3.33817126e-02\n",
            " 3.33817126e-02 3.38655056e-02 3.38655056e-02 3.43492985e-02\n",
            " 3.43492985e-02 3.48330914e-02 3.48330914e-02 3.58006773e-02\n",
            " 3.58006773e-02 3.82196420e-02 3.82196420e-02 3.96710208e-02\n",
            " 3.96710208e-02 4.25737784e-02 4.25737784e-02 4.45089502e-02\n",
            " 4.45089502e-02 4.78955007e-02 4.78955007e-02 4.83792937e-02\n",
            " 4.83792937e-02 4.98306725e-02 4.98306725e-02 5.37010160e-02\n",
            " 5.37010160e-02 5.41848089e-02 5.41848089e-02 5.61199806e-02\n",
            " 5.61199806e-02 5.80551524e-02 5.80551524e-02 5.90227383e-02\n",
            " 5.90227383e-02 6.04741171e-02 6.04741171e-02 6.28930818e-02\n",
            " 6.28930818e-02 6.43444606e-02 6.43444606e-02 6.82148041e-02\n",
            " 6.82148041e-02 7.06337687e-02 7.06337687e-02 7.40203193e-02\n",
            " 7.40203193e-02 7.54716981e-02 7.54716981e-02 7.64392840e-02\n",
            " 7.64392840e-02 7.78906628e-02 7.78906628e-02 7.98258345e-02\n",
            " 7.98258345e-02 8.03096275e-02 8.03096275e-02 8.27285922e-02\n",
            " 8.27285922e-02 8.36961780e-02 8.36961780e-02 9.38558297e-02\n",
            " 9.38558297e-02 9.48234156e-02 9.48234156e-02 1.06434446e-01\n",
            " 1.06434446e-01 1.12723754e-01 1.12723754e-01 1.14175133e-01\n",
            " 1.14175133e-01 1.14658926e-01 1.14658926e-01 1.19980648e-01\n",
            " 1.19980648e-01 1.26269956e-01 1.26269956e-01 1.32075472e-01\n",
            " 1.32075472e-01 1.59651669e-01 1.59651669e-01 1.69811321e-01\n",
            " 1.69811321e-01 1.86260281e-01 1.86260281e-01 2.10449927e-01\n",
            " 2.10449927e-01 2.33188195e-01 2.33188195e-01 1.00000000e+00]\n",
            "\n",
            "Class 3:\n",
            "TPR (True Positive Rate): [0.         0.04       0.04888889 0.05333333 0.06666667 0.12888889\n",
            " 0.13777778 0.41333333 0.41333333 0.47111111 0.47111111 0.49333333\n",
            " 0.49333333 0.50222222 0.50222222 0.51555556 0.51555556 0.52444444\n",
            " 0.52444444 0.54222222 0.54222222 0.55111111 0.55111111 0.59111111\n",
            " 0.59111111 0.59555556 0.59555556 0.61333333 0.61333333 0.61777778\n",
            " 0.61777778 0.63111111 0.63111111 0.63555556 0.63555556 0.64444444\n",
            " 0.64444444 0.67111111 0.67111111 0.68444444 0.68444444 0.68888889\n",
            " 0.68888889 0.69777778 0.69777778 0.70222222 0.70222222 0.71555556\n",
            " 0.71555556 0.72444444 0.72444444 0.73333333 0.73333333 0.74222222\n",
            " 0.74222222 0.74666667 0.74666667 0.76444444 0.76444444 0.76888889\n",
            " 0.76888889 0.77777778 0.77777778 0.78666667 0.78666667 0.79111111\n",
            " 0.79111111 0.80444444 0.80444444 0.80888889 0.80888889 0.81333333\n",
            " 0.81333333 0.81777778 0.81777778 0.82222222 0.82222222 0.83111111\n",
            " 0.83111111 0.84       0.84       0.84444444 0.84444444 0.84888889\n",
            " 0.84888889 0.85333333 0.85333333 0.85777778 0.85777778 0.86222222\n",
            " 0.86222222 0.86666667 0.86666667 0.87111111 0.87111111 0.87555556\n",
            " 0.87555556 0.88       0.88       0.88444444 0.88444444 0.88888889\n",
            " 0.88888889 0.89333333 0.89333333 0.89777778 0.89777778 0.90222222\n",
            " 0.90222222 0.90666667 0.90666667 0.91111111 0.91111111 0.91555556\n",
            " 0.91555556 0.92       0.92       0.92888889 0.92888889 0.93333333\n",
            " 0.93333333 0.93777778 0.93777778 0.94222222 0.94222222 0.94666667\n",
            " 0.94666667 0.95111111 0.95111111 0.95555556 0.95555556 0.96\n",
            " 0.96       0.96444444 0.96444444 0.96888889 0.96888889 0.97333333\n",
            " 0.97333333 0.97777778 0.97777778 0.98222222 0.98222222 0.98666667\n",
            " 0.98666667 0.99111111 0.99111111 0.99555556 0.99555556 1.\n",
            " 1.        ]\n",
            "FPR (False Positive Rate): [0.00000000e+00 0.00000000e+00 0.00000000e+00 0.00000000e+00\n",
            " 0.00000000e+00 0.00000000e+00 0.00000000e+00 0.00000000e+00\n",
            " 8.91662951e-04 8.91662951e-04 1.33749443e-03 1.33749443e-03\n",
            " 1.78332590e-03 1.78332590e-03 2.22915738e-03 2.22915738e-03\n",
            " 2.67498885e-03 2.67498885e-03 3.12082033e-03 3.12082033e-03\n",
            " 3.56665181e-03 3.56665181e-03 4.01248328e-03 4.01248328e-03\n",
            " 4.45831476e-03 4.45831476e-03 4.90414623e-03 4.90414623e-03\n",
            " 6.68747214e-03 6.68747214e-03 8.02496656e-03 8.02496656e-03\n",
            " 8.91662951e-03 8.91662951e-03 9.36246099e-03 9.36246099e-03\n",
            " 9.80829247e-03 9.80829247e-03 1.06999554e-02 1.06999554e-02\n",
            " 1.24832813e-02 1.24832813e-02 1.29291128e-02 1.29291128e-02\n",
            " 1.33749443e-02 1.33749443e-02 1.60499331e-02 1.60499331e-02\n",
            " 1.64957646e-02 1.64957646e-02 1.73874276e-02 1.73874276e-02\n",
            " 1.91707535e-02 1.91707535e-02 2.00624164e-02 2.00624164e-02\n",
            " 2.05082479e-02 2.05082479e-02 2.36290682e-02 2.36290682e-02\n",
            " 2.49665626e-02 2.49665626e-02 2.54123941e-02 2.54123941e-02\n",
            " 2.63040571e-02 2.63040571e-02 2.67498885e-02 2.67498885e-02\n",
            " 2.94248774e-02 2.94248774e-02 3.83415069e-02 3.83415069e-02\n",
            " 4.01248328e-02 4.01248328e-02 4.36914846e-02 4.36914846e-02\n",
            " 4.41373161e-02 4.41373161e-02 4.59206420e-02 4.59206420e-02\n",
            " 4.63664735e-02 4.63664735e-02 4.77039679e-02 4.77039679e-02\n",
            " 4.81497994e-02 4.81497994e-02 4.85956309e-02 4.85956309e-02\n",
            " 5.17164512e-02 5.17164512e-02 5.30539456e-02 5.30539456e-02\n",
            " 5.39456086e-02 5.39456086e-02 5.57289345e-02 5.57289345e-02\n",
            " 5.92955863e-02 5.92955863e-02 6.19705751e-02 6.19705751e-02\n",
            " 6.82122158e-02 6.82122158e-02 6.99955417e-02 6.99955417e-02\n",
            " 7.53455194e-02 7.53455194e-02 8.06954971e-02 8.06954971e-02\n",
            " 8.73829692e-02 8.73829692e-02 8.87204637e-02 8.87204637e-02\n",
            " 9.09496210e-02 9.09496210e-02 1.06107891e-01 1.06107891e-01\n",
            " 1.13687026e-01 1.13687026e-01 1.19482835e-01 1.19482835e-01\n",
            " 1.20374498e-01 1.20374498e-01 1.62728489e-01 1.62728489e-01\n",
            " 1.66295140e-01 1.66295140e-01 1.69861792e-01 1.69861792e-01\n",
            " 1.74320107e-01 1.74320107e-01 2.22469906e-01 2.22469906e-01\n",
            " 2.22915738e-01 2.22915738e-01 2.25144895e-01 2.25144895e-01\n",
            " 2.27819884e-01 2.27819884e-01 2.46544806e-01 2.46544806e-01\n",
            " 2.56353099e-01 2.56353099e-01 2.60365582e-01 2.60365582e-01\n",
            " 3.59340169e-01 3.59340169e-01 3.70485956e-01 3.70485956e-01\n",
            " 5.05572893e-01 5.05572893e-01 1.00000000e+00]\n",
            "\n"
          ]
        }
      ]
    },
    {
      "cell_type": "code",
      "source": [
        "import numpy as np\n",
        "from sklearn.metrics import classification_report, confusion_matrix\n",
        "\n",
        "# Assuming you have defined y_true and y_pred_classes as described in your previous code\n",
        "# y_true contains true labels, and y_pred_classes contains predicted classes\n",
        "\n",
        "# Calculate confusion matrix\n",
        "confusion_mtx = confusion_matrix(y_true, y_pred_classes)\n",
        "\n",
        "# Calculate classification report\n",
        "classification_rep = classification_report(y_true, y_pred_classes)\n",
        "\n",
        "# Calculate overall accuracy\n",
        "accuracy = np.mean(y_true == y_pred_classes)\n",
        "\n",
        "# Print confusion matrix\n",
        "print(\"Confusion Matrix:\")\n",
        "print(confusion_mtx)\n",
        "\n",
        "# Print classification report\n",
        "print(\"\\nClassification Report:\")\n",
        "print(classification_rep)\n",
        "\n",
        "# Print overall accuracy\n",
        "print(f\"\\nOverall Accuracy: {accuracy:.2%}\")\n"
      ],
      "metadata": {
        "id": "zyZUcdrfNp5_",
        "colab": {
          "base_uri": "https://localhost:8080/"
        },
        "outputId": "5c43d470-c5b7-4c18-a726-d1fbd128bbfe"
      },
      "execution_count": null,
      "outputs": [
        {
          "output_type": "stream",
          "name": "stdout",
          "text": [
            "Confusion Matrix:\n",
            "[[1202   67    4   21]\n",
            " [  72  361  109    6]\n",
            " [   1   36  364    0]\n",
            " [  68    6    0  151]]\n",
            "\n",
            "Classification Report:\n",
            "              precision    recall  f1-score   support\n",
            "\n",
            "           0       0.90      0.93      0.91      1294\n",
            "           1       0.77      0.66      0.71       548\n",
            "           2       0.76      0.91      0.83       401\n",
            "           3       0.85      0.67      0.75       225\n",
            "\n",
            "    accuracy                           0.84      2468\n",
            "   macro avg       0.82      0.79      0.80      2468\n",
            "weighted avg       0.84      0.84      0.84      2468\n",
            "\n",
            "\n",
            "Overall Accuracy: 84.20%\n"
          ]
        }
      ]
    },
    {
      "cell_type": "code",
      "source": [
        "from sklearn.metrics import confusion_matrix\n",
        "\n",
        "# Assuming you have defined y_true and y_pred_classes as described in your previous code\n",
        "# y_true contains true labels, and y_pred_classes contains predicted classes\n",
        "\n",
        "# Calculate the confusion matrix\n",
        "confusion_mtx = confusion_matrix(y_true, y_pred_classes)\n",
        "\n",
        "# Calculate sensitivity (TPR) and specificity for each class\n",
        "sensitivity = []\n",
        "specificity = []\n",
        "\n",
        "for i in range(len(confusion_mtx)):\n",
        "    true_positives = confusion_mtx[i, i]\n",
        "    false_negatives = np.sum(confusion_mtx[i, :]) - true_positives\n",
        "    true_negatives = np.sum(confusion_mtx) - np.sum(confusion_mtx[i, :]) - np.sum(confusion_mtx[:, i]) + true_positives\n",
        "    false_positives = np.sum(confusion_mtx[:, i]) - true_positives\n",
        "\n",
        "    sensitivity_i = true_positives / (true_positives + false_negatives)\n",
        "    specificity_i = true_negatives / (true_negatives + false_positives)\n",
        "\n",
        "    sensitivity.append(sensitivity_i)\n",
        "    specificity.append(specificity_i)\n",
        "\n",
        "# Print sensitivity and specificity for each class\n",
        "for i in range(len(sensitivity)):\n",
        "    print(f\"Class {i}:\")\n",
        "    print(f\"Sensitivity (True Positive Rate): {sensitivity[i]:.2f}\")\n",
        "    print(f\"Specificity (True Negative Rate): {specificity[i]:.2f}\")\n",
        "    print()\n"
      ],
      "metadata": {
        "id": "TSp_ffifNp72",
        "colab": {
          "base_uri": "https://localhost:8080/"
        },
        "outputId": "babf9540-9f29-4c5d-da8e-1c3aae43ed82"
      },
      "execution_count": null,
      "outputs": [
        {
          "output_type": "stream",
          "name": "stdout",
          "text": [
            "Class 0:\n",
            "Sensitivity (True Positive Rate): 0.93\n",
            "Specificity (True Negative Rate): 0.88\n",
            "\n",
            "Class 1:\n",
            "Sensitivity (True Positive Rate): 0.66\n",
            "Specificity (True Negative Rate): 0.94\n",
            "\n",
            "Class 2:\n",
            "Sensitivity (True Positive Rate): 0.91\n",
            "Specificity (True Negative Rate): 0.95\n",
            "\n",
            "Class 3:\n",
            "Sensitivity (True Positive Rate): 0.67\n",
            "Specificity (True Negative Rate): 0.99\n",
            "\n"
          ]
        }
      ]
    },
    {
      "cell_type": "code",
      "source": [
        "import numpy as np\n",
        "import matplotlib.pyplot as plt\n",
        "from sklearn.metrics import ConfusionMatrixDisplay\n",
        "\n",
        "\n",
        "# Display labels for the classes\n",
        "display_labels = ['Class 0', 'Class 1', 'Class 2', 'Class 3']\n",
        "\n",
        "# Create a ConfusionMatrixDisplay object\n",
        "disp = ConfusionMatrixDisplay(confusion_matrix=confusion_mtx, display_labels=display_labels)\n",
        "\n",
        "# Plot the confusion matrix\n",
        "disp.plot(cmap=plt.cm.Blues)\n",
        "\n",
        "# Save the figure as a PNG file\n",
        "plt.savefig('cm_conf_4_classes.png', dpi=100)\n",
        "\n",
        "# Show the plot\n",
        "plt.show()\n"
      ],
      "metadata": {
        "id": "QVGtPUKJNp9o",
        "colab": {
          "base_uri": "https://localhost:8080/",
          "height": 454
        },
        "outputId": "014ddedb-e18b-40cc-8e36-5d69f1468333"
      },
      "execution_count": null,
      "outputs": [
        {
          "output_type": "display_data",
          "data": {
            "text/plain": [
              "<Figure size 640x480 with 2 Axes>"
            ],
            "image/png": "[encoded data removed]"
          },
          "metadata": {}
        }
      ]
    },
    {
      "cell_type": "code",
      "source": [
        "confusion_mtx"
      ],
      "metadata": {
        "id": "VNgsURRqNX4X",
        "colab": {
          "base_uri": "https://localhost:8080/"
        },
        "outputId": "e0bbdce7-23a9-4cff-8762-2fb05220a178"
      },
      "execution_count": null,
      "outputs": [
        {
          "output_type": "execute_result",
          "data": {
            "text/plain": [
              "array([[1202,   67,    4,   21],\n",
              "       [  72,  361,  109,    6],\n",
              "       [   1,   36,  364,    0],\n",
              "       [  68,    6,    0,  151]])"
            ]
          },
          "metadata": {},
          "execution_count": 44
        }
      ]
    },
    {
      "cell_type": "code",
      "source": [
        "import numpy as np\n",
        "\n",
        "def print_confusion_matrix(matrix):\n",
        "    print(\"Confusion Matrix:\")\n",
        "    print(\"array(\", end='')\n",
        "    for i, row in enumerate(matrix):\n",
        "        if i == 0:\n",
        "            print(\"[\", end='')\n",
        "        else:\n",
        "            print(\"       [\", end='')\n",
        "\n",
        "        for j, value in enumerate(row):\n",
        "            end_char = \", \" if j < len(row) - 1 else \"]\"\n",
        "            print(f\"{value:>4}\", end=end_char)\n",
        "\n",
        "        if i < len(matrix) - 1:\n",
        "            print(\",\")\n",
        "        else:\n",
        "            print(\"])\")\n",
        "\n",
        "# Test\n",
        "matrix =confusion_mtx\n",
        "print_confusion_matrix(matrix)\n"
      ],
      "metadata": {
        "id": "Fm-BgN3zNycY",
        "colab": {
          "base_uri": "https://localhost:8080/"
        },
        "outputId": "dc9d003e-f549-4bd0-b7fb-9640a676e113"
      },
      "execution_count": null,
      "outputs": [
        {
          "output_type": "stream",
          "name": "stdout",
          "text": [
            "Confusion Matrix:\n",
            "array([1202,   67,    4,   21],\n",
            "       [  72,  361,  109,    6],\n",
            "       [   1,   36,  364,    0],\n",
            "       [  68,    6,    0,  151]])\n"
          ]
        }
      ]
    },
    {
      "cell_type": "code",
      "source": [
        "import numpy as np\n",
        "\n",
        "def compute_metrics(matrix):\n",
        "    num_classes = matrix.shape[0]\n",
        "\n",
        "    # True positives\n",
        "    TP = np.diag(matrix)\n",
        "\n",
        "    # False positives\n",
        "    FP = matrix.sum(axis=0) - TP\n",
        "\n",
        "    # False negatives\n",
        "    FN = matrix.sum(axis=1) - TP\n",
        "\n",
        "    # True negatives\n",
        "    TN = matrix.sum() - (FP + FN + TP)\n",
        "\n",
        "    # Accuracy\n",
        "    overall_accuracy = TP.sum() / matrix.sum()\n",
        "\n",
        "    # Sensitivity/Recall\n",
        "    sensitivity = TP / (TP + FN)\n",
        "\n",
        "    # Specificity\n",
        "    specificity = TN / (TN + FP)\n",
        "\n",
        "    # Precision\n",
        "    precision = TP / (TP + FP)\n",
        "\n",
        "    # F1 Score\n",
        "    f1_score = 2 * (precision * sensitivity) / (precision + sensitivity)\n",
        "\n",
        "    return overall_accuracy, sensitivity, specificity, f1_score\n",
        "\n",
        "# Test\n",
        "matrix = confusion_mtx\n",
        "overall_accuracy, sensitivity, specificity, f1_score = compute_metrics(matrix)\n",
        "\n",
        "print(f\"Overall Accuracy: {overall_accuracy:.4f}\")\n",
        "for i in range(matrix.shape[0]):\n",
        "    print(f\"\\nClass {i} metrics:\")\n",
        "    print(f\"Sensitivity/Recall: {sensitivity[i]:.4f}\")\n",
        "    print(f\"Specificity: {specificity[i]:.4f}\")\n",
        "    print(f\"F1 Score: {f1_score[i]:.4f}\")\n"
      ],
      "metadata": {
        "id": "3CepmvN-NyeP",
        "colab": {
          "base_uri": "https://localhost:8080/"
        },
        "outputId": "e15813ee-d339-4cd9-d5f6-0a9a0d880714"
      },
      "execution_count": null,
      "outputs": [
        {
          "output_type": "stream",
          "name": "stdout",
          "text": [
            "Overall Accuracy: 0.8420\n",
            "\n",
            "Class 0 metrics:\n",
            "Sensitivity/Recall: 0.9289\n",
            "Specificity: 0.8799\n",
            "F1 Score: 0.9116\n",
            "\n",
            "Class 1 metrics:\n",
            "Sensitivity/Recall: 0.6588\n",
            "Specificity: 0.9432\n",
            "F1 Score: 0.7092\n",
            "\n",
            "Class 2 metrics:\n",
            "Sensitivity/Recall: 0.9077\n",
            "Specificity: 0.9453\n",
            "F1 Score: 0.8292\n",
            "\n",
            "Class 3 metrics:\n",
            "Sensitivity/Recall: 0.6711\n",
            "Specificity: 0.9880\n",
            "F1 Score: 0.7494\n"
          ]
        }
      ]
    },
    {
      "cell_type": "code",
      "source": [
        "import numpy as np\n",
        "\n",
        "def compute_metrics(matrix):\n",
        "    num_classes = matrix.shape[0]\n",
        "\n",
        "    # True positives\n",
        "    TP = np.diag(matrix)\n",
        "\n",
        "    # False positives\n",
        "    FP = matrix.sum(axis=0) - TP\n",
        "\n",
        "    # False negatives\n",
        "    FN = matrix.sum(axis=1) - TP\n",
        "\n",
        "    # True negatives\n",
        "    TN = matrix.sum() - (FP + FN + TP)\n",
        "\n",
        "    # Accuracy\n",
        "    overall_accuracy = TP.sum() / matrix.sum()\n",
        "\n",
        "    # Micro-average Sensitivity/Recall\n",
        "    micro_recall = TP.sum() / (TP.sum() + FN.sum())\n",
        "\n",
        "    # Micro-average Precision\n",
        "    micro_precision = TP.sum() / (TP.sum() + FP.sum())\n",
        "\n",
        "    # Micro-average F1 Score\n",
        "    micro_f1_score = 2 * (micro_precision * micro_recall) / (micro_precision + micro_recall)\n",
        "\n",
        "    # Micro-average Specificity\n",
        "    micro_specificity = TN.sum() / (TN.sum() + FP.sum())\n",
        "\n",
        "    return overall_accuracy, micro_recall, micro_specificity, micro_f1_score\n",
        "\n",
        "# Test\n",
        "matrix = confusion_mtx\n",
        "\n",
        "overall_accuracy, micro_recall, micro_specificity, micro_f1_score = compute_metrics(matrix)\n",
        "\n",
        "print(f\"Overall Accuracy: {overall_accuracy:.4f}\")\n",
        "print(f\"Micro-average Sensitivity/Recall: {micro_recall:.4f}\")\n",
        "print(f\"Micro-average Specificity: {micro_specificity:.4f}\")\n",
        "print(f\"Micro-average F1 Score: {micro_f1_score:.4f}\")\n"
      ],
      "metadata": {
        "id": "erJpXhy3Nyi8",
        "colab": {
          "base_uri": "https://localhost:8080/"
        },
        "outputId": "e85ea66d-c883-4f23-9cdb-bddc8f50ca9d"
      },
      "execution_count": null,
      "outputs": [
        {
          "output_type": "stream",
          "name": "stdout",
          "text": [
            "Overall Accuracy: 0.8420\n",
            "Micro-average Sensitivity/Recall: 0.8420\n",
            "Micro-average Specificity: 0.9473\n",
            "Micro-average F1 Score: 0.8420\n"
          ]
        }
      ]
    },
    {
      "cell_type": "code",
      "source": [
        "y_pred"
      ],
      "metadata": {
        "id": "ZG4iOhCpN4fl",
        "colab": {
          "base_uri": "https://localhost:8080/"
        },
        "outputId": "5ee3f833-5770-49dd-ed74-f089fc9e4933"
      },
      "execution_count": null,
      "outputs": [
        {
          "output_type": "execute_result",
          "data": {
            "text/plain": [
              "array([[9.9745470e-01, 1.3752651e-03, 1.1537678e-05, 1.1585075e-03],\n",
              "       [9.2050481e-01, 3.2598658e-03, 1.3324036e-04, 7.6102160e-02],\n",
              "       [9.5441335e-01, 5.6384411e-03, 7.3226271e-05, 3.9874978e-02],\n",
              "       ...,\n",
              "       [7.6872408e-01, 1.0500037e-01, 3.4001865e-03, 1.2287529e-01],\n",
              "       [8.1154531e-01, 5.7332937e-02, 2.0146377e-03, 1.2910712e-01],\n",
              "       [6.1957181e-01, 5.3582760e-03, 2.3971774e-04, 3.7483025e-01]],\n",
              "      dtype=float32)"
            ]
          },
          "metadata": {},
          "execution_count": 48
        }
      ]
    },
    {
      "cell_type": "code",
      "source": [
        "y_true"
      ],
      "metadata": {
        "id": "MCAWMS1uN4hZ",
        "colab": {
          "base_uri": "https://localhost:8080/"
        },
        "outputId": "0a04e30f-1e21-4b9f-b804-0faeca748de2"
      },
      "execution_count": null,
      "outputs": [
        {
          "output_type": "execute_result",
          "data": {
            "text/plain": [
              "array([0, 0, 0, ..., 3, 3, 3], dtype=int32)"
            ]
          },
          "metadata": {},
          "execution_count": 49
        }
      ]
    },
    {
      "cell_type": "code",
      "source": [
        "import numpy as np\n",
        "import pandas as pd\n",
        "\n",
        "# Seleziona l'indice della classe con la probabilità più alta per ogni esempio\n",
        "predicted_classes = np.argmax(y_pred, axis=1)\n",
        "\n",
        "# Crea un DataFrame con le classi predette\n",
        "df_predictions = pd.DataFrame(predicted_classes, columns=['Predicted Class'])\n",
        "\n",
        "# Salva il DataFrame in un file Excel\n",
        "df_predictions.to_excel('test_predictions_VGG16.xlsx', index=False)\n"
      ],
      "metadata": {
        "id": "wX3lmtY8N4jO"
      },
      "execution_count": null,
      "outputs": []
    }
  ]
}