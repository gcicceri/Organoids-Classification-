{
 "cells": [
  {
   "cell_type": "code",
   "execution_count": 1,
   "metadata": {
    "collapsed": true
   },
   "outputs": [],
   "source": [
    "import pandas as pd\n",
    "import numpy as np\n",
    "import matplotlib.pyplot as plt\n",
    "import seaborn as sns"
   ]
  },
  {
   "cell_type": "code",
   "execution_count": 2,
   "outputs": [],
   "source": [
    "train_path = 'D:\\HDD Giovanni\\Desktop\\dataset_new_FEATURES\\dataset_train.xlsx'\n",
    "val_path = 'D:\\HDD Giovanni\\Desktop\\dataset_new_FEATURES\\dataset_val.xlsx'\n",
    "test_path = 'D:\\HDD Giovanni\\Desktop\\dataset_new_FEATURES\\dataset_test.xlsx'"
   ],
   "metadata": {
    "collapsed": false
   }
  },
  {
   "cell_type": "code",
   "execution_count": 3,
   "outputs": [],
   "source": [
    "train_df = pd.read_excel(train_path)\n",
    "val_df = pd.read_excel(val_path)\n",
    "test_df = pd.read_excel(test_path)"
   ],
   "metadata": {
    "collapsed": false
   }
  },
  {
   "cell_type": "code",
   "execution_count": 4,
   "outputs": [
    {
     "data": {
      "text/plain": "31"
     },
     "execution_count": 4,
     "metadata": {},
     "output_type": "execute_result"
    }
   ],
   "source": [
    "len(train_df.columns)"
   ],
   "metadata": {
    "collapsed": false
   }
  },
  {
   "cell_type": "code",
   "execution_count": 5,
   "outputs": [],
   "source": [
    "X_train = train_df.drop(['path','dimensions', 'label'], axis=1)\n",
    "y_train = train_df['label']\n",
    "\n",
    "X_val = val_df.drop(['path','dimensions', 'label'], axis=1)\n",
    "y_val = val_df['label']\n",
    "\n",
    "X_test = test_df.drop(['path','dimensions', 'label'], axis=1)\n",
    "y_test = test_df['label']"
   ],
   "metadata": {
    "collapsed": false
   }
  },
  {
   "cell_type": "code",
   "execution_count": 6,
   "outputs": [
    {
     "name": "stdout",
     "output_type": "stream",
     "text": [
      "Training set shape: (18537, 28), (18537,)\n",
      "Validation set shape: (2058, 28), (2058,)\n",
      "Test set shape: (2468, 28), (2468,)\n"
     ]
    }
   ],
   "source": [
    "print(f\"Training set shape: {X_train.shape}, {y_train.shape}\")\n",
    "print(f\"Validation set shape: {X_val.shape}, {y_val.shape}\")\n",
    "print(f\"Test set shape: {X_test.shape}, {y_test.shape}\")"
   ],
   "metadata": {
    "collapsed": false
   }
  },
  {
   "cell_type": "code",
   "execution_count": 7,
   "outputs": [
    {
     "data": {
      "text/plain": "mean_intensity                 0\nstd_intensity                  0\ncontrast_0                     0\ncontrast_45                    0\ncontrast_90                    0\ncontrast_135                   0\ndissimilarity_0                0\ndissimilarity_45               0\ndissimilarity_90               0\ndissimilarity_135              0\nhomogeneity_0                  0\nhomogeneity_45                 0\nhomogeneity_90                 0\nhomogeneity_135                0\nenergy_0                       0\nenergy_45                      0\nenergy_90                      0\nenergy_135                     0\ncorrelation_0                  0\ncorrelation_45                 0\ncorrelation_90                 0\ncorrelation_135                0\nmean_area                      0\nmax_solidity                   0\nmean_equivalent_diameter       0\nmean_perimeter                 0\nmean_irregularity_index     4248\nmean_convex_area               0\ndtype: int64"
     },
     "execution_count": 7,
     "metadata": {},
     "output_type": "execute_result"
    }
   ],
   "source": [
    "X_train.isna().sum()"
   ],
   "metadata": {
    "collapsed": false
   }
  },
  {
   "cell_type": "code",
   "execution_count": 8,
   "outputs": [
    {
     "name": "stdout",
     "output_type": "stream",
     "text": [
      "0\n",
      "0\n",
      "0\n"
     ]
    }
   ],
   "source": [
    "# Sostituisci np.inf e -np.inf con np.nan\n",
    "X_train['mean_irregularity_index'].replace([np.inf, -np.inf], np.nan, inplace=True)\n",
    "X_val['mean_irregularity_index'].replace([np.inf, -np.inf], np.nan, inplace=True)\n",
    "X_test['mean_irregularity_index'].replace([np.inf, -np.inf], np.nan, inplace=True)\n",
    "\n",
    "# Calcola il 50° percentile dalla colonna del training set\n",
    "percentile_50 = X_train['mean_irregularity_index'].describe()['50%']\n",
    "\n",
    "# Sostituisci i NaN nella colonna con il valore del 50° percentile\n",
    "X_train['mean_irregularity_index'].fillna(percentile_50, inplace=True)\n",
    "X_val['mean_irregularity_index'].fillna(percentile_50, inplace=True)\n",
    "X_test['mean_irregularity_index'].fillna(percentile_50, inplace=True)\n",
    "\n",
    "# Conferma che i NaN sono stati sostituiti\n",
    "print(X_train['mean_irregularity_index'].isna().sum())\n",
    "print(X_val['mean_irregularity_index'].isna().sum())\n",
    "print(X_test['mean_irregularity_index'].isna().sum())"
   ],
   "metadata": {
    "collapsed": false
   }
  },
  {
   "cell_type": "code",
   "execution_count": 9,
   "outputs": [
    {
     "data": {
      "text/plain": "mean_intensity              0\nstd_intensity               0\ncontrast_0                  0\ncontrast_45                 0\ncontrast_90                 0\ncontrast_135                0\ndissimilarity_0             0\ndissimilarity_45            0\ndissimilarity_90            0\ndissimilarity_135           0\nhomogeneity_0               0\nhomogeneity_45              0\nhomogeneity_90              0\nhomogeneity_135             0\nenergy_0                    0\nenergy_45                   0\nenergy_90                   0\nenergy_135                  0\ncorrelation_0               0\ncorrelation_45              0\ncorrelation_90              0\ncorrelation_135             0\nmean_area                   0\nmax_solidity                0\nmean_equivalent_diameter    0\nmean_perimeter              0\nmean_irregularity_index     0\nmean_convex_area            0\ndtype: int64"
     },
     "execution_count": 9,
     "metadata": {},
     "output_type": "execute_result"
    }
   ],
   "source": [
    "#check NaN\n",
    "X_train.isna().sum()\n",
    "X_val.isna().sum()\n",
    "X_test.isna().sum()"
   ],
   "metadata": {
    "collapsed": false
   }
  },
  {
   "cell_type": "code",
   "execution_count": 10,
   "outputs": [
    {
     "name": "stdout",
     "output_type": "stream",
     "text": [
      "Duplicati nel DataFrame: 0\n"
     ]
    }
   ],
   "source": [
    "duplval = X_train.duplicated() #controllo\n",
    "print(\"Duplicati nel DataFrame:\", duplval.sum()) #printa duplicati se presenti\n",
    "eliminadupl = X_train.drop_duplicates() #elimina i duplicati se"
   ],
   "metadata": {
    "collapsed": false
   }
  },
  {
   "cell_type": "code",
   "execution_count": 11,
   "outputs": [],
   "source": [
    "from sklearn.preprocessing import StandardScaler\n",
    "\n",
    "# Crea lo scaler\n",
    "scaler = StandardScaler()\n",
    "\n",
    "# Adatta lo scaler solo sulle features di training e trasforma le features di training\n",
    "X_train_scaled = scaler.fit_transform(X_train)\n",
    "\n",
    "# Utilizza lo scaler adattato per trasformare le features di validation e di test\n",
    "X_val_scaled = scaler.transform(X_val)\n",
    "X_test_scaled = scaler.transform(X_test)\n"
   ],
   "metadata": {
    "collapsed": false
   }
  },
  {
   "cell_type": "code",
   "execution_count": 12,
   "outputs": [],
   "source": [
    "from sklearn.svm import SVC\n",
    "from sklearn.model_selection import GridSearchCV\n",
    "from sklearn.metrics import accuracy_score\n",
    "import joblib"
   ],
   "metadata": {
    "collapsed": false
   }
  },
  {
   "cell_type": "code",
   "execution_count": 13,
   "outputs": [
    {
     "data": {
      "text/plain": "array([[-1.29612564, -0.83502543, -0.43839321, ..., -0.93012609,\n         0.0872821 , -0.89268144],\n       [-0.45505798, -0.142056  , -0.57199246, ..., -0.51842919,\n        -0.13412631, -0.65521244],\n       [-0.75193505, -0.84655759, -0.60111557, ..., -1.12674314,\n        -0.37368346, -0.92127166],\n       ...,\n       [-0.810902  , -2.03646004, -0.75150531, ..., -1.18391822,\n        -2.63288578, -0.92460576],\n       [-0.94278356, -1.84948848, -0.56157979, ..., -1.18391822,\n        -2.63288578, -0.92460576],\n       [-0.16434637, -1.07101931, -0.27595773, ..., -0.71591241,\n         0.03743695, -0.71684376]])"
     },
     "execution_count": 13,
     "metadata": {},
     "output_type": "execute_result"
    }
   ],
   "source": [
    "X_test_scaled"
   ],
   "metadata": {
    "collapsed": false
   }
  },
  {
   "cell_type": "code",
   "execution_count": 14,
   "outputs": [
    {
     "name": "stdout",
     "output_type": "stream",
     "text": [
      "Fitting 5 folds for each of 18 candidates, totalling 90 fits\n",
      "Validation Accuracy: 70.21%\n",
      "{'C': 10, 'gamma': 0.1, 'kernel': 'rbf'}\n",
      "SVC(C=10, gamma=0.1, random_state=42)\n"
     ]
    }
   ],
   "source": [
    "# Definisci il modello e i parametri per la grid search\n",
    "# Definisci il modello base SVC\n",
    "svc = SVC(random_state=42)\n",
    "\n",
    "#  parametri da testare\n",
    "param_grid = {\n",
    "    'C': [0.1, 1, 10],  # Valori esemplificativi di C\n",
    "    'gamma': [ 'auto', 0.1, 1],  # Valori esemplificativi di gamma\n",
    "    'kernel': ['rbf', 'linear']  # Tipi di kernel da testare\n",
    "}\n",
    "\n",
    "# Configura GridSearchCV\n",
    "grid_search = GridSearchCV(estimator=svc, param_grid=param_grid, cv=5, n_jobs=-1, verbose=2)\n",
    "\n",
    "# Esegui la ricerca degli iperparametri\n",
    "grid_search.fit(X_train_scaled, y_train)\n",
    "\n",
    "\n",
    "# Ottieni il miglior modello trovato dalla ricerca\n",
    "best_svc = grid_search.best_estimator_\n",
    "best_params_svc = grid_search.best_params_\n",
    "\n",
    "# Salva il modello su disco\n",
    "joblib.dump(best_svc, 'best_svc_model.joblib')\n",
    "\n",
    "# Valuta il miglior modello sul set di validation\n",
    "val_predictions = best_svc.predict(X_val_scaled)\n",
    "val_accuracy = accuracy_score(y_val, val_predictions)\n",
    "print(f'Validation Accuracy: {val_accuracy*100:.2f}%')\n",
    "\n",
    "print(best_params_svc)\n",
    "print(best_svc)\n",
    "\n"
   ],
   "metadata": {
    "collapsed": false
   }
  },
  {
   "cell_type": "code",
   "execution_count": 15,
   "outputs": [
    {
     "name": "stdout",
     "output_type": "stream",
     "text": [
      "Test Accuracy: 68.44%\n"
     ]
    }
   ],
   "source": [
    "# Valuta il miglior modello sul set di test\n",
    "SVM_predictions = best_svc.predict(X_test_scaled)\n",
    "test_accuracy = accuracy_score(y_test, SVM_predictions)\n",
    "print(f'Test Accuracy: {test_accuracy*100:.2f}%')"
   ],
   "metadata": {
    "collapsed": false
   }
  },
  {
   "cell_type": "code",
   "execution_count": 16,
   "outputs": [
    {
     "data": {
      "text/plain": "<Figure size 800x600 with 2 Axes>",
      "image/png": "[encoded data removed]"
     },
     "metadata": {},
     "output_type": "display_data"
    }
   ],
   "source": [
    "#print confusion matrix e precision recall f1 ecc\n",
    "from sklearn.metrics import confusion_matrix\n",
    "import seaborn as sns\n",
    "import matplotlib.pyplot as plt\n",
    "\n",
    "# Calcola la confusion matrix\n",
    "cm = confusion_matrix(y_test, SVM_predictions)\n",
    "cm\n",
    "\n",
    "# Visualizza la confusion matrix con Seaborn\n",
    "plt.figure(figsize=(8,6))\n",
    "sns.heatmap(cm, annot=True, fmt='d', cmap='Blues', xticklabels=['0', '1','2','3'], yticklabels=['0', '1','2','3'])\n",
    "plt.ylabel('True Label')\n",
    "plt.xlabel('Predicted Label')\n",
    "plt.title('Confusion Matrix')\n",
    "plt.show()\n"
   ],
   "metadata": {
    "collapsed": false
   }
  },
  {
   "cell_type": "code",
   "execution_count": 17,
   "outputs": [
    {
     "name": "stdout",
     "output_type": "stream",
     "text": [
      "Precision: 67.20%\n",
      "recall: 68.44%\n",
      "f1: 66.47%\n"
     ]
    }
   ],
   "source": [
    "#precision recall f1\n",
    "from sklearn.metrics import precision_score, recall_score, f1_score\n",
    "\n",
    "# Calcola precision, recall e f1 score basandosi sui valori fittizi\n",
    "precision = precision_score(y_test, SVM_predictions, average='weighted')\n",
    "recall = recall_score(y_test, SVM_predictions, average='weighted')\n",
    "f1 = f1_score(y_test, SVM_predictions, average='weighted')\n",
    "\n",
    "print(f'Precision: {precision*100:.2f}%')\n",
    "print(f'recall: {recall*100:.2f}%')\n",
    "print(f'f1: {f1*100:.2f}%')\n"
   ],
   "metadata": {
    "collapsed": false
   }
  },
  {
   "cell_type": "code",
   "execution_count": 20,
   "outputs": [
    {
     "ename": "InvalidModelError",
     "evalue": "Model type not yet supported by TreeExplainer: <class 'sklearn.svm._classes.SVC'>",
     "output_type": "error",
     "traceback": [
      "\u001B[1;31m---------------------------------------------------------------------------\u001B[0m",
      "\u001B[1;31mInvalidModelError\u001B[0m                         Traceback (most recent call last)",
      "Cell \u001B[1;32mIn[20], line 3\u001B[0m\n\u001B[0;32m      1\u001B[0m \u001B[38;5;28;01mimport\u001B[39;00m \u001B[38;5;21;01mshap\u001B[39;00m\n\u001B[0;32m      2\u001B[0m \u001B[38;5;66;03m# explainer SHAP\u001B[39;00m\n\u001B[1;32m----> 3\u001B[0m explainer \u001B[38;5;241m=\u001B[39m \u001B[43mshap\u001B[49m\u001B[38;5;241;43m.\u001B[39;49m\u001B[43mTreeExplainer\u001B[49m\u001B[43m(\u001B[49m\u001B[43mbest_svc\u001B[49m\u001B[43m)\u001B[49m\n\u001B[0;32m      5\u001B[0m \u001B[38;5;66;03m# Calcola i valori SHAP per il set di test\u001B[39;00m\n\u001B[0;32m      6\u001B[0m shap_values \u001B[38;5;241m=\u001B[39m explainer\u001B[38;5;241m.\u001B[39mshap_values(X_test_scaled)\n",
      "File \u001B[1;32mD:\\HDD Giovanni\\PycharmProjects\\provaTFdef\\venv\\lib\\site-packages\\shap\\explainers\\_tree.py:175\u001B[0m, in \u001B[0;36mTreeExplainer.__init__\u001B[1;34m(self, model, data, model_output, feature_perturbation, feature_names, approximate, **deprecated_options)\u001B[0m\n\u001B[0;32m    173\u001B[0m \u001B[38;5;28mself\u001B[39m\u001B[38;5;241m.\u001B[39mfeature_perturbation \u001B[38;5;241m=\u001B[39m feature_perturbation\n\u001B[0;32m    174\u001B[0m \u001B[38;5;28mself\u001B[39m\u001B[38;5;241m.\u001B[39mexpected_value \u001B[38;5;241m=\u001B[39m \u001B[38;5;28;01mNone\u001B[39;00m\n\u001B[1;32m--> 175\u001B[0m \u001B[38;5;28mself\u001B[39m\u001B[38;5;241m.\u001B[39mmodel \u001B[38;5;241m=\u001B[39m \u001B[43mTreeEnsemble\u001B[49m\u001B[43m(\u001B[49m\u001B[43mmodel\u001B[49m\u001B[43m,\u001B[49m\u001B[43m \u001B[49m\u001B[38;5;28;43mself\u001B[39;49m\u001B[38;5;241;43m.\u001B[39;49m\u001B[43mdata\u001B[49m\u001B[43m,\u001B[49m\u001B[43m \u001B[49m\u001B[38;5;28;43mself\u001B[39;49m\u001B[38;5;241;43m.\u001B[39;49m\u001B[43mdata_missing\u001B[49m\u001B[43m,\u001B[49m\u001B[43m \u001B[49m\u001B[43mmodel_output\u001B[49m\u001B[43m)\u001B[49m\n\u001B[0;32m    176\u001B[0m \u001B[38;5;28mself\u001B[39m\u001B[38;5;241m.\u001B[39mmodel_output \u001B[38;5;241m=\u001B[39m model_output\n\u001B[0;32m    177\u001B[0m \u001B[38;5;66;03m#self.model_output = self.model.model_output # this allows the TreeEnsemble to translate model outputs types by how it loads the model\u001B[39;00m\n",
      "File \u001B[1;32mD:\\HDD Giovanni\\PycharmProjects\\provaTFdef\\venv\\lib\\site-packages\\shap\\explainers\\_tree.py:1226\u001B[0m, in \u001B[0;36mTreeEnsemble.__init__\u001B[1;34m(self, model, data, data_missing, model_output)\u001B[0m\n\u001B[0;32m   1224\u001B[0m     \u001B[38;5;28mself\u001B[39m\u001B[38;5;241m.\u001B[39mbase_offset \u001B[38;5;241m=\u001B[39m model\u001B[38;5;241m.\u001B[39minit_params[param_idx]\n\u001B[0;32m   1225\u001B[0m \u001B[38;5;28;01melse\u001B[39;00m:\n\u001B[1;32m-> 1226\u001B[0m     \u001B[38;5;28;01mraise\u001B[39;00m InvalidModelError(\u001B[38;5;124m\"\u001B[39m\u001B[38;5;124mModel type not yet supported by TreeExplainer: \u001B[39m\u001B[38;5;124m\"\u001B[39m \u001B[38;5;241m+\u001B[39m \u001B[38;5;28mstr\u001B[39m(\u001B[38;5;28mtype\u001B[39m(model)))\n\u001B[0;32m   1228\u001B[0m \u001B[38;5;66;03m# build a dense numpy version of all the tree objects\u001B[39;00m\n\u001B[0;32m   1229\u001B[0m \u001B[38;5;28;01mif\u001B[39;00m \u001B[38;5;28mself\u001B[39m\u001B[38;5;241m.\u001B[39mtrees \u001B[38;5;129;01mis\u001B[39;00m \u001B[38;5;129;01mnot\u001B[39;00m \u001B[38;5;28;01mNone\u001B[39;00m \u001B[38;5;129;01mand\u001B[39;00m \u001B[38;5;28mself\u001B[39m\u001B[38;5;241m.\u001B[39mtrees:\n",
      "\u001B[1;31mInvalidModelError\u001B[0m: Model type not yet supported by TreeExplainer: <class 'sklearn.svm._classes.SVC'>"
     ]
    }
   ],
   "source": [
    "import shap\n",
    "# explainer SHAP\n",
    "explainer = shap.TreeExplainer(best_svc)\n",
    "\n",
    "# Calcola i valori SHAP per il set di test\n",
    "shap_values = explainer.shap_values(X_test_scaled)\n",
    "\n",
    "# Plot summary plot with all features\n",
    "shap.summary_plot(shap_values, X_test_scaled, plot_type=\"bar\", max_display=28, feature_names=X_test.columns)\n",
    "#plt.savefig('D:\\HDD Giovanni\\Desktop\\shap_plot_RF.jpeg', dpi=300)"
   ],
   "metadata": {
    "collapsed": false
   }
  },
  {
   "cell_type": "code",
   "execution_count": 19,
   "outputs": [
    {
     "data": {
      "text/plain": "SVC(C=10, gamma=0.1, random_state=42)",
      "text/html": "<style>#sk-container-id-1 {color: black;}#sk-container-id-1 pre{padding: 0;}#sk-container-id-1 div.sk-toggleable {background-color: white;}#sk-container-id-1 label.sk-toggleable__label {cursor: pointer;display: block;width: 100%;margin-bottom: 0;padding: 0.3em;box-sizing: border-box;text-align: center;}#sk-container-id-1 label.sk-toggleable__label-arrow:before {content: \"▸\";float: left;margin-right: 0.25em;color: #696969;}#sk-container-id-1 label.sk-toggleable__label-arrow:hover:before {color: black;}#sk-container-id-1 div.sk-estimator:hover label.sk-toggleable__label-arrow:before {color: black;}#sk-container-id-1 div.sk-toggleable__content {max-height: 0;max-width: 0;overflow: hidden;text-align: left;background-color: #f0f8ff;}#sk-container-id-1 div.sk-toggleable__content pre {margin: 0.2em;color: black;border-radius: 0.25em;background-color: #f0f8ff;}#sk-container-id-1 input.sk-toggleable__control:checked~div.sk-toggleable__content {max-height: 200px;max-width: 100%;overflow: auto;}#sk-container-id-1 input.sk-toggleable__control:checked~label.sk-toggleable__label-arrow:before {content: \"▾\";}#sk-container-id-1 div.sk-estimator input.sk-toggleable__control:checked~label.sk-toggleable__label {background-color: #d4ebff;}#sk-container-id-1 div.sk-label input.sk-toggleable__control:checked~label.sk-toggleable__label {background-color: #d4ebff;}#sk-container-id-1 input.sk-hidden--visually {border: 0;clip: rect(1px 1px 1px 1px);clip: rect(1px, 1px, 1px, 1px);height: 1px;margin: -1px;overflow: hidden;padding: 0;position: absolute;width: 1px;}#sk-container-id-1 div.sk-estimator {font-family: monospace;background-color: #f0f8ff;border: 1px dotted black;border-radius: 0.25em;box-sizing: border-box;margin-bottom: 0.5em;}#sk-container-id-1 div.sk-estimator:hover {background-color: #d4ebff;}#sk-container-id-1 div.sk-parallel-item::after {content: \"\";width: 100%;border-bottom: 1px solid gray;flex-grow: 1;}#sk-container-id-1 div.sk-label:hover label.sk-toggleable__label {background-color: #d4ebff;}#sk-container-id-1 div.sk-serial::before {content: \"\";position: absolute;border-left: 1px solid gray;box-sizing: border-box;top: 0;bottom: 0;left: 50%;z-index: 0;}#sk-container-id-1 div.sk-serial {display: flex;flex-direction: column;align-items: center;background-color: white;padding-right: 0.2em;padding-left: 0.2em;position: relative;}#sk-container-id-1 div.sk-item {position: relative;z-index: 1;}#sk-container-id-1 div.sk-parallel {display: flex;align-items: stretch;justify-content: center;background-color: white;position: relative;}#sk-container-id-1 div.sk-item::before, #sk-container-id-1 div.sk-parallel-item::before {content: \"\";position: absolute;border-left: 1px solid gray;box-sizing: border-box;top: 0;bottom: 0;left: 50%;z-index: -1;}#sk-container-id-1 div.sk-parallel-item {display: flex;flex-direction: column;z-index: 1;position: relative;background-color: white;}#sk-container-id-1 div.sk-parallel-item:first-child::after {align-self: flex-end;width: 50%;}#sk-container-id-1 div.sk-parallel-item:last-child::after {align-self: flex-start;width: 50%;}#sk-container-id-1 div.sk-parallel-item:only-child::after {width: 0;}#sk-container-id-1 div.sk-dashed-wrapped {border: 1px dashed gray;margin: 0 0.4em 0.5em 0.4em;box-sizing: border-box;padding-bottom: 0.4em;background-color: white;}#sk-container-id-1 div.sk-label label {font-family: monospace;font-weight: bold;display: inline-block;line-height: 1.2em;}#sk-container-id-1 div.sk-label-container {text-align: center;}#sk-container-id-1 div.sk-container {/* jupyter's `normalize.less` sets `[hidden] { display: none; }` but bootstrap.min.css set `[hidden] { display: none !important; }` so we also need the `!important` here to be able to override the default hidden behavior on the sphinx rendered scikit-learn.org. See: https://github.com/scikit-learn/scikit-learn/issues/21755 */display: inline-block !important;position: relative;}#sk-container-id-1 div.sk-text-repr-fallback {display: none;}</style><div id=\"sk-container-id-1\" class=\"sk-top-container\"><div class=\"sk-text-repr-fallback\"><pre>SVC(C=10, gamma=0.1, random_state=42)</pre><b>In a Jupyter environment, please rerun this cell to show the HTML representation or trust the notebook. <br />On GitHub, the HTML representation is unable to render, please try loading this page with nbviewer.org.</b></div><div class=\"sk-container\" hidden><div class=\"sk-item\"><div class=\"sk-estimator sk-toggleable\"><input class=\"sk-toggleable__control sk-hidden--visually\" id=\"sk-estimator-id-1\" type=\"checkbox\" checked><label for=\"sk-estimator-id-1\" class=\"sk-toggleable__label sk-toggleable__label-arrow\">SVC</label><div class=\"sk-toggleable__content\"><pre>SVC(C=10, gamma=0.1, random_state=42)</pre></div></div></div></div></div>"
     },
     "execution_count": 19,
     "metadata": {},
     "output_type": "execute_result"
    }
   ],
   "source": [
    "best_svc"
   ],
   "metadata": {
    "collapsed": false
   }
  },
  {
   "cell_type": "code",
   "execution_count": 21,
   "outputs": [
    {
     "name": "stderr",
     "output_type": "stream",
     "text": [
      "Using 18537 background data samples could cause slower run times. Consider using shap.sample(data, K) or shap.kmeans(data, K) to summarize the background as K samples.\n"
     ]
    },
    {
     "data": {
      "text/plain": "  0%|          | 0/2468 [00:00<?, ?it/s]",
      "application/vnd.jupyter.widget-view+json": {
       "version_major": 2,
       "version_minor": 0,
       "model_id": "ddec4b7865e1432084f024625a6d5025"
      }
     },
     "metadata": {},
     "output_type": "display_data"
    },
    {
     "ename": "KeyboardInterrupt",
     "evalue": "",
     "output_type": "error",
     "traceback": [
      "\u001B[1;31m---------------------------------------------------------------------------\u001B[0m",
      "\u001B[1;31mKeyboardInterrupt\u001B[0m                         Traceback (most recent call last)",
      "Cell \u001B[1;32mIn[21], line 3\u001B[0m\n\u001B[0;32m      1\u001B[0m \u001B[38;5;66;03m# Utilizza KernelExplainer\u001B[39;00m\n\u001B[0;32m      2\u001B[0m explainer \u001B[38;5;241m=\u001B[39m shap\u001B[38;5;241m.\u001B[39mKernelExplainer(best_svc\u001B[38;5;241m.\u001B[39mpredict, X_train_scaled)\n\u001B[1;32m----> 3\u001B[0m shap_values \u001B[38;5;241m=\u001B[39m \u001B[43mexplainer\u001B[49m\u001B[38;5;241;43m.\u001B[39;49m\u001B[43mshap_values\u001B[49m\u001B[43m(\u001B[49m\u001B[43mX_test_scaled\u001B[49m\u001B[43m)\u001B[49m\n\u001B[0;32m      5\u001B[0m \u001B[38;5;66;03m# Plot summary plot with all features\u001B[39;00m\n\u001B[0;32m      6\u001B[0m shap\u001B[38;5;241m.\u001B[39msummary_plot(shap_values, X_test_scaled, plot_type\u001B[38;5;241m=\u001B[39m\u001B[38;5;124m\"\u001B[39m\u001B[38;5;124mbar\u001B[39m\u001B[38;5;124m\"\u001B[39m, max_display\u001B[38;5;241m=\u001B[39m\u001B[38;5;241m28\u001B[39m, feature_names\u001B[38;5;241m=\u001B[39mX_test\u001B[38;5;241m.\u001B[39mcolumns)\n",
      "File \u001B[1;32mD:\\HDD Giovanni\\PycharmProjects\\provaTFdef\\venv\\lib\\site-packages\\shap\\explainers\\_kernel.py:244\u001B[0m, in \u001B[0;36mKernelExplainer.shap_values\u001B[1;34m(self, X, **kwargs)\u001B[0m\n\u001B[0;32m    242\u001B[0m \u001B[38;5;28;01mif\u001B[39;00m \u001B[38;5;28mself\u001B[39m\u001B[38;5;241m.\u001B[39mkeep_index:\n\u001B[0;32m    243\u001B[0m     data \u001B[38;5;241m=\u001B[39m convert_to_instance_with_index(data, column_name, index_value[i:i \u001B[38;5;241m+\u001B[39m \u001B[38;5;241m1\u001B[39m], index_name)\n\u001B[1;32m--> 244\u001B[0m explanations\u001B[38;5;241m.\u001B[39mappend(\u001B[38;5;28mself\u001B[39m\u001B[38;5;241m.\u001B[39mexplain(data, \u001B[38;5;241m*\u001B[39m\u001B[38;5;241m*\u001B[39mkwargs))\n\u001B[0;32m    245\u001B[0m \u001B[38;5;28;01mif\u001B[39;00m kwargs\u001B[38;5;241m.\u001B[39mget(\u001B[38;5;124m\"\u001B[39m\u001B[38;5;124mgc_collect\u001B[39m\u001B[38;5;124m\"\u001B[39m, \u001B[38;5;28;01mFalse\u001B[39;00m):\n\u001B[0;32m    246\u001B[0m     gc\u001B[38;5;241m.\u001B[39mcollect()\n",
      "File \u001B[1;32mD:\\HDD Giovanni\\PycharmProjects\\provaTFdef\\venv\\lib\\site-packages\\shap\\explainers\\_kernel.py:442\u001B[0m, in \u001B[0;36mKernelExplainer.explain\u001B[1;34m(self, incoming_instance, **kwargs)\u001B[0m\n\u001B[0;32m    439\u001B[0m     \u001B[38;5;28mself\u001B[39m\u001B[38;5;241m.\u001B[39mkernelWeights[nfixed_samples:] \u001B[38;5;241m*\u001B[39m\u001B[38;5;241m=\u001B[39m weight_left \u001B[38;5;241m/\u001B[39m \u001B[38;5;28mself\u001B[39m\u001B[38;5;241m.\u001B[39mkernelWeights[nfixed_samples:]\u001B[38;5;241m.\u001B[39msum()\n\u001B[0;32m    441\u001B[0m \u001B[38;5;66;03m# execute the model on the synthetic samples we have created\u001B[39;00m\n\u001B[1;32m--> 442\u001B[0m \u001B[38;5;28;43mself\u001B[39;49m\u001B[38;5;241;43m.\u001B[39;49m\u001B[43mrun\u001B[49m\u001B[43m(\u001B[49m\u001B[43m)\u001B[49m\n\u001B[0;32m    444\u001B[0m \u001B[38;5;66;03m# solve then expand the feature importance (Shapley value) vector to contain the non-varying features\u001B[39;00m\n\u001B[0;32m    445\u001B[0m phi \u001B[38;5;241m=\u001B[39m np\u001B[38;5;241m.\u001B[39mzeros((\u001B[38;5;28mself\u001B[39m\u001B[38;5;241m.\u001B[39mdata\u001B[38;5;241m.\u001B[39mgroups_size, \u001B[38;5;28mself\u001B[39m\u001B[38;5;241m.\u001B[39mD))\n",
      "File \u001B[1;32mD:\\HDD Giovanni\\PycharmProjects\\provaTFdef\\venv\\lib\\site-packages\\shap\\explainers\\_kernel.py:581\u001B[0m, in \u001B[0;36mKernelExplainer.run\u001B[1;34m(self)\u001B[0m\n\u001B[0;32m    579\u001B[0m     \u001B[38;5;28;01mif\u001B[39;00m \u001B[38;5;28mself\u001B[39m\u001B[38;5;241m.\u001B[39mkeep_index_ordered:\n\u001B[0;32m    580\u001B[0m         data \u001B[38;5;241m=\u001B[39m data\u001B[38;5;241m.\u001B[39msort_index()\n\u001B[1;32m--> 581\u001B[0m modelOut \u001B[38;5;241m=\u001B[39m \u001B[38;5;28;43mself\u001B[39;49m\u001B[38;5;241;43m.\u001B[39;49m\u001B[43mmodel\u001B[49m\u001B[38;5;241;43m.\u001B[39;49m\u001B[43mf\u001B[49m\u001B[43m(\u001B[49m\u001B[43mdata\u001B[49m\u001B[43m)\u001B[49m\n\u001B[0;32m    582\u001B[0m \u001B[38;5;28;01mif\u001B[39;00m \u001B[38;5;28misinstance\u001B[39m(modelOut, (pd\u001B[38;5;241m.\u001B[39mDataFrame, pd\u001B[38;5;241m.\u001B[39mSeries)):\n\u001B[0;32m    583\u001B[0m     modelOut \u001B[38;5;241m=\u001B[39m modelOut\u001B[38;5;241m.\u001B[39mvalues\n",
      "File \u001B[1;32mD:\\HDD Giovanni\\PycharmProjects\\provaTFdef\\venv\\lib\\site-packages\\sklearn\\svm\\_base.py:818\u001B[0m, in \u001B[0;36mBaseSVC.predict\u001B[1;34m(self, X)\u001B[0m\n\u001B[0;32m    816\u001B[0m     y \u001B[38;5;241m=\u001B[39m np\u001B[38;5;241m.\u001B[39margmax(\u001B[38;5;28mself\u001B[39m\u001B[38;5;241m.\u001B[39mdecision_function(X), axis\u001B[38;5;241m=\u001B[39m\u001B[38;5;241m1\u001B[39m)\n\u001B[0;32m    817\u001B[0m \u001B[38;5;28;01melse\u001B[39;00m:\n\u001B[1;32m--> 818\u001B[0m     y \u001B[38;5;241m=\u001B[39m \u001B[38;5;28;43msuper\u001B[39;49m\u001B[43m(\u001B[49m\u001B[43m)\u001B[49m\u001B[38;5;241;43m.\u001B[39;49m\u001B[43mpredict\u001B[49m\u001B[43m(\u001B[49m\u001B[43mX\u001B[49m\u001B[43m)\u001B[49m\n\u001B[0;32m    819\u001B[0m \u001B[38;5;28;01mreturn\u001B[39;00m \u001B[38;5;28mself\u001B[39m\u001B[38;5;241m.\u001B[39mclasses_\u001B[38;5;241m.\u001B[39mtake(np\u001B[38;5;241m.\u001B[39masarray(y, dtype\u001B[38;5;241m=\u001B[39mnp\u001B[38;5;241m.\u001B[39mintp))\n",
      "File \u001B[1;32mD:\\HDD Giovanni\\PycharmProjects\\provaTFdef\\venv\\lib\\site-packages\\sklearn\\svm\\_base.py:433\u001B[0m, in \u001B[0;36mBaseLibSVM.predict\u001B[1;34m(self, X)\u001B[0m\n\u001B[0;32m    431\u001B[0m X \u001B[38;5;241m=\u001B[39m \u001B[38;5;28mself\u001B[39m\u001B[38;5;241m.\u001B[39m_validate_for_predict(X)\n\u001B[0;32m    432\u001B[0m predict \u001B[38;5;241m=\u001B[39m \u001B[38;5;28mself\u001B[39m\u001B[38;5;241m.\u001B[39m_sparse_predict \u001B[38;5;28;01mif\u001B[39;00m \u001B[38;5;28mself\u001B[39m\u001B[38;5;241m.\u001B[39m_sparse \u001B[38;5;28;01melse\u001B[39;00m \u001B[38;5;28mself\u001B[39m\u001B[38;5;241m.\u001B[39m_dense_predict\n\u001B[1;32m--> 433\u001B[0m \u001B[38;5;28;01mreturn\u001B[39;00m \u001B[43mpredict\u001B[49m\u001B[43m(\u001B[49m\u001B[43mX\u001B[49m\u001B[43m)\u001B[49m\n",
      "File \u001B[1;32mD:\\HDD Giovanni\\PycharmProjects\\provaTFdef\\venv\\lib\\site-packages\\sklearn\\svm\\_base.py:452\u001B[0m, in \u001B[0;36mBaseLibSVM._dense_predict\u001B[1;34m(self, X)\u001B[0m\n\u001B[0;32m    444\u001B[0m         \u001B[38;5;28;01mraise\u001B[39;00m \u001B[38;5;167;01mValueError\u001B[39;00m(\n\u001B[0;32m    445\u001B[0m             \u001B[38;5;124m\"\u001B[39m\u001B[38;5;124mX.shape[1] = \u001B[39m\u001B[38;5;132;01m%d\u001B[39;00m\u001B[38;5;124m should be equal to \u001B[39m\u001B[38;5;132;01m%d\u001B[39;00m\u001B[38;5;124m, \u001B[39m\u001B[38;5;124m\"\u001B[39m\n\u001B[0;32m    446\u001B[0m             \u001B[38;5;124m\"\u001B[39m\u001B[38;5;124mthe number of samples at training time\u001B[39m\u001B[38;5;124m\"\u001B[39m\n\u001B[0;32m    447\u001B[0m             \u001B[38;5;241m%\u001B[39m (X\u001B[38;5;241m.\u001B[39mshape[\u001B[38;5;241m1\u001B[39m], \u001B[38;5;28mself\u001B[39m\u001B[38;5;241m.\u001B[39mshape_fit_[\u001B[38;5;241m0\u001B[39m])\n\u001B[0;32m    448\u001B[0m         )\n\u001B[0;32m    450\u001B[0m svm_type \u001B[38;5;241m=\u001B[39m LIBSVM_IMPL\u001B[38;5;241m.\u001B[39mindex(\u001B[38;5;28mself\u001B[39m\u001B[38;5;241m.\u001B[39m_impl)\n\u001B[1;32m--> 452\u001B[0m \u001B[38;5;28;01mreturn\u001B[39;00m \u001B[43mlibsvm\u001B[49m\u001B[38;5;241;43m.\u001B[39;49m\u001B[43mpredict\u001B[49m\u001B[43m(\u001B[49m\n\u001B[0;32m    453\u001B[0m \u001B[43m    \u001B[49m\u001B[43mX\u001B[49m\u001B[43m,\u001B[49m\n\u001B[0;32m    454\u001B[0m \u001B[43m    \u001B[49m\u001B[38;5;28;43mself\u001B[39;49m\u001B[38;5;241;43m.\u001B[39;49m\u001B[43msupport_\u001B[49m\u001B[43m,\u001B[49m\n\u001B[0;32m    455\u001B[0m \u001B[43m    \u001B[49m\u001B[38;5;28;43mself\u001B[39;49m\u001B[38;5;241;43m.\u001B[39;49m\u001B[43msupport_vectors_\u001B[49m\u001B[43m,\u001B[49m\n\u001B[0;32m    456\u001B[0m \u001B[43m    \u001B[49m\u001B[38;5;28;43mself\u001B[39;49m\u001B[38;5;241;43m.\u001B[39;49m\u001B[43m_n_support\u001B[49m\u001B[43m,\u001B[49m\n\u001B[0;32m    457\u001B[0m \u001B[43m    \u001B[49m\u001B[38;5;28;43mself\u001B[39;49m\u001B[38;5;241;43m.\u001B[39;49m\u001B[43m_dual_coef_\u001B[49m\u001B[43m,\u001B[49m\n\u001B[0;32m    458\u001B[0m \u001B[43m    \u001B[49m\u001B[38;5;28;43mself\u001B[39;49m\u001B[38;5;241;43m.\u001B[39;49m\u001B[43m_intercept_\u001B[49m\u001B[43m,\u001B[49m\n\u001B[0;32m    459\u001B[0m \u001B[43m    \u001B[49m\u001B[38;5;28;43mself\u001B[39;49m\u001B[38;5;241;43m.\u001B[39;49m\u001B[43m_probA\u001B[49m\u001B[43m,\u001B[49m\n\u001B[0;32m    460\u001B[0m \u001B[43m    \u001B[49m\u001B[38;5;28;43mself\u001B[39;49m\u001B[38;5;241;43m.\u001B[39;49m\u001B[43m_probB\u001B[49m\u001B[43m,\u001B[49m\n\u001B[0;32m    461\u001B[0m \u001B[43m    \u001B[49m\u001B[43msvm_type\u001B[49m\u001B[38;5;241;43m=\u001B[39;49m\u001B[43msvm_type\u001B[49m\u001B[43m,\u001B[49m\n\u001B[0;32m    462\u001B[0m \u001B[43m    \u001B[49m\u001B[43mkernel\u001B[49m\u001B[38;5;241;43m=\u001B[39;49m\u001B[43mkernel\u001B[49m\u001B[43m,\u001B[49m\n\u001B[0;32m    463\u001B[0m \u001B[43m    \u001B[49m\u001B[43mdegree\u001B[49m\u001B[38;5;241;43m=\u001B[39;49m\u001B[38;5;28;43mself\u001B[39;49m\u001B[38;5;241;43m.\u001B[39;49m\u001B[43mdegree\u001B[49m\u001B[43m,\u001B[49m\n\u001B[0;32m    464\u001B[0m \u001B[43m    \u001B[49m\u001B[43mcoef0\u001B[49m\u001B[38;5;241;43m=\u001B[39;49m\u001B[38;5;28;43mself\u001B[39;49m\u001B[38;5;241;43m.\u001B[39;49m\u001B[43mcoef0\u001B[49m\u001B[43m,\u001B[49m\n\u001B[0;32m    465\u001B[0m \u001B[43m    \u001B[49m\u001B[43mgamma\u001B[49m\u001B[38;5;241;43m=\u001B[39;49m\u001B[38;5;28;43mself\u001B[39;49m\u001B[38;5;241;43m.\u001B[39;49m\u001B[43m_gamma\u001B[49m\u001B[43m,\u001B[49m\n\u001B[0;32m    466\u001B[0m \u001B[43m    \u001B[49m\u001B[43mcache_size\u001B[49m\u001B[38;5;241;43m=\u001B[39;49m\u001B[38;5;28;43mself\u001B[39;49m\u001B[38;5;241;43m.\u001B[39;49m\u001B[43mcache_size\u001B[49m\u001B[43m,\u001B[49m\n\u001B[0;32m    467\u001B[0m \u001B[43m\u001B[49m\u001B[43m)\u001B[49m\n",
      "\u001B[1;31mKeyboardInterrupt\u001B[0m: "
     ]
    }
   ],
   "source": [
    "# Utilizza KernelExplainer\n",
    "explainer = shap.KernelExplainer(best_svc.predict, X_train_scaled)\n",
    "shap_values = explainer.shap_values(X_test_scaled)\n",
    "\n",
    "# Plot summary plot with all features\n",
    "shap.summary_plot(shap_values, X_test_scaled, plot_type=\"bar\", max_display=28, feature_names=X_test.columns)"
   ],
   "metadata": {
    "collapsed": false
   }
  },
  {
   "cell_type": "code",
   "execution_count": null,
   "outputs": [],
   "source": [],
   "metadata": {
    "collapsed": false
   }
  }
 ],
 "metadata": {
  "kernelspec": {
   "display_name": "Python 3",
   "language": "python",
   "name": "python3"
  },
  "language_info": {
   "codemirror_mode": {
    "name": "ipython",
    "version": 2
   },
   "file_extension": ".py",
   "mimetype": "text/x-python",
   "name": "python",
   "nbconvert_exporter": "python",
   "pygments_lexer": "ipython2",
   "version": "2.7.6"
  }
 },
 "nbformat": 4,
 "nbformat_minor": 0
}
