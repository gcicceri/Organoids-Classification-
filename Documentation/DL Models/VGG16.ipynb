{
  "cells": [
    {
      "cell_type": "code",
      "execution_count": null,
      "metadata": {
        "colab": {
          "base_uri": "https://localhost:8080/"
        },
        "id": "raD_DnQNLgvj",
        "outputId": "0f63fe3f-6ba2-4094-937a-670cbeeb96c0"
      },
      "outputs": [
        {
          "output_type": "stream",
          "name": "stdout",
          "text": [
            "Mounted at /content/drive\n"
          ]
        }
      ],
      "source": [
        "from google.colab import drive\n",
        "drive.mount('/content/drive')"
      ]
    },
    {
      "cell_type": "code",
      "source": [
        "import tensorflow as tf"
      ],
      "metadata": {
        "id": "2SkKU9mnDtff"
      },
      "execution_count": null,
      "outputs": []
    },
    {
      "cell_type": "code",
      "source": [
        "print('GPU name: ', tf.config.experimental.list_physical_devices('GPU'))"
      ],
      "metadata": {
        "colab": {
          "base_uri": "https://localhost:8080/"
        },
        "id": "CFRNDdrmJBlK",
        "outputId": "f56af1eb-4e87-425e-d175-b6117728382d"
      },
      "execution_count": null,
      "outputs": [
        {
          "output_type": "stream",
          "name": "stdout",
          "text": [
            "GPU name:  [PhysicalDevice(name='/physical_device:GPU:0', device_type='GPU')]\n"
          ]
        }
      ]
    },
    {
      "cell_type": "code",
      "source": [
        "from tensorflow.python.client import device_lib\n",
        "print(device_lib.list_local_devices())"
      ],
      "metadata": {
        "colab": {
          "base_uri": "https://localhost:8080/"
        },
        "id": "gGedaEkyAuiK",
        "outputId": "72426505-daba-430c-920a-d5391630d398"
      },
      "execution_count": null,
      "outputs": [
        {
          "output_type": "stream",
          "name": "stdout",
          "text": [
            "[name: \"/device:CPU:0\"\n",
            "device_type: \"CPU\"\n",
            "memory_limit: 268435456\n",
            "locality {\n",
            "}\n",
            "incarnation: 17279018139324793731\n",
            "xla_global_id: -1\n",
            ", name: \"/device:GPU:0\"\n",
            "device_type: \"GPU\"\n",
            "memory_limit: 15240134656\n",
            "locality {\n",
            "  bus_id: 1\n",
            "  links {\n",
            "  }\n",
            "}\n",
            "incarnation: 10874306262615197437\n",
            "physical_device_desc: \"device: 0, name: Tesla V100-SXM2-16GB, pci bus id: 0000:00:04.0, compute capability: 7.0\"\n",
            "xla_global_id: 416903419\n",
            "]\n"
          ]
        }
      ]
    },
    {
      "cell_type": "code",
      "execution_count": null,
      "metadata": {
        "id": "XQ2p4t5Nn2RP"
      },
      "outputs": [],
      "source": [
        "from tensorflow.keras.applications.vgg16 import VGG16"
      ]
    },
    {
      "cell_type": "code",
      "execution_count": null,
      "metadata": {
        "colab": {
          "base_uri": "https://localhost:8080/"
        },
        "id": "W5T7LOnBovDb",
        "outputId": "ac58b5c2-80c2-4bb4-cf50-710628a7de4e"
      },
      "outputs": [
        {
          "output_type": "stream",
          "name": "stdout",
          "text": [
            "Downloading data from https://storage.googleapis.com/tensorflow/keras-applications/vgg16/vgg16_weights_tf_dim_ordering_tf_kernels_notop.h5\n",
            "58889256/58889256 [==============================] - 2s 0us/step\n"
          ]
        }
      ],
      "source": [
        "base_model = VGG16(weights='imagenet', include_top=False, input_shape=(224, 224, 3))"
      ]
    },
    {
      "cell_type": "code",
      "execution_count": null,
      "metadata": {
        "id": "G3xZbV-5o804"
      },
      "outputs": [],
      "source": [
        "for layer in base_model.layers:\n",
        "    layer.trainable = False"
      ]
    },
    {
      "cell_type": "code",
      "execution_count": null,
      "metadata": {
        "id": "SYjbR0RUqV5t"
      },
      "outputs": [],
      "source": [
        "from tensorflow.keras.models import Model\n",
        "from tensorflow.keras.layers import GlobalAveragePooling2D, Dense\n",
        "\n",
        "x = base_model.output\n",
        "x = GlobalAveragePooling2D()(x)\n",
        "x = Dense(1024, activation='relu')(x)\n",
        "predictions = Dense(4, activation='softmax')(x)  # num_classes è il numero di classi nel tuo dataset\n",
        "\n",
        "model = Model(inputs=base_model.input, outputs=predictions)\n"
      ]
    },
    {
      "cell_type": "code",
      "source": [
        "# # Weights & Biases  (optional)\n",
        "# %pip install -q wandb\n",
        "# import wandb\n",
        "# wandb.login()\n",
        "\n",
        "!pip install wandb\n",
        "!wandb login\n",
        "import wandb\n",
        "\n",
        "!wandb enabled"
      ],
      "metadata": {
        "colab": {
          "base_uri": "https://localhost:8080/"
        },
        "id": "8HPT1sUQ1GSc",
        "outputId": "f5795ca1-46ef-42d6-83a7-2f8781f10aa4"
      },
      "execution_count": null,
      "outputs": [
        {
          "output_type": "stream",
          "name": "stdout",
          "text": [
            "Collecting wandb\n",
            "  Downloading wandb-0.15.11-py3-none-any.whl (2.1 MB)\n",
            "\u001b[2K     \u001b[90m━━━━━━━━━━━━━━━━━━━━━━━━━━━━━━━━━━━━━━━━\u001b[0m \u001b[32m2.1/2.1 MB\u001b[0m \u001b[31m14.5 MB/s\u001b[0m eta \u001b[36m0:00:00\u001b[0m\n",
            "\u001b[?25hRequirement already satisfied: Click!=8.0.0,>=7.1 in /usr/local/lib/python3.10/dist-packages (from wandb) (8.1.7)\n",
            "Collecting GitPython!=3.1.29,>=1.0.0 (from wandb)\n",
            "  Downloading GitPython-3.1.37-py3-none-any.whl (190 kB)\n",
            "\u001b[2K     \u001b[90m━━━━━━━━━━━━━━━━━━━━━━━━━━━━━━━━━━━━━━\u001b[0m \u001b[32m190.0/190.0 kB\u001b[0m \u001b[31m22.7 MB/s\u001b[0m eta \u001b[36m0:00:00\u001b[0m\n",
            "\u001b[?25hRequirement already satisfied: requests<3,>=2.0.0 in /usr/local/lib/python3.10/dist-packages (from wandb) (2.31.0)\n",
            "Requirement already satisfied: psutil>=5.0.0 in /usr/local/lib/python3.10/dist-packages (from wandb) (5.9.5)\n",
            "Collecting sentry-sdk>=1.0.0 (from wandb)\n",
            "  Downloading sentry_sdk-1.31.0-py2.py3-none-any.whl (224 kB)\n",
            "\u001b[2K     \u001b[90m━━━━━━━━━━━━━━━━━━━━━━━━━━━━━━━━━━━━━━\u001b[0m \u001b[32m224.8/224.8 kB\u001b[0m \u001b[31m17.0 MB/s\u001b[0m eta \u001b[36m0:00:00\u001b[0m\n",
            "\u001b[?25hCollecting docker-pycreds>=0.4.0 (from wandb)\n",
            "  Downloading docker_pycreds-0.4.0-py2.py3-none-any.whl (9.0 kB)\n",
            "Requirement already satisfied: PyYAML in /usr/local/lib/python3.10/dist-packages (from wandb) (6.0.1)\n",
            "Collecting pathtools (from wandb)\n",
            "  Downloading pathtools-0.1.2.tar.gz (11 kB)\n",
            "  Preparing metadata (setup.py) ... \u001b[?25l\u001b[?25hdone\n",
            "Collecting setproctitle (from wandb)\n",
            "  Downloading setproctitle-1.3.3-cp310-cp310-manylinux_2_5_x86_64.manylinux1_x86_64.manylinux_2_17_x86_64.manylinux2014_x86_64.whl (30 kB)\n",
            "Requirement already satisfied: setuptools in /usr/local/lib/python3.10/dist-packages (from wandb) (67.7.2)\n",
            "Requirement already satisfied: appdirs>=1.4.3 in /usr/local/lib/python3.10/dist-packages (from wandb) (1.4.4)\n",
            "Requirement already satisfied: protobuf!=4.21.0,<5,>=3.19.0 in /usr/local/lib/python3.10/dist-packages (from wandb) (3.20.3)\n",
            "Requirement already satisfied: six>=1.4.0 in /usr/local/lib/python3.10/dist-packages (from docker-pycreds>=0.4.0->wandb) (1.16.0)\n",
            "Collecting gitdb<5,>=4.0.1 (from GitPython!=3.1.29,>=1.0.0->wandb)\n",
            "  Downloading gitdb-4.0.10-py3-none-any.whl (62 kB)\n",
            "\u001b[2K     \u001b[90m━━━━━━━━━━━━━━━━━━━━━━━━━━━━━━━━━━━━━━━━\u001b[0m \u001b[32m62.7/62.7 kB\u001b[0m \u001b[31m7.3 MB/s\u001b[0m eta \u001b[36m0:00:00\u001b[0m\n",
            "\u001b[?25hRequirement already satisfied: charset-normalizer<4,>=2 in /usr/local/lib/python3.10/dist-packages (from requests<3,>=2.0.0->wandb) (3.2.0)\n",
            "Requirement already satisfied: idna<4,>=2.5 in /usr/local/lib/python3.10/dist-packages (from requests<3,>=2.0.0->wandb) (3.4)\n",
            "Requirement already satisfied: urllib3<3,>=1.21.1 in /usr/local/lib/python3.10/dist-packages (from requests<3,>=2.0.0->wandb) (2.0.5)\n",
            "Requirement already satisfied: certifi>=2017.4.17 in /usr/local/lib/python3.10/dist-packages (from requests<3,>=2.0.0->wandb) (2023.7.22)\n",
            "Collecting smmap<6,>=3.0.1 (from gitdb<5,>=4.0.1->GitPython!=3.1.29,>=1.0.0->wandb)\n",
            "  Downloading smmap-5.0.1-py3-none-any.whl (24 kB)\n",
            "Building wheels for collected packages: pathtools\n",
            "  Building wheel for pathtools (setup.py) ... \u001b[?25l\u001b[?25hdone\n",
            "  Created wheel for pathtools: filename=pathtools-0.1.2-py3-none-any.whl size=8791 sha256=1ab13e63114dba968fc6676d9c0dac11d14b25819957720fedda134cffb0f846\n",
            "  Stored in directory: /root/.cache/pip/wheels/e7/f3/22/152153d6eb222ee7a56ff8617d80ee5207207a8c00a7aab794\n",
            "Successfully built pathtools\n",
            "Installing collected packages: pathtools, smmap, setproctitle, sentry-sdk, docker-pycreds, gitdb, GitPython, wandb\n",
            "Successfully installed GitPython-3.1.37 docker-pycreds-0.4.0 gitdb-4.0.10 pathtools-0.1.2 sentry-sdk-1.31.0 setproctitle-1.3.3 smmap-5.0.1 wandb-0.15.11\n",
            "\u001b[34m\u001b[1mwandb\u001b[0m: Logging into wandb.ai. (Learn how to deploy a W&B server locally: https://wandb.me/wandb-server)\n",
            "\u001b[34m\u001b[1mwandb\u001b[0m: You can find your API key in your browser here: https://wandb.ai/authorize\n",
            "\u001b[34m\u001b[1mwandb\u001b[0m: Paste an API key from your profile and hit enter, or press ctrl+c to quit: \n",
            "\u001b[34m\u001b[1mwandb\u001b[0m: Appending key for api.wandb.ai to your netrc file: /root/.netrc\n",
            "W&B enabled.\n"
          ]
        }
      ]
    },
    {
      "cell_type": "code",
      "execution_count": null,
      "metadata": {
        "colab": {
          "base_uri": "https://localhost:8080/",
          "height": 159
        },
        "id": "dwL-yjMErXAo",
        "outputId": "8fa54857-a9bf-4a9e-c4f3-46700adb54e4"
      },
      "outputs": [
        {
          "output_type": "stream",
          "name": "stderr",
          "text": [
            "\u001b[34m\u001b[1mwandb\u001b[0m: Currently logged in as: \u001b[33mgcicceri\u001b[0m. Use \u001b[1m`wandb login --relogin`\u001b[0m to force relogin\n"
          ]
        },
        {
          "output_type": "display_data",
          "data": {
            "text/plain": [
              "<IPython.core.display.HTML object>"
            ],
            "text/html": [
              "Tracking run with wandb version 0.15.11"
            ]
          },
          "metadata": {}
        },
        {
          "output_type": "display_data",
          "data": {
            "text/plain": [
              "<IPython.core.display.HTML object>"
            ],
            "text/html": [
              "Run data is saved locally in <code>/content/wandb/run-20231004_075824-mpni809e</code>"
            ]
          },
          "metadata": {}
        },
        {
          "output_type": "display_data",
          "data": {
            "text/plain": [
              "<IPython.core.display.HTML object>"
            ],
            "text/html": [
              "Syncing run <strong><a href='https://wandb.ai/gcicceri/my-vgg16_new/runs/mpni809e' target=\"_blank\">upbeat-snowball-4</a></strong> to <a href='https://wandb.ai/gcicceri/my-vgg16_new' target=\"_blank\">Weights & Biases</a> (<a href='https://wandb.me/run' target=\"_blank\">docs</a>)<br/>"
            ]
          },
          "metadata": {}
        },
        {
          "output_type": "display_data",
          "data": {
            "text/plain": [
              "<IPython.core.display.HTML object>"
            ],
            "text/html": [
              " View project at <a href='https://wandb.ai/gcicceri/my-vgg16_new' target=\"_blank\">https://wandb.ai/gcicceri/my-vgg16_new</a>"
            ]
          },
          "metadata": {}
        },
        {
          "output_type": "display_data",
          "data": {
            "text/plain": [
              "<IPython.core.display.HTML object>"
            ],
            "text/html": [
              " View run at <a href='https://wandb.ai/gcicceri/my-vgg16_new/runs/mpni809e' target=\"_blank\">https://wandb.ai/gcicceri/my-vgg16_new/runs/mpni809e</a>"
            ]
          },
          "metadata": {}
        },
        {
          "output_type": "stream",
          "name": "stderr",
          "text": [
            "WARNING:absl:`lr` is deprecated in Keras optimizer, please use `learning_rate` or use the legacy optimizer, e.g.,tf.keras.optimizers.legacy.Adam.\n"
          ]
        }
      ],
      "source": [
        "from tensorflow.keras.preprocessing.image import ImageDataGenerator\n",
        "from tensorflow.keras.optimizers import Adam\n",
        "from tensorflow.keras.preprocessing import image\n",
        "from tensorflow.keras.applications.densenet import preprocess_input, decode_predictions\n",
        "\n",
        "run = wandb.init(\n",
        "    # Set the project where this run will be logged\n",
        "    project=\"my-vgg16_new\")\n",
        "\n",
        "batch_size = 256\n",
        "num_epochs = 40\n",
        "\n",
        "\n",
        "# Definisci l'ottimizzatore\n",
        "optimizer = Adam(lr=0.001)\n",
        "\n",
        "# Compila il modello\n",
        "model.compile(optimizer=optimizer, loss='categorical_crossentropy', metrics=['accuracy'])\n",
        "\n",
        "# Specifica i percorsi delle cartelle di addestramento e validazione\n",
        "train_data_dir = '/content/drive/MyDrive/ORGANOIDS_EXPERIMENTS/Final_Organoids_Dataset/train_folder'\n",
        "val_data_dir = '/content/drive/MyDrive/ORGANOIDS_EXPERIMENTS/Final_Organoids_Dataset/val_folder'"
      ]
    },
    {
      "cell_type": "code",
      "execution_count": null,
      "metadata": {
        "colab": {
          "base_uri": "https://localhost:8080/"
        },
        "id": "b-S7Rs6TqWRt",
        "outputId": "56cb75e4-1347-43ef-8d97-a3d3a6615762"
      },
      "outputs": [
        {
          "output_type": "stream",
          "name": "stdout",
          "text": [
            "Found 18537 images belonging to 4 classes.\n",
            "Found 2058 images belonging to 4 classes.\n"
          ]
        }
      ],
      "source": [
        "# Utilizza l'ImageDataGenerator per la generazione di dati\n",
        "train_datagen = ImageDataGenerator(preprocessing_function=preprocess_input)\n",
        "val_datagen = ImageDataGenerator(preprocessing_function=preprocess_input)\n",
        "\n",
        "# Definisci i generatori di dati per l'addestramento e la validazione\n",
        "train_generator = train_datagen.flow_from_directory(\n",
        "    train_data_dir,\n",
        "    target_size=(224, 224),\n",
        "    batch_size=batch_size,\n",
        "    class_mode='categorical'\n",
        ")\n",
        "\n",
        "val_generator = val_datagen.flow_from_directory(\n",
        "    val_data_dir,\n",
        "    target_size=(224, 224),\n",
        "    batch_size=batch_size,\n",
        "    class_mode='categorical'\n",
        ")\n"
      ]
    },
    {
      "cell_type": "code",
      "execution_count": null,
      "metadata": {
        "id": "PObOxcVCqWTR"
      },
      "outputs": [],
      "source": [
        "# Esegui il fine-tuning del modello\n",
        "#history = model.fit(train_generator, steps_per_epoch=train_generator.n // batch_size, epochs=num_epochs, validation_data=val_generator, validation_steps=val_generator.n // batch_size)"
      ]
    },
    {
      "cell_type": "code",
      "source": [
        "import time\n",
        "from keras.callbacks import ModelCheckpoint\n",
        "\n",
        "# Define the ModelCheckpoint callback\n",
        "checkpoint_filepath = '/content/best_model.h5'\n",
        "model_checkpoint_callback = ModelCheckpoint(\n",
        "    filepath=checkpoint_filepath,\n",
        "    save_weights_only=False,\n",
        "    monitor='val_loss',\n",
        "    mode='min',\n",
        "    save_best_only=True,\n",
        "    verbose=1\n",
        ")\n",
        "\n",
        "# Start measuring time\n",
        "start_time = time.time()\n",
        "\n",
        "# Train the model\n",
        "history = model.fit(\n",
        "    train_generator,\n",
        "    steps_per_epoch=train_generator.n // batch_size,\n",
        "    epochs=num_epochs,\n",
        "    validation_data=val_generator,\n",
        "    validation_steps=val_generator.n // batch_size,\n",
        "    callbacks=[model_checkpoint_callback]  # Add the ModelCheckpoint to the callbacks list\n",
        ")\n",
        "\n",
        "# End measuring time\n",
        "end_time = time.time()\n",
        "\n",
        "# Calculate computational cost\n",
        "computational_cost = end_time - start_time\n",
        "\n",
        "# Print computational cost\n",
        "print(f\"Computational cost for model.fit: {computational_cost} seconds\")\n"
      ],
      "metadata": {
        "id": "nt3cXRQ4w39J",
        "colab": {
          "base_uri": "https://localhost:8080/"
        },
        "outputId": "d84d583d-33f2-4539-edea-e74fc1dc3209"
      },
      "execution_count": null,
      "outputs": [
        {
          "output_type": "stream",
          "name": "stdout",
          "text": [
            "Epoch 1/40\n",
            "72/72 [==============================] - ETA: 0s - loss: 0.7032 - accuracy: 0.7284  \n",
            "Epoch 1: val_loss improved from inf to 0.55203, saving model to /content/best_model.h5\n",
            "72/72 [==============================] - 9045s 126s/step - loss: 0.7032 - accuracy: 0.7284 - val_loss: 0.5520 - val_accuracy: 0.7812\n",
            "Epoch 2/40\n"
          ]
        },
        {
          "output_type": "stream",
          "name": "stderr",
          "text": [
            "/usr/local/lib/python3.10/dist-packages/keras/src/engine/training.py:3000: UserWarning: You are saving your model as an HDF5 file via `model.save()`. This file format is considered legacy. We recommend using instead the native Keras format, e.g. `model.save('my_model.keras')`.\n",
            "  saving_api.save_model(\n"
          ]
        },
        {
          "output_type": "stream",
          "name": "stdout",
          "text": [
            "72/72 [==============================] - ETA: 0s - loss: 0.5441 - accuracy: 0.7880\n",
            "Epoch 2: val_loss improved from 0.55203 to 0.48979, saving model to /content/best_model.h5\n",
            "72/72 [==============================] - 78s 1s/step - loss: 0.5441 - accuracy: 0.7880 - val_loss: 0.4898 - val_accuracy: 0.8003\n",
            "Epoch 3/40\n",
            "72/72 [==============================] - ETA: 0s - loss: 0.5172 - accuracy: 0.7978\n",
            "Epoch 3: val_loss improved from 0.48979 to 0.47652, saving model to /content/best_model.h5\n",
            "72/72 [==============================] - 78s 1s/step - loss: 0.5172 - accuracy: 0.7978 - val_loss: 0.4765 - val_accuracy: 0.8047\n",
            "Epoch 4/40\n",
            "72/72 [==============================] - ETA: 0s - loss: 0.4894 - accuracy: 0.8077\n",
            "Epoch 4: val_loss improved from 0.47652 to 0.45466, saving model to /content/best_model.h5\n",
            "72/72 [==============================] - 77s 1s/step - loss: 0.4894 - accuracy: 0.8077 - val_loss: 0.4547 - val_accuracy: 0.8232\n",
            "Epoch 5/40\n",
            "72/72 [==============================] - ETA: 0s - loss: 0.4673 - accuracy: 0.8157\n",
            "Epoch 5: val_loss did not improve from 0.45466\n",
            "72/72 [==============================] - 77s 1s/step - loss: 0.4673 - accuracy: 0.8157 - val_loss: 0.4602 - val_accuracy: 0.8164\n",
            "Epoch 6/40\n",
            "72/72 [==============================] - ETA: 0s - loss: 0.4606 - accuracy: 0.8151\n",
            "Epoch 6: val_loss improved from 0.45466 to 0.43989, saving model to /content/best_model.h5\n",
            "72/72 [==============================] - 77s 1s/step - loss: 0.4606 - accuracy: 0.8151 - val_loss: 0.4399 - val_accuracy: 0.8213\n",
            "Epoch 7/40\n",
            "72/72 [==============================] - ETA: 0s - loss: 0.4489 - accuracy: 0.8235\n",
            "Epoch 7: val_loss improved from 0.43989 to 0.43090, saving model to /content/best_model.h5\n",
            "72/72 [==============================] - 77s 1s/step - loss: 0.4489 - accuracy: 0.8235 - val_loss: 0.4309 - val_accuracy: 0.8257\n",
            "Epoch 8/40\n",
            "72/72 [==============================] - ETA: 0s - loss: 0.4408 - accuracy: 0.8241\n",
            "Epoch 8: val_loss did not improve from 0.43090\n",
            "72/72 [==============================] - 77s 1s/step - loss: 0.4408 - accuracy: 0.8241 - val_loss: 0.4444 - val_accuracy: 0.8213\n",
            "Epoch 9/40\n",
            "72/72 [==============================] - ETA: 0s - loss: 0.4388 - accuracy: 0.8264\n",
            "Epoch 9: val_loss did not improve from 0.43090\n",
            "72/72 [==============================] - 77s 1s/step - loss: 0.4388 - accuracy: 0.8264 - val_loss: 0.4378 - val_accuracy: 0.8320\n",
            "Epoch 10/40\n",
            "72/72 [==============================] - ETA: 0s - loss: 0.4258 - accuracy: 0.8322\n",
            "Epoch 10: val_loss improved from 0.43090 to 0.42088, saving model to /content/best_model.h5\n",
            "72/72 [==============================] - 77s 1s/step - loss: 0.4258 - accuracy: 0.8322 - val_loss: 0.4209 - val_accuracy: 0.8350\n",
            "Epoch 11/40\n",
            "72/72 [==============================] - ETA: 0s - loss: 0.4212 - accuracy: 0.8343\n",
            "Epoch 11: val_loss improved from 0.42088 to 0.41342, saving model to /content/best_model.h5\n",
            "72/72 [==============================] - 76s 1s/step - loss: 0.4212 - accuracy: 0.8343 - val_loss: 0.4134 - val_accuracy: 0.8340\n",
            "Epoch 12/40\n",
            "72/72 [==============================] - ETA: 0s - loss: 0.4159 - accuracy: 0.8343\n",
            "Epoch 12: val_loss did not improve from 0.41342\n",
            "72/72 [==============================] - 77s 1s/step - loss: 0.4159 - accuracy: 0.8343 - val_loss: 0.4150 - val_accuracy: 0.8340\n",
            "Epoch 13/40\n",
            "72/72 [==============================] - ETA: 0s - loss: 0.4111 - accuracy: 0.8346\n",
            "Epoch 13: val_loss did not improve from 0.41342\n",
            "72/72 [==============================] - 78s 1s/step - loss: 0.4111 - accuracy: 0.8346 - val_loss: 0.4336 - val_accuracy: 0.8247\n",
            "Epoch 14/40\n",
            "72/72 [==============================] - ETA: 0s - loss: 0.4075 - accuracy: 0.8396\n",
            "Epoch 14: val_loss improved from 0.41342 to 0.40574, saving model to /content/best_model.h5\n",
            "72/72 [==============================] - 77s 1s/step - loss: 0.4075 - accuracy: 0.8396 - val_loss: 0.4057 - val_accuracy: 0.8325\n",
            "Epoch 15/40\n",
            "72/72 [==============================] - ETA: 0s - loss: 0.4008 - accuracy: 0.8427\n",
            "Epoch 15: val_loss improved from 0.40574 to 0.40097, saving model to /content/best_model.h5\n",
            "72/72 [==============================] - 76s 1s/step - loss: 0.4008 - accuracy: 0.8427 - val_loss: 0.4010 - val_accuracy: 0.8413\n",
            "Epoch 16/40\n",
            "72/72 [==============================] - ETA: 0s - loss: 0.3911 - accuracy: 0.8449\n",
            "Epoch 16: val_loss did not improve from 0.40097\n",
            "72/72 [==============================] - 77s 1s/step - loss: 0.3911 - accuracy: 0.8449 - val_loss: 0.4149 - val_accuracy: 0.8364\n",
            "Epoch 17/40\n",
            "72/72 [==============================] - ETA: 0s - loss: 0.3943 - accuracy: 0.8417\n",
            "Epoch 17: val_loss did not improve from 0.40097\n",
            "72/72 [==============================] - 78s 1s/step - loss: 0.3943 - accuracy: 0.8417 - val_loss: 0.4141 - val_accuracy: 0.8340\n",
            "Epoch 18/40\n",
            "72/72 [==============================] - ETA: 0s - loss: 0.3919 - accuracy: 0.8460\n",
            "Epoch 18: val_loss improved from 0.40097 to 0.39976, saving model to /content/best_model.h5\n",
            "72/72 [==============================] - 77s 1s/step - loss: 0.3919 - accuracy: 0.8460 - val_loss: 0.3998 - val_accuracy: 0.8389\n",
            "Epoch 19/40\n",
            "72/72 [==============================] - ETA: 0s - loss: 0.3806 - accuracy: 0.8480\n",
            "Epoch 19: val_loss did not improve from 0.39976\n",
            "72/72 [==============================] - 77s 1s/step - loss: 0.3806 - accuracy: 0.8480 - val_loss: 0.4052 - val_accuracy: 0.8398\n",
            "Epoch 20/40\n",
            "72/72 [==============================] - ETA: 0s - loss: 0.3843 - accuracy: 0.8481\n",
            "Epoch 20: val_loss did not improve from 0.39976\n",
            "72/72 [==============================] - 77s 1s/step - loss: 0.3843 - accuracy: 0.8481 - val_loss: 0.4146 - val_accuracy: 0.8384\n",
            "Epoch 21/40\n",
            "72/72 [==============================] - ETA: 0s - loss: 0.3797 - accuracy: 0.8479\n",
            "Epoch 21: val_loss did not improve from 0.39976\n",
            "72/72 [==============================] - 77s 1s/step - loss: 0.3797 - accuracy: 0.8479 - val_loss: 0.4073 - val_accuracy: 0.8320\n",
            "Epoch 22/40\n",
            "72/72 [==============================] - ETA: 0s - loss: 0.3765 - accuracy: 0.8498\n",
            "Epoch 22: val_loss did not improve from 0.39976\n",
            "72/72 [==============================] - 78s 1s/step - loss: 0.3765 - accuracy: 0.8498 - val_loss: 0.4016 - val_accuracy: 0.8452\n",
            "Epoch 23/40\n",
            "72/72 [==============================] - ETA: 0s - loss: 0.3698 - accuracy: 0.8549\n",
            "Epoch 23: val_loss did not improve from 0.39976\n",
            "72/72 [==============================] - 78s 1s/step - loss: 0.3698 - accuracy: 0.8549 - val_loss: 0.4184 - val_accuracy: 0.8320\n",
            "Epoch 24/40\n",
            "72/72 [==============================] - ETA: 0s - loss: 0.3742 - accuracy: 0.8524\n",
            "Epoch 24: val_loss did not improve from 0.39976\n",
            "72/72 [==============================] - 78s 1s/step - loss: 0.3742 - accuracy: 0.8524 - val_loss: 0.4326 - val_accuracy: 0.8281\n",
            "Epoch 25/40\n",
            "72/72 [==============================] - ETA: 0s - loss: 0.3790 - accuracy: 0.8480\n",
            "Epoch 25: val_loss did not improve from 0.39976\n",
            "72/72 [==============================] - 78s 1s/step - loss: 0.3790 - accuracy: 0.8480 - val_loss: 0.4453 - val_accuracy: 0.8208\n",
            "Epoch 26/40\n",
            "72/72 [==============================] - ETA: 0s - loss: 0.3737 - accuracy: 0.8516\n",
            "Epoch 26: val_loss did not improve from 0.39976\n",
            "72/72 [==============================] - 77s 1s/step - loss: 0.3737 - accuracy: 0.8516 - val_loss: 0.4125 - val_accuracy: 0.8408\n",
            "Epoch 27/40\n",
            "72/72 [==============================] - ETA: 0s - loss: 0.3578 - accuracy: 0.8590\n",
            "Epoch 27: val_loss improved from 0.39976 to 0.38812, saving model to /content/best_model.h5\n",
            "72/72 [==============================] - 77s 1s/step - loss: 0.3578 - accuracy: 0.8590 - val_loss: 0.3881 - val_accuracy: 0.8462\n",
            "Epoch 28/40\n",
            "72/72 [==============================] - ETA: 0s - loss: 0.3613 - accuracy: 0.8558\n",
            "Epoch 28: val_loss did not improve from 0.38812\n",
            "72/72 [==============================] - 77s 1s/step - loss: 0.3613 - accuracy: 0.8558 - val_loss: 0.4173 - val_accuracy: 0.8374\n",
            "Epoch 29/40\n",
            "72/72 [==============================] - ETA: 0s - loss: 0.3536 - accuracy: 0.8614\n",
            "Epoch 29: val_loss did not improve from 0.38812\n",
            "72/72 [==============================] - 78s 1s/step - loss: 0.3536 - accuracy: 0.8614 - val_loss: 0.3967 - val_accuracy: 0.8452\n",
            "Epoch 30/40\n",
            "72/72 [==============================] - ETA: 0s - loss: 0.3525 - accuracy: 0.8616\n",
            "Epoch 30: val_loss did not improve from 0.38812\n",
            "72/72 [==============================] - 77s 1s/step - loss: 0.3525 - accuracy: 0.8616 - val_loss: 0.4236 - val_accuracy: 0.8423\n",
            "Epoch 31/40\n",
            "72/72 [==============================] - ETA: 0s - loss: 0.3488 - accuracy: 0.8637\n",
            "Epoch 31: val_loss did not improve from 0.38812\n",
            "72/72 [==============================] - 77s 1s/step - loss: 0.3488 - accuracy: 0.8637 - val_loss: 0.4189 - val_accuracy: 0.8286\n",
            "Epoch 32/40\n",
            "72/72 [==============================] - ETA: 0s - loss: 0.3576 - accuracy: 0.8576\n",
            "Epoch 32: val_loss did not improve from 0.38812\n",
            "72/72 [==============================] - 77s 1s/step - loss: 0.3576 - accuracy: 0.8576 - val_loss: 0.4060 - val_accuracy: 0.8403\n",
            "Epoch 33/40\n",
            "72/72 [==============================] - ETA: 0s - loss: 0.3453 - accuracy: 0.8643\n",
            "Epoch 33: val_loss did not improve from 0.38812\n",
            "72/72 [==============================] - 78s 1s/step - loss: 0.3453 - accuracy: 0.8643 - val_loss: 0.3998 - val_accuracy: 0.8442\n",
            "Epoch 34/40\n",
            "72/72 [==============================] - ETA: 0s - loss: 0.3415 - accuracy: 0.8655\n",
            "Epoch 34: val_loss did not improve from 0.38812\n",
            "72/72 [==============================] - 77s 1s/step - loss: 0.3415 - accuracy: 0.8655 - val_loss: 0.3911 - val_accuracy: 0.8496\n",
            "Epoch 35/40\n",
            "72/72 [==============================] - ETA: 0s - loss: 0.3376 - accuracy: 0.8664\n",
            "Epoch 35: val_loss improved from 0.38812 to 0.38490, saving model to /content/best_model.h5\n",
            "72/72 [==============================] - 77s 1s/step - loss: 0.3376 - accuracy: 0.8664 - val_loss: 0.3849 - val_accuracy: 0.8457\n",
            "Epoch 36/40\n",
            "72/72 [==============================] - ETA: 0s - loss: 0.3399 - accuracy: 0.8642\n",
            "Epoch 36: val_loss did not improve from 0.38490\n",
            "72/72 [==============================] - 78s 1s/step - loss: 0.3399 - accuracy: 0.8642 - val_loss: 0.3896 - val_accuracy: 0.8496\n",
            "Epoch 37/40\n",
            "72/72 [==============================] - ETA: 0s - loss: 0.3338 - accuracy: 0.8678\n",
            "Epoch 37: val_loss did not improve from 0.38490\n",
            "72/72 [==============================] - 78s 1s/step - loss: 0.3338 - accuracy: 0.8678 - val_loss: 0.3886 - val_accuracy: 0.8477\n",
            "Epoch 38/40\n",
            "72/72 [==============================] - ETA: 0s - loss: 0.3312 - accuracy: 0.8692\n",
            "Epoch 38: val_loss did not improve from 0.38490\n",
            "72/72 [==============================] - 77s 1s/step - loss: 0.3312 - accuracy: 0.8692 - val_loss: 0.4105 - val_accuracy: 0.8433\n",
            "Epoch 39/40\n",
            "72/72 [==============================] - ETA: 0s - loss: 0.3318 - accuracy: 0.8683\n",
            "Epoch 39: val_loss did not improve from 0.38490\n",
            "72/72 [==============================] - 77s 1s/step - loss: 0.3318 - accuracy: 0.8683 - val_loss: 0.4034 - val_accuracy: 0.8472\n",
            "Epoch 40/40\n",
            "72/72 [==============================] - ETA: 0s - loss: 0.3354 - accuracy: 0.8681\n",
            "Epoch 40: val_loss did not improve from 0.38490\n",
            "72/72 [==============================] - 77s 1s/step - loss: 0.3354 - accuracy: 0.8681 - val_loss: 0.4040 - val_accuracy: 0.8418\n",
            "Computational cost for model.fit: 12178.896500349045 seconds\n"
          ]
        }
      ]
    },
    {
      "cell_type": "code",
      "execution_count": null,
      "metadata": {
        "id": "wRQol1c4sstW"
      },
      "outputs": [],
      "source": [
        "#track the curve\n",
        "train_loss = history.history['loss']\n",
        "val_loss = history.history['val_loss']\n",
        "train_acc = history.history['accuracy']\n",
        "val_acc = history.history['val_accuracy']"
      ]
    },
    {
      "cell_type": "code",
      "source": [
        "import matplotlib.pyplot as plt\n",
        "\n",
        "# Assuming you have defined train_loss, val_loss, train_acc, and val_acc\n",
        "\n",
        "epochs = range(1, len(train_loss) + 1)\n",
        "\n",
        "# Plot and save the loss figure with 600 DPI\n",
        "plt.plot(epochs, train_loss, 'b-', label='Training')\n",
        "plt.plot(epochs, val_loss, 'r-', label='Validation')\n",
        "plt.title('Loss')\n",
        "plt.xlabel('Epoch')\n",
        "plt.ylabel('Loss')\n",
        "plt.legend()\n",
        "\n",
        "# Save the figure in a suitable format (e.g., PNG) with 600 DPI for line drawings\n",
        "plt.savefig('loss_plot_line_drawings.png', format='png', dpi=600, bbox_inches='tight')\n",
        "plt.show()\n",
        "\n",
        "# Plot and save the accuracy figure with 600 DPI\n",
        "plt.plot(epochs, train_acc, 'b-', label='Training')\n",
        "plt.plot(epochs, val_acc, 'r-', label='Validation')\n",
        "plt.title('Accuracy')\n",
        "plt.xlabel('Epoch')\n",
        "plt.ylabel('Accuracy')\n",
        "plt.legend()\n",
        "\n",
        "# Save the figure in a suitable format (e.g., PNG) with 600 DPI for line drawings\n",
        "plt.savefig('accuracy_plot_line_drawings.png', format='png', dpi=600, bbox_inches='tight')\n",
        "plt.show()\n"
      ],
      "metadata": {
        "colab": {
          "base_uri": "https://localhost:8080/",
          "height": 927
        },
        "id": "XwMZA_1QTEYc",
        "outputId": "f559aaf5-324a-4618-d4b7-42d8aefd2f20"
      },
      "execution_count": null,
      "outputs": [
        {
          "output_type": "display_data",
          "data": {
            "text/plain": [
              "<Figure size 640x480 with 1 Axes>"
            ],
            "image/png": "[encoded data removed]"
          },
          "metadata": {}
        },
        {
          "output_type": "display_data",
          "data": {
            "text/plain": [
              "<Figure size 640x480 with 1 Axes>"
            ],
            "image/png": "[encoded data removed]"
          },
          "metadata": {}
        }
      ]
    },
    {
      "cell_type": "code",
      "execution_count": null,
      "metadata": {
        "id": "RDFbMzoYqWVr",
        "colab": {
          "base_uri": "https://localhost:8080/"
        },
        "outputId": "ece6b97c-1456-4cb3-daef-c4ef795a2007"
      },
      "outputs": [
        {
          "output_type": "stream",
          "name": "stdout",
          "text": [
            "Found 2468 images belonging to 4 classes.\n"
          ]
        }
      ],
      "source": [
        "from tensorflow.keras.preprocessing.image import ImageDataGenerator\n",
        "\n",
        "test_data_dir = '/content/drive/MyDrive/ORGANOIDS_EXPERIMENTS/Final_Organoids_Dataset/test_folder'\n",
        "\n",
        "test_datagen = ImageDataGenerator(preprocessing_function=preprocess_input)\n",
        "\n",
        "test_generator = test_datagen.flow_from_directory(\n",
        "    test_data_dir,\n",
        "    target_size=(224, 224),\n",
        "    batch_size=batch_size,\n",
        "    class_mode='categorical',\n",
        "    shuffle=False\n",
        ")\n"
      ]
    },
    {
      "cell_type": "code",
      "source": [
        "import time\n",
        "import numpy as np\n",
        "\n",
        "# Start measuring time\n",
        "start_time = time.time()\n",
        "\n",
        "# Assuming you have defined test_generator and model as mentioned in your code\n",
        "# This is just for measuring the time spent on loading data and making predictions\n",
        "\n",
        "# Load true labels\n",
        "y_true = test_generator.classes  # Etichette reali\n",
        "\n",
        "# Make predictions\n",
        "y_pred = model.predict(test_generator)  # Previsioni del modello\n",
        "\n",
        "# Calculate predicted classes\n",
        "y_pred_classes = np.argmax(y_pred, axis=1)  # Classi predette\n",
        "\n",
        "# End measuring time\n",
        "end_time = time.time()\n",
        "\n",
        "# Calculate computational cost\n",
        "computational_cost = end_time - start_time\n",
        "\n",
        "# Print computational cost\n",
        "print(f\"Computational cost: {computational_cost} seconds\")"
      ],
      "metadata": {
        "colab": {
          "base_uri": "https://localhost:8080/"
        },
        "id": "quCOfzoqXTxN",
        "outputId": "6dba06fa-602d-415c-c68e-b59aa9477baa"
      },
      "execution_count": null,
      "outputs": [
        {
          "output_type": "stream",
          "name": "stdout",
          "text": [
            "10/10 [==============================] - 531s 59s/step\n",
            "Computational cost: 546.9195234775543 seconds\n"
          ]
        }
      ]
    },
    {
      "cell_type": "code",
      "source": [
        "#DA PROVARE\n",
        "\n",
        "import time\n",
        "import numpy as np\n",
        "from keras.models import load_model\n",
        "\n",
        "# Load the best model\n",
        "model_path = '/content/best_model.h5'\n",
        "model = load_model(model_path)\n",
        "\n",
        "# Start measuring time\n",
        "start_time = time.time()\n",
        "\n",
        "# Assuming you have defined test_generator\n",
        "# This is just for measuring the time spent on loading data and making predictions\n",
        "\n",
        "# Load true labels\n",
        "y_true = test_generator.classes  # Etichette reali\n",
        "\n",
        "# Make predictions\n",
        "y_pred = model.predict(test_generator)  # Previsioni del modello\n",
        "\n",
        "# Calculate predicted classes\n",
        "y_pred_classes = np.argmax(y_pred, axis=1)  # Classi predette\n",
        "\n",
        "# End measuring time\n",
        "end_time = time.time()\n",
        "\n",
        "# Calculate computational cost\n",
        "computational_cost = end_time - start_time\n",
        "\n",
        "# Print computational cost\n",
        "print(f\"Computational cost: {computational_cost} seconds\")\n"
      ],
      "metadata": {
        "id": "_V94YImE4fJy",
        "colab": {
          "base_uri": "https://localhost:8080/"
        },
        "outputId": "f46cf02f-1314-45fd-f465-043ab59a7f94"
      },
      "execution_count": null,
      "outputs": [
        {
          "output_type": "stream",
          "name": "stdout",
          "text": [
            "10/10 [==============================] - 9s 923ms/step\n",
            "Computational cost: 10.633018255233765 seconds\n"
          ]
        }
      ]
    },
    {
      "cell_type": "code",
      "execution_count": null,
      "metadata": {
        "id": "Q6OHGBcPLlY-",
        "colab": {
          "base_uri": "https://localhost:8080/"
        },
        "outputId": "12160988-aea5-44e3-a41d-a248666b90d1"
      },
      "outputs": [
        {
          "output_type": "execute_result",
          "data": {
            "text/plain": [
              "array([[9.9611193e-01, 3.5178373e-03, 5.5590554e-08, 3.7018341e-04],\n",
              "       [9.4420159e-01, 2.1043324e-03, 1.1860520e-05, 5.3682156e-02],\n",
              "       [9.5350206e-01, 1.1666251e-02, 5.1586620e-05, 3.4780085e-02],\n",
              "       ...,\n",
              "       [9.5547980e-01, 1.9551191e-02, 3.5781690e-05, 2.4933267e-02],\n",
              "       [9.0941197e-01, 4.5677569e-02, 3.8958841e-04, 4.4520814e-02],\n",
              "       [5.4487282e-01, 5.1634968e-03, 6.0298975e-05, 4.4990334e-01]],\n",
              "      dtype=float32)"
            ]
          },
          "metadata": {},
          "execution_count": 18
        }
      ],
      "source": [
        "y_pred"
      ]
    },
    {
      "cell_type": "code",
      "source": [
        "import matplotlib.pyplot as plt\n",
        "from sklearn.metrics import roc_curve, auc\n",
        "from sklearn.preprocessing import label_binarize\n",
        "from sklearn.metrics import roc_auc_score\n",
        "\n",
        "# Assuming you have defined y_true and y_pred_classes as described in your code\n",
        "# y_true contains true labels, and y_pred_classes contains predicted classes\n",
        "\n",
        "# Binarize the true labels (one-hot encoding)\n",
        "n_classes = len(np.unique(y_true))\n",
        "y_true_bin = label_binarize(y_true, classes=np.arange(n_classes))\n",
        "\n",
        "# Compute ROC curve and ROC area for each class\n",
        "fpr = dict()\n",
        "tpr = dict()\n",
        "roc_auc = dict()\n",
        "for i in range(n_classes):\n",
        "    fpr[i], tpr[i], _ = roc_curve(y_true_bin[:, i], y_pred[:, i])\n",
        "    roc_auc[i] = auc(fpr[i], tpr[i])\n",
        "\n",
        "# Compute micro-average ROC curve and ROC area\n",
        "fpr[\"micro\"], tpr[\"micro\"], _ = roc_curve(y_true_bin.ravel(), y_pred.ravel())\n",
        "roc_auc[\"micro\"] = auc(fpr[\"micro\"], tpr[\"micro\"])\n",
        "\n",
        "# Plot ROC curves for each class\n",
        "plt.figure()\n",
        "lw = 2\n",
        "for i in range(n_classes):\n",
        "    plt.plot(fpr[i], tpr[i], lw=lw, label='ROC curve (area = %0.2f)' % roc_auc[i])\n",
        "\n",
        "# Plot micro-average ROC curve\n",
        "plt.plot(fpr[\"micro\"], tpr[\"micro\"],\n",
        "         label='Micro-average ROC curve (area = %0.2f)' % roc_auc[\"micro\"],\n",
        "         color='deeppink', linestyle=':', linewidth=4)\n",
        "\n",
        "# Add labels and legend\n",
        "plt.xlabel('False Positive Rate')\n",
        "plt.ylabel('True Positive Rate')\n",
        "plt.title('Receiver Operating Characteristic (ROC)')\n",
        "plt.legend(loc=\"lower right\")\n",
        "# Save the figure in a suitable format (e.g., PNG) with 600 DPI for line drawings\n",
        "plt.savefig('roc_curves.png', format='png', dpi=600, bbox_inches='tight')\n",
        "plt.show()\n"
      ],
      "metadata": {
        "colab": {
          "base_uri": "https://localhost:8080/",
          "height": 472
        },
        "id": "tZeFnbG8Zo2x",
        "outputId": "95f644b9-e91b-4bda-8b7b-360c2cec7d03"
      },
      "execution_count": null,
      "outputs": [
        {
          "output_type": "display_data",
          "data": {
            "text/plain": [
              "<Figure size 640x480 with 1 Axes>"
            ],
            "image/png": "[encoded data removed]"
          },
          "metadata": {}
        }
      ]
    },
    {
      "cell_type": "code",
      "source": [
        "import numpy as np\n",
        "import matplotlib.pyplot as plt\n",
        "from sklearn.metrics import roc_curve, auc\n",
        "from sklearn.preprocessing import label_binarize\n",
        "\n",
        "# Assuming you have defined y_true and y_pred as described in your previous code\n",
        "# y_true contains true labels, and y_pred contains predicted probabilities\n",
        "\n",
        "# Binarize the true labels (one-hot encoding)\n",
        "n_classes = 4  # Number of classes (change to your actual number of classes)\n",
        "y_true_bin = label_binarize(y_true, classes=np.arange(n_classes))\n",
        "\n",
        "# Initialize dictionaries to store FPR and TPR for each class\n",
        "fpr_dict = {}\n",
        "tpr_dict = {}\n",
        "\n",
        "# Compute ROC curve and ROC area for each class\n",
        "for i in range(n_classes):\n",
        "    fpr_dict[i], tpr_dict[i], _ = roc_curve(y_true_bin[:, i], y_pred[:, i])\n",
        "\n",
        "# Plot ROC curves for each class\n",
        "plt.figure()\n",
        "lw = 2\n",
        "for i in range(n_classes):\n",
        "    plt.plot(fpr_dict[i], tpr_dict[i], lw=lw, label=f'Class {i}')\n",
        "\n",
        "# Add labels and legend\n",
        "plt.xlabel('False Positive Rate')\n",
        "plt.ylabel('True Positive Rate')\n",
        "plt.title('ROC Curves for Each Class')\n",
        "plt.legend(loc=\"lower right\")\n",
        "plt.savefig('roc_curves_for_class.png', format='png', dpi=600, bbox_inches='tight')\n",
        "\n",
        "# Show the plot\n",
        "plt.show()\n",
        "\n",
        "# Save FPR and TPR values to separate CSV files for each class\n",
        "for i in range(n_classes):\n",
        "    class_name = f'Class_{i}'\n",
        "    fpr = fpr_dict[i]\n",
        "    tpr = tpr_dict[i]\n",
        "\n",
        "    # Save FPR and TPR values for the class to a CSV file\n",
        "    with open(f'{class_name}_roc_curve.csv', 'w') as file:\n",
        "        file.write('False Positive Rate, True Positive Rate\\n')\n",
        "        for j in range(len(fpr)):\n",
        "            file.write(f'{fpr[j]}, {tpr[j]}\\n')\n"
      ],
      "metadata": {
        "colab": {
          "base_uri": "https://localhost:8080/",
          "height": 472
        },
        "id": "HU0Mn7Hva4cP",
        "outputId": "dfffd607-a888-4d42-80fd-5df4968245c7"
      },
      "execution_count": null,
      "outputs": [
        {
          "output_type": "display_data",
          "data": {
            "text/plain": [
              "<Figure size 640x480 with 1 Axes>"
            ],
            "image/png": "[encoded data removed]"
          },
          "metadata": {}
        }
      ]
    },
    {
      "cell_type": "code",
      "source": [
        "import numpy as np\n",
        "import matplotlib.pyplot as plt\n",
        "from sklearn.metrics import roc_curve, auc\n",
        "from sklearn.preprocessing import label_binarize\n",
        "from sklearn.metrics import roc_auc_score\n",
        "\n",
        "# Assuming you have defined y_true and y_pred as described in your previous code\n",
        "# y_true contains true labels, and y_pred contains predicted probabilities\n",
        "\n",
        "# Binarize the true labels (one-hot encoding)\n",
        "n_classes = 4  # Number of classes (change to your actual number of classes)\n",
        "y_true_bin = label_binarize(y_true, classes=np.arange(n_classes))\n",
        "\n",
        "# Compute micro-average ROC curve and ROC area\n",
        "fpr_micro, tpr_micro, _ = roc_curve(y_true_bin.ravel(), y_pred.ravel())\n",
        "roc_auc_micro = auc(fpr_micro, tpr_micro)\n",
        "\n",
        "# Plot the micro-average ROC curve\n",
        "plt.figure()\n",
        "lw = 2\n",
        "plt.plot(fpr_micro, tpr_micro, color='darkorange',\n",
        "         lw=lw, label=f'Micro-average ROC curve (area = {roc_auc_micro:.2f})')\n",
        "\n",
        "# Add labels and legend\n",
        "plt.xlabel('False Positive Rate')\n",
        "plt.ylabel('True Positive Rate')\n",
        "plt.title('Micro-average ROC Curve')\n",
        "plt.legend(loc=\"lower right\")\n",
        "plt.savefig('micro_avg_roc_curves.png', format='png', dpi=600, bbox_inches='tight')\n",
        "\n",
        "\n",
        "# Show the plot\n",
        "plt.show()\n",
        "\n",
        "import pandas as pd\n",
        "\n",
        "# Create a dataframe with fpr_micro and tpr_micro\n",
        "df = pd.DataFrame({'fpr_micro': fpr_micro, 'tpr_micro': tpr_micro})\n",
        "\n",
        "# Save the dataframe to a CSV file\n",
        "df.to_csv('fpr_tpr_micro_values.csv', index=False)\n"
      ],
      "metadata": {
        "colab": {
          "base_uri": "https://localhost:8080/",
          "height": 472
        },
        "id": "C4aofW9kbNQP",
        "outputId": "d5145c7f-395c-4959-d877-a0b8f366efe2"
      },
      "execution_count": null,
      "outputs": [
        {
          "output_type": "display_data",
          "data": {
            "text/plain": [
              "<Figure size 640x480 with 1 Axes>"
            ],
            "image/png": "[encoded data removed]"
          },
          "metadata": {}
        }
      ]
    },
    {
      "cell_type": "code",
      "execution_count": null,
      "metadata": {
        "id": "SuRCxbh2Llco",
        "colab": {
          "base_uri": "https://localhost:8080/"
        },
        "outputId": "c28fad62-e0d5-421d-a624-bead1d9362de"
      },
      "outputs": [
        {
          "output_type": "stream",
          "name": "stdout",
          "text": [
            "Accuracy: 0.8419773095623987\n",
            "Precision: 0.8413890062943101\n",
            "Recall: 0.8419773095623987\n",
            "F1-score: 0.8398000408116263\n"
          ]
        }
      ],
      "source": [
        "from sklearn.metrics import accuracy_score, precision_score, recall_score, f1_score, confusion_matrix\n",
        "\n",
        "accuracy = accuracy_score(y_true, y_pred_classes)\n",
        "precision = precision_score(y_true, y_pred_classes, average='weighted')\n",
        "recall = recall_score(y_true, y_pred_classes, average='weighted')\n",
        "f1 = f1_score(y_true, y_pred_classes, average='weighted')\n",
        "\n",
        "print(\"Accuracy:\", accuracy)\n",
        "print(\"Precision:\", precision)\n",
        "print(\"Recall:\", recall)\n",
        "print(\"F1-score:\", f1)\n"
      ]
    },
    {
      "cell_type": "code",
      "execution_count": null,
      "metadata": {
        "id": "VW_YX74kLleB",
        "colab": {
          "base_uri": "https://localhost:8080/"
        },
        "outputId": "fc9e6163-b686-4bdf-fb6f-402db8304970"
      },
      "outputs": [
        {
          "output_type": "stream",
          "name": "stdout",
          "text": [
            "Matrice di confusione:\n",
            "[[1215   57    1   21]\n",
            " [ 100  402   36   10]\n",
            " [   1   85  313    2]\n",
            " [  66    9    2  148]]\n"
          ]
        }
      ],
      "source": [
        "confusion_mtx = confusion_matrix(y_true, y_pred_classes)\n",
        "print(\"Matrice di confusione:\")\n",
        "print(confusion_mtx)\n"
      ]
    },
    {
      "cell_type": "code",
      "source": [
        "# Assuming you have defined confusion_mtx as described in your code\n",
        "\n",
        "# Print the confusion matrix\n",
        "print(\"Confusion Matrix:\")\n",
        "print(confusion_mtx)\n",
        "\n",
        "# Save the confusion matrix values to a text file (e.g., CSV)\n",
        "with open('confusion_matrix.csv', 'w') as file:\n",
        "    file.write(\"Confusion Matrix:\\n\")\n",
        "    for row in confusion_mtx:\n",
        "        file.write(','.join(map(str, row)) + '\\n')"
      ],
      "metadata": {
        "colab": {
          "base_uri": "https://localhost:8080/"
        },
        "id": "Z0b5tUGebiOp",
        "outputId": "8eabc53c-4e4f-4a29-9515-54faa5ce4b49"
      },
      "execution_count": null,
      "outputs": [
        {
          "output_type": "stream",
          "name": "stdout",
          "text": [
            "Confusion Matrix:\n",
            "[[1215   57    1   21]\n",
            " [ 100  402   36   10]\n",
            " [   1   85  313    2]\n",
            " [  66    9    2  148]]\n"
          ]
        }
      ]
    },
    {
      "cell_type": "code",
      "execution_count": null,
      "metadata": {
        "id": "lMT9i__-Lled",
        "colab": {
          "base_uri": "https://localhost:8080/"
        },
        "outputId": "0dced7ca-cd85-4f5f-9fa9-848662c9e7f6"
      },
      "outputs": [
        {
          "output_type": "stream",
          "name": "stdout",
          "text": [
            "Class 0:\n",
            "TPR (True Positive Rate): [0.00000000e+00 7.72797527e-04 4.63678516e-03 6.18238022e-03\n",
            " 1.33693972e-01 1.33693972e-01 2.08655332e-01 2.08655332e-01\n",
            " 2.92117465e-01 2.92117465e-01 2.99072643e-01 2.99072643e-01\n",
            " 3.09891808e-01 3.09891808e-01 3.63987635e-01 3.63987635e-01\n",
            " 3.66306028e-01 3.66306028e-01 3.68624420e-01 3.68624420e-01\n",
            " 3.71715611e-01 3.71715611e-01 3.88717156e-01 3.88717156e-01\n",
            " 4.28902628e-01 4.28902628e-01 4.49768161e-01 4.49768161e-01\n",
            " 4.50540958e-01 4.50540958e-01 4.95363215e-01 4.95363215e-01\n",
            " 5.05409583e-01 5.05409583e-01 5.20092736e-01 5.20092736e-01\n",
            " 5.27820711e-01 5.27820711e-01 5.44822257e-01 5.44822257e-01\n",
            " 5.74961360e-01 5.74961360e-01 5.77279753e-01 5.77279753e-01\n",
            " 5.81916538e-01 5.81916538e-01 5.85007728e-01 5.85007728e-01\n",
            " 5.91962906e-01 5.91962906e-01 5.93508501e-01 5.93508501e-01\n",
            " 6.02009274e-01 6.02009274e-01 6.04327666e-01 6.04327666e-01\n",
            " 6.06646059e-01 6.06646059e-01 6.08191654e-01 6.08191654e-01\n",
            " 6.12055641e-01 6.12055641e-01 6.15919629e-01 6.15919629e-01\n",
            " 6.20556414e-01 6.20556414e-01 6.21329212e-01 6.21329212e-01\n",
            " 6.27511592e-01 6.27511592e-01 6.31375580e-01 6.31375580e-01\n",
            " 6.35239567e-01 6.35239567e-01 6.44513138e-01 6.44513138e-01\n",
            " 6.58423493e-01 6.58423493e-01 6.60741886e-01 6.60741886e-01\n",
            " 6.62287481e-01 6.62287481e-01 6.65378671e-01 6.65378671e-01\n",
            " 6.72333849e-01 6.72333849e-01 6.80834621e-01 6.80834621e-01\n",
            " 6.82380216e-01 6.82380216e-01 6.84698609e-01 6.84698609e-01\n",
            " 6.90108192e-01 6.90108192e-01 7.09428130e-01 7.09428130e-01\n",
            " 7.15610510e-01 7.15610510e-01 7.16383308e-01 7.16383308e-01\n",
            " 7.17928903e-01 7.17928903e-01 7.23338485e-01 7.23338485e-01\n",
            " 7.28748068e-01 7.28748068e-01 7.30293663e-01 7.30293663e-01\n",
            " 7.31066461e-01 7.31066461e-01 7.38021638e-01 7.38021638e-01\n",
            " 7.41885626e-01 7.41885626e-01 7.42658423e-01 7.42658423e-01\n",
            " 7.44976816e-01 7.44976816e-01 7.48840804e-01 7.48840804e-01\n",
            " 7.51931994e-01 7.51931994e-01 7.52704791e-01 7.52704791e-01\n",
            " 7.54250386e-01 7.54250386e-01 7.57341577e-01 7.57341577e-01\n",
            " 7.78979907e-01 7.78979907e-01 7.80525502e-01 7.80525502e-01\n",
            " 7.82843895e-01 7.82843895e-01 7.86707883e-01 7.86707883e-01\n",
            " 7.88253478e-01 7.88253478e-01 7.95981453e-01 7.95981453e-01\n",
            " 7.96754250e-01 7.96754250e-01 8.11437403e-01 8.11437403e-01\n",
            " 8.13755796e-01 8.13755796e-01 8.15301391e-01 8.15301391e-01\n",
            " 8.16846986e-01 8.16846986e-01 8.17619784e-01 8.17619784e-01\n",
            " 8.19165379e-01 8.19165379e-01 8.25347759e-01 8.25347759e-01\n",
            " 8.27666151e-01 8.27666151e-01 8.29211747e-01 8.29211747e-01\n",
            " 8.31530139e-01 8.31530139e-01 8.35394127e-01 8.35394127e-01\n",
            " 8.36166924e-01 8.36166924e-01 8.38485317e-01 8.38485317e-01\n",
            " 8.46986090e-01 8.46986090e-01 8.47758887e-01 8.47758887e-01\n",
            " 8.49304482e-01 8.49304482e-01 8.50850077e-01 8.50850077e-01\n",
            " 8.53941267e-01 8.53941267e-01 8.55486862e-01 8.55486862e-01\n",
            " 8.63214838e-01 8.63214838e-01 8.64760433e-01 8.64760433e-01\n",
            " 8.65533230e-01 8.65533230e-01 8.73261206e-01 8.73261206e-01\n",
            " 8.76352396e-01 8.76352396e-01 8.84080371e-01 8.84080371e-01\n",
            " 8.87944359e-01 8.87944359e-01 8.94126739e-01 8.94126739e-01\n",
            " 8.95672334e-01 8.95672334e-01 8.97217929e-01 8.97217929e-01\n",
            " 9.00309119e-01 9.00309119e-01 9.03400309e-01 9.03400309e-01\n",
            " 9.04173107e-01 9.04173107e-01 9.08809892e-01 9.08809892e-01\n",
            " 9.11128284e-01 9.11128284e-01 9.17310665e-01 9.17310665e-01\n",
            " 9.18083462e-01 9.18083462e-01 9.24265842e-01 9.24265842e-01\n",
            " 9.25811437e-01 9.25811437e-01 9.27357032e-01 9.27357032e-01\n",
            " 9.28902628e-01 9.28902628e-01 9.29675425e-01 9.29675425e-01\n",
            " 9.30448223e-01 9.30448223e-01 9.31993818e-01 9.31993818e-01\n",
            " 9.33539413e-01 9.33539413e-01 9.34312210e-01 9.34312210e-01\n",
            " 9.35085008e-01 9.35085008e-01 9.37403400e-01 9.37403400e-01\n",
            " 9.38176198e-01 9.38176198e-01 9.38948995e-01 9.38948995e-01\n",
            " 9.39721793e-01 9.39721793e-01 9.40494590e-01 9.40494590e-01\n",
            " 9.41267388e-01 9.41267388e-01 9.42040185e-01 9.42040185e-01\n",
            " 9.44358578e-01 9.44358578e-01 9.45131376e-01 9.45131376e-01\n",
            " 9.45904173e-01 9.45904173e-01 9.48222566e-01 9.48222566e-01\n",
            " 9.49768161e-01 9.49768161e-01 9.52859351e-01 9.52859351e-01\n",
            " 9.53632148e-01 9.53632148e-01 9.55950541e-01 9.55950541e-01\n",
            " 9.56723338e-01 9.56723338e-01 9.59041731e-01 9.59041731e-01\n",
            " 9.60587326e-01 9.60587326e-01 9.62905719e-01 9.62905719e-01\n",
            " 9.63678516e-01 9.63678516e-01 9.64451314e-01 9.64451314e-01\n",
            " 9.65224111e-01 9.65224111e-01 9.65996909e-01 9.65996909e-01\n",
            " 9.67542504e-01 9.67542504e-01 9.68315301e-01 9.68315301e-01\n",
            " 9.69088099e-01 9.69088099e-01 9.69860896e-01 9.69860896e-01\n",
            " 9.72179289e-01 9.72179289e-01 9.72952087e-01 9.72952087e-01\n",
            " 9.73724884e-01 9.73724884e-01 9.74497682e-01 9.74497682e-01\n",
            " 9.75270479e-01 9.75270479e-01 9.76043277e-01 9.76043277e-01\n",
            " 9.76816074e-01 9.76816074e-01 9.77588872e-01 9.77588872e-01\n",
            " 9.78361669e-01 9.78361669e-01 9.79134467e-01 9.79134467e-01\n",
            " 9.79907264e-01 9.79907264e-01 9.80680062e-01 9.80680062e-01\n",
            " 9.81452859e-01 9.81452859e-01 9.82225657e-01 9.82225657e-01\n",
            " 9.82998454e-01 9.82998454e-01 9.83771252e-01 9.83771252e-01\n",
            " 9.84544049e-01 9.84544049e-01 9.86089645e-01 9.86089645e-01\n",
            " 9.86862442e-01 9.86862442e-01 9.87635240e-01 9.87635240e-01\n",
            " 9.88408037e-01 9.88408037e-01 9.89953632e-01 9.89953632e-01\n",
            " 9.91499227e-01 9.91499227e-01 9.92272025e-01 9.92272025e-01\n",
            " 9.93044822e-01 9.93044822e-01 9.93817620e-01 9.93817620e-01\n",
            " 9.94590417e-01 9.94590417e-01 9.95363215e-01 9.95363215e-01\n",
            " 9.96136012e-01 9.96136012e-01 9.96908810e-01 9.96908810e-01\n",
            " 9.97681607e-01 9.97681607e-01 9.98454405e-01 9.98454405e-01\n",
            " 9.99227202e-01 9.99227202e-01 1.00000000e+00 1.00000000e+00]\n",
            "FPR (False Positive Rate): [0.00000000e+00 0.00000000e+00 0.00000000e+00 0.00000000e+00\n",
            " 0.00000000e+00 8.51788756e-04 8.51788756e-04 1.70357751e-03\n",
            " 1.70357751e-03 3.40715503e-03 3.40715503e-03 4.25894378e-03\n",
            " 4.25894378e-03 5.11073254e-03 5.11073254e-03 5.96252129e-03\n",
            " 5.96252129e-03 6.81431005e-03 6.81431005e-03 7.66609881e-03\n",
            " 7.66609881e-03 8.51788756e-03 8.51788756e-03 9.36967632e-03\n",
            " 9.36967632e-03 1.02214651e-02 1.02214651e-02 1.10732538e-02\n",
            " 1.10732538e-02 1.19250426e-02 1.19250426e-02 1.36286201e-02\n",
            " 1.36286201e-02 1.44804089e-02 1.44804089e-02 1.53321976e-02\n",
            " 1.53321976e-02 1.61839864e-02 1.61839864e-02 1.70357751e-02\n",
            " 1.70357751e-02 1.87393526e-02 1.87393526e-02 2.04429302e-02\n",
            " 2.04429302e-02 2.12947189e-02 2.12947189e-02 2.21465077e-02\n",
            " 2.21465077e-02 2.29982964e-02 2.29982964e-02 2.38500852e-02\n",
            " 2.38500852e-02 2.47018739e-02 2.47018739e-02 2.55536627e-02\n",
            " 2.55536627e-02 2.64054514e-02 2.64054514e-02 2.72572402e-02\n",
            " 2.72572402e-02 2.81090290e-02 2.81090290e-02 2.89608177e-02\n",
            " 2.89608177e-02 2.98126065e-02 2.98126065e-02 3.06643952e-02\n",
            " 3.06643952e-02 3.15161840e-02 3.15161840e-02 3.32197615e-02\n",
            " 3.32197615e-02 3.40715503e-02 3.40715503e-02 3.49233390e-02\n",
            " 3.49233390e-02 3.57751278e-02 3.57751278e-02 3.66269165e-02\n",
            " 3.66269165e-02 3.74787053e-02 3.74787053e-02 3.83304940e-02\n",
            " 3.83304940e-02 3.91822828e-02 3.91822828e-02 4.00340716e-02\n",
            " 4.00340716e-02 4.08858603e-02 4.08858603e-02 4.17376491e-02\n",
            " 4.17376491e-02 4.25894378e-02 4.25894378e-02 4.42930153e-02\n",
            " 4.42930153e-02 4.59965928e-02 4.59965928e-02 4.68483816e-02\n",
            " 4.68483816e-02 4.77001704e-02 4.77001704e-02 4.85519591e-02\n",
            " 4.85519591e-02 4.94037479e-02 4.94037479e-02 5.02555366e-02\n",
            " 5.02555366e-02 5.11073254e-02 5.11073254e-02 5.19591141e-02\n",
            " 5.19591141e-02 5.28109029e-02 5.28109029e-02 5.36626917e-02\n",
            " 5.36626917e-02 5.62180579e-02 5.62180579e-02 5.70698467e-02\n",
            " 5.70698467e-02 5.79216354e-02 5.79216354e-02 5.87734242e-02\n",
            " 5.87734242e-02 5.96252129e-02 5.96252129e-02 6.04770017e-02\n",
            " 6.04770017e-02 6.13287905e-02 6.13287905e-02 6.30323680e-02\n",
            " 6.30323680e-02 6.38841567e-02 6.38841567e-02 6.47359455e-02\n",
            " 6.47359455e-02 6.64395230e-02 6.64395230e-02 6.72913118e-02\n",
            " 6.72913118e-02 6.81431005e-02 6.81431005e-02 6.89948893e-02\n",
            " 6.89948893e-02 6.98466780e-02 6.98466780e-02 7.06984668e-02\n",
            " 7.06984668e-02 7.15502555e-02 7.15502555e-02 7.32538330e-02\n",
            " 7.32538330e-02 7.41056218e-02 7.41056218e-02 7.49574106e-02\n",
            " 7.49574106e-02 7.58091993e-02 7.58091993e-02 7.66609881e-02\n",
            " 7.66609881e-02 7.75127768e-02 7.75127768e-02 7.83645656e-02\n",
            " 7.83645656e-02 7.92163543e-02 7.92163543e-02 8.00681431e-02\n",
            " 8.00681431e-02 8.09199319e-02 8.09199319e-02 8.17717206e-02\n",
            " 8.17717206e-02 8.26235094e-02 8.26235094e-02 8.51788756e-02\n",
            " 8.51788756e-02 8.60306644e-02 8.60306644e-02 8.68824532e-02\n",
            " 8.68824532e-02 8.77342419e-02 8.77342419e-02 8.94378194e-02\n",
            " 8.94378194e-02 9.02896082e-02 9.02896082e-02 9.19931857e-02\n",
            " 9.19931857e-02 9.36967632e-02 9.36967632e-02 9.54003407e-02\n",
            " 9.54003407e-02 9.79557070e-02 9.79557070e-02 9.88074957e-02\n",
            " 9.88074957e-02 9.96592845e-02 9.96592845e-02 1.01362862e-01\n",
            " 1.01362862e-01 1.03918228e-01 1.03918228e-01 1.04770017e-01\n",
            " 1.04770017e-01 1.05621806e-01 1.05621806e-01 1.07325383e-01\n",
            " 1.07325383e-01 1.08177172e-01 1.08177172e-01 1.09028961e-01\n",
            " 1.09028961e-01 1.10732538e-01 1.10732538e-01 1.12436116e-01\n",
            " 1.12436116e-01 1.13287905e-01 1.13287905e-01 1.14139693e-01\n",
            " 1.14139693e-01 1.20102215e-01 1.20102215e-01 1.22657581e-01\n",
            " 1.22657581e-01 1.32027257e-01 1.32027257e-01 1.33730835e-01\n",
            " 1.33730835e-01 1.34582624e-01 1.34582624e-01 1.37989779e-01\n",
            " 1.37989779e-01 1.41396934e-01 1.41396934e-01 1.42248722e-01\n",
            " 1.42248722e-01 1.43100511e-01 1.43100511e-01 1.43952300e-01\n",
            " 1.43952300e-01 1.45655877e-01 1.45655877e-01 1.47359455e-01\n",
            " 1.47359455e-01 1.49063032e-01 1.49063032e-01 1.50766610e-01\n",
            " 1.50766610e-01 1.58432709e-01 1.58432709e-01 1.59284497e-01\n",
            " 1.59284497e-01 1.60136286e-01 1.60136286e-01 1.60988075e-01\n",
            " 1.60988075e-01 1.61839864e-01 1.61839864e-01 1.62691652e-01\n",
            " 1.62691652e-01 1.64395230e-01 1.64395230e-01 1.65247019e-01\n",
            " 1.65247019e-01 1.66950596e-01 1.66950596e-01 1.67802385e-01\n",
            " 1.67802385e-01 1.69505963e-01 1.69505963e-01 1.71209540e-01\n",
            " 1.71209540e-01 1.72913118e-01 1.72913118e-01 1.73764906e-01\n",
            " 1.73764906e-01 1.75468484e-01 1.75468484e-01 1.76320273e-01\n",
            " 1.76320273e-01 1.77172061e-01 1.77172061e-01 1.80579216e-01\n",
            " 1.80579216e-01 1.82282794e-01 1.82282794e-01 1.83134583e-01\n",
            " 1.83134583e-01 1.84838160e-01 1.84838160e-01 1.90800681e-01\n",
            " 1.90800681e-01 2.03577513e-01 2.03577513e-01 2.08688245e-01\n",
            " 2.08688245e-01 2.13798978e-01 2.13798978e-01 2.17206133e-01\n",
            " 2.17206133e-01 2.22316865e-01 2.22316865e-01 2.24020443e-01\n",
            " 2.24020443e-01 2.29982964e-01 2.29982964e-01 2.34241908e-01\n",
            " 2.34241908e-01 2.41908007e-01 2.41908007e-01 2.43611584e-01\n",
            " 2.43611584e-01 2.45315162e-01 2.45315162e-01 2.52981261e-01\n",
            " 2.52981261e-01 2.58091993e-01 2.58091993e-01 2.66609881e-01\n",
            " 2.66609881e-01 2.79386712e-01 2.79386712e-01 2.81090290e-01\n",
            " 2.81090290e-01 2.87904600e-01 2.87904600e-01 2.90459966e-01\n",
            " 2.90459966e-01 2.97274276e-01 2.97274276e-01 2.98977853e-01\n",
            " 2.98977853e-01 3.18568995e-01 3.18568995e-01 3.27086882e-01\n",
            " 3.27086882e-01 3.40715503e-01 3.40715503e-01 3.46678024e-01\n",
            " 3.46678024e-01 3.58603066e-01 3.58603066e-01 3.66269165e-01\n",
            " 3.66269165e-01 3.92674617e-01 3.92674617e-01 3.93526405e-01\n",
            " 3.93526405e-01 4.19931857e-01 4.19931857e-01 5.08517888e-01\n",
            " 5.08517888e-01 5.33219761e-01 5.33219761e-01 1.00000000e+00]\n",
            "\n",
            "Class 1:\n",
            "TPR (True Positive Rate): [0.         0.00182482 0.0729927  0.0729927  0.09306569 0.09306569\n",
            " 0.14963504 0.14963504 0.19525547 0.19525547 0.22080292 0.22080292\n",
            " 0.22445255 0.22445255 0.22992701 0.22992701 0.23357664 0.23357664\n",
            " 0.23540146 0.23540146 0.24087591 0.24087591 0.24635036 0.24635036\n",
            " 0.24817518 0.24817518 0.25182482 0.25182482 0.25364964 0.25364964\n",
            " 0.25912409 0.25912409 0.26277372 0.26277372 0.27007299 0.27007299\n",
            " 0.27189781 0.27189781 0.27372263 0.27372263 0.2810219  0.2810219\n",
            " 0.28467153 0.28467153 0.32481752 0.32481752 0.33759124 0.33759124\n",
            " 0.34306569 0.34306569 0.34671533 0.34671533 0.34854015 0.34854015\n",
            " 0.36678832 0.36678832 0.37043796 0.37043796 0.39233577 0.39233577\n",
            " 0.40510949 0.40510949 0.42153285 0.42153285 0.42518248 0.42518248\n",
            " 0.4270073  0.4270073  0.43065693 0.43065693 0.45255474 0.45255474\n",
            " 0.46532847 0.46532847 0.46715328 0.46715328 0.4689781  0.4689781\n",
            " 0.49270073 0.49270073 0.49452555 0.49452555 0.49635036 0.49635036\n",
            " 0.50182482 0.50182482 0.50364964 0.50364964 0.50547445 0.50547445\n",
            " 0.51094891 0.51094891 0.51277372 0.51277372 0.52554745 0.52554745\n",
            " 0.52737226 0.52737226 0.52919708 0.52919708 0.54379562 0.54379562\n",
            " 0.54562044 0.54562044 0.55474453 0.55474453 0.55656934 0.55656934\n",
            " 0.55839416 0.55839416 0.56569343 0.56569343 0.5729927  0.5729927\n",
            " 0.57846715 0.57846715 0.58211679 0.58211679 0.58759124 0.58759124\n",
            " 0.58941606 0.58941606 0.59124088 0.59124088 0.59306569 0.59306569\n",
            " 0.59671533 0.59671533 0.59854015 0.59854015 0.60036496 0.60036496\n",
            " 0.6040146  0.6040146  0.60583942 0.60583942 0.60766423 0.60766423\n",
            " 0.61131387 0.61131387 0.61678832 0.61678832 0.61861314 0.61861314\n",
            " 0.62773723 0.62773723 0.63321168 0.63321168 0.6350365  0.6350365\n",
            " 0.64051095 0.64051095 0.64233577 0.64233577 0.64963504 0.64963504\n",
            " 0.65328467 0.65328467 0.66240876 0.66240876 0.67518248 0.67518248\n",
            " 0.6770073  0.6770073  0.68065693 0.68065693 0.68430657 0.68430657\n",
            " 0.68978102 0.68978102 0.69343066 0.69343066 0.69708029 0.69708029\n",
            " 0.70072993 0.70072993 0.70255474 0.70255474 0.70437956 0.70437956\n",
            " 0.70620438 0.70620438 0.70985401 0.70985401 0.71167883 0.71167883\n",
            " 0.71350365 0.71350365 0.72262774 0.72262774 0.72627737 0.72627737\n",
            " 0.72810219 0.72810219 0.73175182 0.73175182 0.73357664 0.73357664\n",
            " 0.73540146 0.73540146 0.73722628 0.73722628 0.73905109 0.73905109\n",
            " 0.74087591 0.74087591 0.74270073 0.74270073 0.74452555 0.74452555\n",
            " 0.74635036 0.74635036 0.74817518 0.74817518 0.75       0.75\n",
            " 0.75182482 0.75182482 0.75364964 0.75364964 0.75547445 0.75547445\n",
            " 0.76277372 0.76277372 0.76642336 0.76642336 0.77007299 0.77007299\n",
            " 0.77189781 0.77189781 0.77372263 0.77372263 0.77554745 0.77554745\n",
            " 0.77737226 0.77737226 0.78284672 0.78284672 0.78649635 0.78649635\n",
            " 0.78832117 0.78832117 0.7919708  0.7919708  0.79562044 0.79562044\n",
            " 0.79744526 0.79744526 0.79927007 0.79927007 0.80109489 0.80109489\n",
            " 0.80291971 0.80291971 0.81021898 0.81021898 0.81386861 0.81386861\n",
            " 0.81751825 0.81751825 0.81934307 0.81934307 0.82116788 0.82116788\n",
            " 0.8229927  0.8229927  0.82481752 0.82481752 0.82664234 0.82664234\n",
            " 0.82846715 0.82846715 0.83029197 0.83029197 0.83211679 0.83211679\n",
            " 0.83394161 0.83394161 0.83576642 0.83576642 0.83759124 0.83759124\n",
            " 0.83941606 0.83941606 0.84124088 0.84124088 0.84489051 0.84489051\n",
            " 0.84854015 0.84854015 0.85036496 0.85036496 0.85218978 0.85218978\n",
            " 0.85948905 0.85948905 0.86131387 0.86131387 0.86313869 0.86313869\n",
            " 0.8649635  0.8649635  0.87226277 0.87226277 0.87408759 0.87408759\n",
            " 0.87591241 0.87591241 0.87773723 0.87773723 0.87956204 0.87956204\n",
            " 0.88138686 0.88138686 0.88321168 0.88321168 0.8850365  0.8850365\n",
            " 0.88686131 0.88686131 0.88868613 0.88868613 0.89051095 0.89051095\n",
            " 0.89233577 0.89233577 0.89416058 0.89416058 0.8959854  0.8959854\n",
            " 0.89781022 0.89781022 0.89963504 0.89963504 0.90328467 0.90328467\n",
            " 0.90693431 0.90693431 0.90875912 0.90875912 0.91423358 0.91423358\n",
            " 0.91605839 0.91605839 0.91970803 0.91970803 0.92153285 0.92153285\n",
            " 0.92335766 0.92335766 0.92518248 0.92518248 0.92883212 0.92883212\n",
            " 0.93065693 0.93065693 0.93248175 0.93248175 0.93430657 0.93430657\n",
            " 0.93613139 0.93613139 0.9379562  0.9379562  0.93978102 0.93978102\n",
            " 0.94160584 0.94160584 0.94343066 0.94343066 0.94525547 0.94525547\n",
            " 0.94708029 0.94708029 0.94890511 0.94890511 0.95072993 0.95072993\n",
            " 0.95255474 0.95255474 0.95437956 0.95437956 0.95620438 0.95620438\n",
            " 0.95985401 0.95985401 0.96350365 0.96350365 0.96532847 0.96532847\n",
            " 0.96715328 0.96715328 0.9689781  0.9689781  0.97080292 0.97080292\n",
            " 0.97262774 0.97262774 0.97445255 0.97445255 0.97627737 0.97627737\n",
            " 0.97810219 0.97810219 0.97992701 0.97992701 0.98175182 0.98175182\n",
            " 0.98357664 0.98357664 0.98540146 0.98540146 0.98722628 0.98722628\n",
            " 0.98905109 0.98905109 0.99087591 0.99087591 0.99270073 0.99270073\n",
            " 0.99452555 0.99452555 0.99635036 0.99635036 0.99817518 0.99817518\n",
            " 1.         1.        ]\n",
            "FPR (False Positive Rate): [0.00000000e+00 0.00000000e+00 0.00000000e+00 5.20833333e-04\n",
            " 5.20833333e-04 1.04166667e-03 1.04166667e-03 1.56250000e-03\n",
            " 1.56250000e-03 2.08333333e-03 2.08333333e-03 2.60416667e-03\n",
            " 2.60416667e-03 3.12500000e-03 3.12500000e-03 3.64583333e-03\n",
            " 3.64583333e-03 4.16666667e-03 4.16666667e-03 4.68750000e-03\n",
            " 4.68750000e-03 5.20833333e-03 5.20833333e-03 5.72916667e-03\n",
            " 5.72916667e-03 6.25000000e-03 6.25000000e-03 6.77083333e-03\n",
            " 6.77083333e-03 7.29166667e-03 7.29166667e-03 7.81250000e-03\n",
            " 7.81250000e-03 8.33333333e-03 8.33333333e-03 8.85416667e-03\n",
            " 8.85416667e-03 9.37500000e-03 9.37500000e-03 9.89583333e-03\n",
            " 9.89583333e-03 1.04166667e-02 1.04166667e-02 1.09375000e-02\n",
            " 1.09375000e-02 1.14583333e-02 1.14583333e-02 1.19791667e-02\n",
            " 1.19791667e-02 1.25000000e-02 1.25000000e-02 1.30208333e-02\n",
            " 1.30208333e-02 1.35416667e-02 1.35416667e-02 1.40625000e-02\n",
            " 1.40625000e-02 1.45833333e-02 1.45833333e-02 1.51041667e-02\n",
            " 1.51041667e-02 1.61458333e-02 1.61458333e-02 1.66666667e-02\n",
            " 1.66666667e-02 1.71875000e-02 1.71875000e-02 1.77083333e-02\n",
            " 1.77083333e-02 1.82291667e-02 1.82291667e-02 1.92708333e-02\n",
            " 1.92708333e-02 1.97916667e-02 1.97916667e-02 2.18750000e-02\n",
            " 2.18750000e-02 2.23958333e-02 2.23958333e-02 2.29166667e-02\n",
            " 2.29166667e-02 2.39583333e-02 2.39583333e-02 2.55208333e-02\n",
            " 2.55208333e-02 2.60416667e-02 2.60416667e-02 2.76041667e-02\n",
            " 2.76041667e-02 2.81250000e-02 2.81250000e-02 2.86458333e-02\n",
            " 2.86458333e-02 2.96875000e-02 2.96875000e-02 3.02083333e-02\n",
            " 3.02083333e-02 3.07291667e-02 3.07291667e-02 3.12500000e-02\n",
            " 3.12500000e-02 3.28125000e-02 3.28125000e-02 3.33333333e-02\n",
            " 3.33333333e-02 3.43750000e-02 3.43750000e-02 3.48958333e-02\n",
            " 3.48958333e-02 3.59375000e-02 3.59375000e-02 3.64583333e-02\n",
            " 3.64583333e-02 3.80208333e-02 3.80208333e-02 4.06250000e-02\n",
            " 4.06250000e-02 4.16666667e-02 4.16666667e-02 4.21875000e-02\n",
            " 4.21875000e-02 4.42708333e-02 4.42708333e-02 4.47916667e-02\n",
            " 4.47916667e-02 4.53125000e-02 4.53125000e-02 4.58333333e-02\n",
            " 4.58333333e-02 4.63541667e-02 4.63541667e-02 4.73958333e-02\n",
            " 4.73958333e-02 4.79166667e-02 4.79166667e-02 4.84375000e-02\n",
            " 4.84375000e-02 4.94791667e-02 4.94791667e-02 5.00000000e-02\n",
            " 5.00000000e-02 5.10416667e-02 5.10416667e-02 5.15625000e-02\n",
            " 5.15625000e-02 5.20833333e-02 5.20833333e-02 5.26041667e-02\n",
            " 5.26041667e-02 5.41666667e-02 5.41666667e-02 5.46875000e-02\n",
            " 5.46875000e-02 5.57291667e-02 5.57291667e-02 5.62500000e-02\n",
            " 5.62500000e-02 5.67708333e-02 5.67708333e-02 5.78125000e-02\n",
            " 5.78125000e-02 5.98958333e-02 5.98958333e-02 6.14583333e-02\n",
            " 6.14583333e-02 6.19791667e-02 6.19791667e-02 6.30208333e-02\n",
            " 6.30208333e-02 6.45833333e-02 6.45833333e-02 6.51041667e-02\n",
            " 6.51041667e-02 6.56250000e-02 6.56250000e-02 6.82291667e-02\n",
            " 6.82291667e-02 6.87500000e-02 6.87500000e-02 7.03125000e-02\n",
            " 7.03125000e-02 7.13541667e-02 7.13541667e-02 7.18750000e-02\n",
            " 7.18750000e-02 7.29166667e-02 7.29166667e-02 7.34375000e-02\n",
            " 7.34375000e-02 7.44791667e-02 7.44791667e-02 7.50000000e-02\n",
            " 7.50000000e-02 7.60416667e-02 7.60416667e-02 7.65625000e-02\n",
            " 7.65625000e-02 7.96875000e-02 7.96875000e-02 8.07291667e-02\n",
            " 8.07291667e-02 8.12500000e-02 8.12500000e-02 8.17708333e-02\n",
            " 8.17708333e-02 8.28125000e-02 8.28125000e-02 8.48958333e-02\n",
            " 8.48958333e-02 8.59375000e-02 8.59375000e-02 8.64583333e-02\n",
            " 8.64583333e-02 8.69791667e-02 8.69791667e-02 8.80208333e-02\n",
            " 8.80208333e-02 8.85416667e-02 8.85416667e-02 8.90625000e-02\n",
            " 8.90625000e-02 9.01041667e-02 9.01041667e-02 9.11458333e-02\n",
            " 9.11458333e-02 9.32291667e-02 9.32291667e-02 9.37500000e-02\n",
            " 9.37500000e-02 9.47916667e-02 9.47916667e-02 9.53125000e-02\n",
            " 9.53125000e-02 9.84375000e-02 9.84375000e-02 1.01562500e-01\n",
            " 1.01562500e-01 1.02604167e-01 1.02604167e-01 1.03125000e-01\n",
            " 1.03125000e-01 1.08333333e-01 1.08333333e-01 1.10416667e-01\n",
            " 1.10416667e-01 1.11458333e-01 1.11458333e-01 1.11979167e-01\n",
            " 1.11979167e-01 1.12500000e-01 1.12500000e-01 1.13020833e-01\n",
            " 1.13020833e-01 1.13541667e-01 1.13541667e-01 1.16145833e-01\n",
            " 1.16145833e-01 1.16666667e-01 1.16666667e-01 1.17187500e-01\n",
            " 1.17187500e-01 1.20312500e-01 1.20312500e-01 1.20833333e-01\n",
            " 1.20833333e-01 1.21875000e-01 1.21875000e-01 1.24479167e-01\n",
            " 1.24479167e-01 1.26562500e-01 1.26562500e-01 1.30208333e-01\n",
            " 1.30208333e-01 1.31770833e-01 1.31770833e-01 1.35937500e-01\n",
            " 1.35937500e-01 1.36458333e-01 1.36458333e-01 1.37500000e-01\n",
            " 1.37500000e-01 1.46354167e-01 1.46354167e-01 1.46875000e-01\n",
            " 1.46875000e-01 1.47395833e-01 1.47395833e-01 1.48958333e-01\n",
            " 1.48958333e-01 1.53645833e-01 1.53645833e-01 1.54166667e-01\n",
            " 1.54166667e-01 1.55208333e-01 1.55208333e-01 1.56770833e-01\n",
            " 1.56770833e-01 1.57812500e-01 1.57812500e-01 1.60937500e-01\n",
            " 1.60937500e-01 1.62500000e-01 1.62500000e-01 1.70833333e-01\n",
            " 1.70833333e-01 1.71875000e-01 1.71875000e-01 1.76041667e-01\n",
            " 1.76041667e-01 1.76562500e-01 1.76562500e-01 1.78125000e-01\n",
            " 1.78125000e-01 1.79166667e-01 1.79166667e-01 1.81250000e-01\n",
            " 1.81250000e-01 1.82291667e-01 1.82291667e-01 1.89062500e-01\n",
            " 1.89062500e-01 1.90104167e-01 1.90104167e-01 1.94791667e-01\n",
            " 1.94791667e-01 1.97916667e-01 1.97916667e-01 1.98958333e-01\n",
            " 1.98958333e-01 2.01041667e-01 2.01041667e-01 2.03125000e-01\n",
            " 2.03125000e-01 2.03645833e-01 2.03645833e-01 2.04687500e-01\n",
            " 2.04687500e-01 2.07812500e-01 2.07812500e-01 2.09375000e-01\n",
            " 2.09375000e-01 2.09895833e-01 2.09895833e-01 2.10416667e-01\n",
            " 2.10416667e-01 2.14062500e-01 2.14062500e-01 2.16145833e-01\n",
            " 2.16145833e-01 2.18750000e-01 2.18750000e-01 2.32812500e-01\n",
            " 2.32812500e-01 2.39062500e-01 2.39062500e-01 2.48958333e-01\n",
            " 2.48958333e-01 2.49479167e-01 2.49479167e-01 2.57812500e-01\n",
            " 2.57812500e-01 2.59895833e-01 2.59895833e-01 2.64583333e-01\n",
            " 2.64583333e-01 2.67187500e-01 2.67187500e-01 2.68229167e-01\n",
            " 2.68229167e-01 2.70833333e-01 2.70833333e-01 2.71354167e-01\n",
            " 2.71354167e-01 2.73958333e-01 2.73958333e-01 2.74479167e-01\n",
            " 2.74479167e-01 2.75000000e-01 2.75000000e-01 2.75520833e-01\n",
            " 2.75520833e-01 2.81250000e-01 2.81250000e-01 2.83333333e-01\n",
            " 2.83333333e-01 2.84895833e-01 2.84895833e-01 2.92708333e-01\n",
            " 2.92708333e-01 3.09895833e-01 3.09895833e-01 3.26041667e-01\n",
            " 3.26041667e-01 3.30729167e-01 3.30729167e-01 3.42708333e-01\n",
            " 3.42708333e-01 3.58333333e-01 3.58333333e-01 3.73958333e-01\n",
            " 3.73958333e-01 3.95312500e-01 3.95312500e-01 4.00000000e-01\n",
            " 4.00000000e-01 4.00520833e-01 4.00520833e-01 4.02083333e-01\n",
            " 4.02083333e-01 4.08854167e-01 4.08854167e-01 4.13020833e-01\n",
            " 4.13020833e-01 4.34895833e-01 4.34895833e-01 4.51562500e-01\n",
            " 4.51562500e-01 4.55729167e-01 4.55729167e-01 5.01562500e-01\n",
            " 5.01562500e-01 5.30729167e-01 5.30729167e-01 7.08333333e-01\n",
            " 7.08333333e-01 7.96875000e-01 7.96875000e-01 1.00000000e+00]\n",
            "\n",
            "Class 2:\n",
            "TPR (True Positive Rate): [0.         0.00249377 0.36907731 0.36907731 0.4563591  0.4563591\n",
            " 0.50623441 0.50623441 0.51122195 0.51122195 0.53117207 0.53117207\n",
            " 0.55361596 0.55361596 0.57107232 0.57107232 0.57855362 0.57855362\n",
            " 0.59600998 0.59600998 0.6084788  0.6084788  0.61845387 0.61845387\n",
            " 0.62842893 0.62842893 0.63092269 0.63092269 0.64837905 0.64837905\n",
            " 0.65336658 0.65336658 0.65586035 0.65586035 0.6882793  0.6882793\n",
            " 0.69326683 0.69326683 0.7032419  0.7032419  0.70822943 0.70822943\n",
            " 0.71072319 0.71072319 0.71321696 0.71321696 0.71820449 0.71820449\n",
            " 0.76309227 0.76309227 0.76558603 0.76558603 0.7680798  0.7680798\n",
            " 0.7755611  0.7755611  0.77805486 0.77805486 0.78054863 0.78054863\n",
            " 0.78553616 0.78553616 0.78802993 0.78802993 0.79052369 0.79052369\n",
            " 0.80049875 0.80049875 0.80299252 0.80299252 0.80548628 0.80548628\n",
            " 0.81047382 0.81047382 0.81546135 0.81546135 0.81795511 0.81795511\n",
            " 0.82294264 0.82294264 0.82793017 0.82793017 0.83042394 0.83042394\n",
            " 0.83541147 0.83541147 0.83790524 0.83790524 0.84538653 0.84538653\n",
            " 0.85037406 0.85037406 0.85785536 0.85785536 0.86284289 0.86284289\n",
            " 0.86533666 0.86533666 0.86783042 0.86783042 0.87032419 0.87032419\n",
            " 0.87531172 0.87531172 0.88528678 0.88528678 0.89027431 0.89027431\n",
            " 0.89775561 0.89775561 0.90024938 0.90024938 0.90274314 0.90274314\n",
            " 0.90523691 0.90523691 0.90773067 0.90773067 0.9127182  0.9127182\n",
            " 0.91521197 0.91521197 0.9201995  0.9201995  0.92269327 0.92269327\n",
            " 0.92518703 0.92518703 0.9276808  0.9276808  0.93266833 0.93266833\n",
            " 0.93765586 0.93765586 0.94014963 0.94014963 0.94513716 0.94513716\n",
            " 0.94763092 0.94763092 0.95012469 0.95012469 0.95261845 0.95261845\n",
            " 0.95511222 0.95511222 0.95760599 0.95760599 0.96009975 0.96009975\n",
            " 0.96508728 0.96508728 0.96758105 0.96758105 0.97007481 0.97007481\n",
            " 0.97256858 0.97256858 0.97506234 0.97506234 0.97755611 0.97755611\n",
            " 0.98004988 0.98004988 0.98254364 0.98254364 0.98503741 0.98503741\n",
            " 0.98753117 0.98753117 0.99002494 0.99002494 0.9925187  0.9925187\n",
            " 0.99501247 0.99501247 0.99750623 0.99750623 1.         1.        ]\n",
            "FPR (False Positive Rate): [0.00000000e+00 0.00000000e+00 0.00000000e+00 4.83792937e-04\n",
            " 4.83792937e-04 9.67585873e-04 9.67585873e-04 1.45137881e-03\n",
            " 1.45137881e-03 1.93517175e-03 1.93517175e-03 2.41896468e-03\n",
            " 2.41896468e-03 2.90275762e-03 2.90275762e-03 3.38655056e-03\n",
            " 3.38655056e-03 3.87034349e-03 3.87034349e-03 4.35413643e-03\n",
            " 4.35413643e-03 4.83792937e-03 4.83792937e-03 5.32172230e-03\n",
            " 5.32172230e-03 5.80551524e-03 5.80551524e-03 6.77310111e-03\n",
            " 6.77310111e-03 7.25689405e-03 7.25689405e-03 8.70827286e-03\n",
            " 8.70827286e-03 9.19206580e-03 9.19206580e-03 9.67585873e-03\n",
            " 9.67585873e-03 1.01596517e-02 1.01596517e-02 1.06434446e-02\n",
            " 1.06434446e-02 1.25786164e-02 1.25786164e-02 1.30624093e-02\n",
            " 1.30624093e-02 1.40299952e-02 1.40299952e-02 1.49975810e-02\n",
            " 1.49975810e-02 1.59651669e-02 1.59651669e-02 1.64489598e-02\n",
            " 1.64489598e-02 1.69327528e-02 1.69327528e-02 1.79003387e-02\n",
            " 1.79003387e-02 1.83841316e-02 1.83841316e-02 2.03193033e-02\n",
            " 2.03193033e-02 2.12868892e-02 2.12868892e-02 2.17706821e-02\n",
            " 2.17706821e-02 2.22544751e-02 2.22544751e-02 2.27382680e-02\n",
            " 2.27382680e-02 2.32220610e-02 2.32220610e-02 2.37058539e-02\n",
            " 2.37058539e-02 2.41896468e-02 2.41896468e-02 2.46734398e-02\n",
            " 2.46734398e-02 2.51572327e-02 2.51572327e-02 2.75761974e-02\n",
            " 2.75761974e-02 2.85437833e-02 2.85437833e-02 3.04789550e-02\n",
            " 3.04789550e-02 3.19303338e-02 3.19303338e-02 3.24141268e-02\n",
            " 3.24141268e-02 3.28979197e-02 3.28979197e-02 3.33817126e-02\n",
            " 3.33817126e-02 3.43492985e-02 3.43492985e-02 3.48330914e-02\n",
            " 3.48330914e-02 3.53168844e-02 3.53168844e-02 3.62844702e-02\n",
            " 3.62844702e-02 3.87034349e-02 3.87034349e-02 4.01548137e-02\n",
            " 4.01548137e-02 4.11223996e-02 4.11223996e-02 4.20899855e-02\n",
            " 4.20899855e-02 4.30575714e-02 4.30575714e-02 4.64441219e-02\n",
            " 4.64441219e-02 4.69279149e-02 4.69279149e-02 5.03144654e-02\n",
            " 5.03144654e-02 5.07982583e-02 5.07982583e-02 5.12820513e-02\n",
            " 5.12820513e-02 5.27334301e-02 5.27334301e-02 5.41848089e-02\n",
            " 5.41848089e-02 5.51523948e-02 5.51523948e-02 5.56361877e-02\n",
            " 5.56361877e-02 6.19254959e-02 6.19254959e-02 6.82148041e-02\n",
            " 6.82148041e-02 6.91823899e-02 6.91823899e-02 7.11175617e-02\n",
            " 7.11175617e-02 7.20851476e-02 7.20851476e-02 7.83744557e-02\n",
            " 7.83744557e-02 7.98258345e-02 7.98258345e-02 8.46637639e-02\n",
            " 8.46637639e-02 8.56313498e-02 8.56313498e-02 8.65989357e-02\n",
            " 8.65989357e-02 8.95016933e-02 8.95016933e-02 9.09530721e-02\n",
            " 9.09530721e-02 9.38558297e-02 9.38558297e-02 9.43396226e-02\n",
            " 9.43396226e-02 9.48234156e-02 9.48234156e-02 1.05950653e-01\n",
            " 1.05950653e-01 1.13207547e-01 1.13207547e-01 1.19496855e-01\n",
            " 1.19496855e-01 1.36429608e-01 1.36429608e-01 1.44170295e-01\n",
            " 1.44170295e-01 1.46105467e-01 1.46105467e-01 1.63038220e-01\n",
            " 1.63038220e-01 1.68843735e-01 1.68843735e-01 1.72714078e-01\n",
            " 1.72714078e-01 2.57861635e-01 2.57861635e-01 1.00000000e+00]\n",
            "\n",
            "Class 3:\n",
            "TPR (True Positive Rate): [0.         0.01333333 0.04       0.05333333 0.06222222 0.08888889\n",
            " 0.09777778 0.27555556 0.27555556 0.32       0.32       0.37333333\n",
            " 0.37333333 0.38222222 0.38222222 0.43555556 0.43555556 0.44888889\n",
            " 0.44888889 0.48       0.48       0.49333333 0.49333333 0.49777778\n",
            " 0.49777778 0.51111111 0.51111111 0.52888889 0.52888889 0.53777778\n",
            " 0.53777778 0.55111111 0.55111111 0.56       0.56       0.56888889\n",
            " 0.56888889 0.57333333 0.57333333 0.58666667 0.58666667 0.59111111\n",
            " 0.59111111 0.6        0.6        0.60444444 0.60444444 0.60888889\n",
            " 0.60888889 0.63111111 0.63111111 0.67555556 0.67555556 0.68444444\n",
            " 0.68444444 0.68888889 0.68888889 0.69333333 0.69333333 0.69777778\n",
            " 0.69777778 0.70222222 0.70222222 0.71111111 0.71111111 0.71555556\n",
            " 0.71555556 0.72       0.72       0.72444444 0.72444444 0.72888889\n",
            " 0.72888889 0.73333333 0.73333333 0.73777778 0.73777778 0.74666667\n",
            " 0.74666667 0.75111111 0.75111111 0.75555556 0.75555556 0.76\n",
            " 0.76       0.76444444 0.76444444 0.76888889 0.76888889 0.77333333\n",
            " 0.77333333 0.77777778 0.77777778 0.78222222 0.78222222 0.78666667\n",
            " 0.78666667 0.79111111 0.79111111 0.79555556 0.79555556 0.80444444\n",
            " 0.80444444 0.80888889 0.80888889 0.81333333 0.81333333 0.81777778\n",
            " 0.81777778 0.82222222 0.82222222 0.83111111 0.83111111 0.83555556\n",
            " 0.83555556 0.84       0.84       0.84444444 0.84444444 0.84888889\n",
            " 0.84888889 0.85777778 0.85777778 0.86666667 0.86666667 0.87111111\n",
            " 0.87111111 0.87555556 0.87555556 0.88       0.88       0.88444444\n",
            " 0.88444444 0.88888889 0.88888889 0.89333333 0.89333333 0.89777778\n",
            " 0.89777778 0.90222222 0.90222222 0.91111111 0.91111111 0.91555556\n",
            " 0.91555556 0.92       0.92       0.92444444 0.92444444 0.92888889\n",
            " 0.92888889 0.93333333 0.93333333 0.93777778 0.93777778 0.94666667\n",
            " 0.94666667 0.95111111 0.95111111 0.95555556 0.95555556 0.96\n",
            " 0.96       0.96444444 0.96444444 0.96888889 0.96888889 0.97333333\n",
            " 0.97333333 0.97777778 0.97777778 0.98222222 0.98222222 0.98666667\n",
            " 0.98666667 0.99111111 0.99111111 0.99555556 0.99555556 1.\n",
            " 1.        ]\n",
            "FPR (False Positive Rate): [0.00000000e+00 0.00000000e+00 0.00000000e+00 0.00000000e+00\n",
            " 0.00000000e+00 0.00000000e+00 0.00000000e+00 0.00000000e+00\n",
            " 4.45831476e-04 4.45831476e-04 8.91662951e-04 8.91662951e-04\n",
            " 1.33749443e-03 1.33749443e-03 1.78332590e-03 1.78332590e-03\n",
            " 2.67498885e-03 2.67498885e-03 3.12082033e-03 3.12082033e-03\n",
            " 3.56665181e-03 3.56665181e-03 4.01248328e-03 4.01248328e-03\n",
            " 4.45831476e-03 4.45831476e-03 6.24164066e-03 6.24164066e-03\n",
            " 6.68747214e-03 6.68747214e-03 7.13330361e-03 7.13330361e-03\n",
            " 7.57913509e-03 7.57913509e-03 8.02496656e-03 8.02496656e-03\n",
            " 8.47079804e-03 8.47079804e-03 8.91662951e-03 8.91662951e-03\n",
            " 1.06999554e-02 1.06999554e-02 1.15916184e-02 1.15916184e-02\n",
            " 1.20374498e-02 1.20374498e-02 1.29291128e-02 1.29291128e-02\n",
            " 1.33749443e-02 1.33749443e-02 1.38207757e-02 1.38207757e-02\n",
            " 1.51582702e-02 1.51582702e-02 1.56041016e-02 1.56041016e-02\n",
            " 1.60499331e-02 1.60499331e-02 1.64957646e-02 1.64957646e-02\n",
            " 1.82790905e-02 1.82790905e-02 1.96165849e-02 1.96165849e-02\n",
            " 2.09540794e-02 2.09540794e-02 2.27374053e-02 2.27374053e-02\n",
            " 2.36290682e-02 2.36290682e-02 2.54123941e-02 2.54123941e-02\n",
            " 3.16540348e-02 3.16540348e-02 3.34373607e-02 3.34373607e-02\n",
            " 3.92331699e-02 3.92331699e-02 4.05706643e-02 4.05706643e-02\n",
            " 4.54748105e-02 4.54748105e-02 4.90414623e-02 4.90414623e-02\n",
            " 5.17164512e-02 5.17164512e-02 5.30539456e-02 5.30539456e-02\n",
            " 5.66205974e-02 5.66205974e-02 5.75122604e-02 5.75122604e-02\n",
            " 5.84039233e-02 5.84039233e-02 6.59830584e-02 6.59830584e-02\n",
            " 6.86580473e-02 6.86580473e-02 7.22246991e-02 7.22246991e-02\n",
            " 7.62371823e-02 7.62371823e-02 8.06954971e-02 8.06954971e-02\n",
            " 8.11413286e-02 8.11413286e-02 8.73829692e-02 8.73829692e-02\n",
            " 9.09496210e-02 9.09496210e-02 9.18412840e-02 9.18412840e-02\n",
            " 9.58537673e-02 9.58537673e-02 9.89745876e-02 9.89745876e-02\n",
            " 1.00757914e-01 1.00757914e-01 1.01649576e-01 1.01649576e-01\n",
            " 1.05216228e-01 1.05216228e-01 1.15024521e-01 1.15024521e-01\n",
            " 1.19037004e-01 1.19037004e-01 1.21266161e-01 1.21266161e-01\n",
            " 1.24386982e-01 1.24386982e-01 1.29736959e-01 1.29736959e-01\n",
            " 1.38653589e-01 1.38653589e-01 1.39545252e-01 1.39545252e-01\n",
            " 1.40882746e-01 1.40882746e-01 1.41328578e-01 1.41328578e-01\n",
            " 1.47570218e-01 1.47570218e-01 1.59161837e-01 1.59161837e-01\n",
            " 1.66295140e-01 1.66295140e-01 1.83236737e-01 1.83236737e-01\n",
            " 1.85020062e-01 1.85020062e-01 1.88586714e-01 1.88586714e-01\n",
            " 1.93936692e-01 1.93936692e-01 2.00178333e-01 2.00178333e-01\n",
            " 2.15336603e-01 2.15336603e-01 2.27374053e-01 2.27374053e-01\n",
            " 2.45207312e-01 2.45207312e-01 2.65715560e-01 2.65715560e-01\n",
            " 2.82657156e-01 2.82657156e-01 2.96032100e-01 2.96032100e-01\n",
            " 3.99910834e-01 3.99910834e-01 4.02585823e-01 4.02585823e-01\n",
            " 4.57868926e-01 4.57868926e-01 4.78823005e-01 4.78823005e-01\n",
            " 6.68747214e-01 6.68747214e-01 6.96834597e-01 6.96834597e-01\n",
            " 1.00000000e+00]\n",
            "\n"
          ]
        }
      ],
      "source": [
        "#print PPT\n",
        "\n",
        "import numpy as np\n",
        "from sklearn.metrics import roc_curve\n",
        "\n",
        "# Assuming you have defined y_true and y_pred as described in your previous code\n",
        "# y_true contains true labels, and y_pred contains predicted probabilities\n",
        "\n",
        "# Binarize the true labels (one-hot encoding)\n",
        "n_classes = 4  # Number of classes (change to your actual number of classes)\n",
        "y_true_bin = label_binarize(y_true, classes=np.arange(n_classes))\n",
        "\n",
        "# Initialize dictionaries to store FPR and TPR for each class\n",
        "fpr_dict = {}\n",
        "tpr_dict = {}\n",
        "\n",
        "# Compute ROC curve for each class\n",
        "for i in range(n_classes):\n",
        "    fpr_dict[i], tpr_dict[i], _ = roc_curve(y_true_bin[:, i], y_pred[:, i])\n",
        "\n",
        "# Print TPR and FPR for each class\n",
        "for i in range(n_classes):\n",
        "    print(f\"Class {i}:\")\n",
        "    print(f\"TPR (True Positive Rate): {tpr_dict[i]}\")\n",
        "    print(f\"FPR (False Positive Rate): {fpr_dict[i]}\")\n",
        "    print()\n"
      ]
    },
    {
      "cell_type": "code",
      "source": [
        "import numpy as np\n",
        "from sklearn.metrics import classification_report, confusion_matrix\n",
        "\n",
        "# Assuming you have defined y_true and y_pred_classes as described in your previous code\n",
        "# y_true contains true labels, and y_pred_classes contains predicted classes\n",
        "\n",
        "# Calculate confusion matrix\n",
        "confusion_mtx = confusion_matrix(y_true, y_pred_classes)\n",
        "\n",
        "# Calculate classification report\n",
        "classification_rep = classification_report(y_true, y_pred_classes)\n",
        "\n",
        "# Calculate overall accuracy\n",
        "accuracy = np.mean(y_true == y_pred_classes)\n",
        "\n",
        "# Print confusion matrix\n",
        "print(\"Confusion Matrix:\")\n",
        "print(confusion_mtx)\n",
        "\n",
        "# Print classification report\n",
        "print(\"\\nClassification Report:\")\n",
        "print(classification_rep)\n",
        "\n",
        "# Print overall accuracy\n",
        "print(f\"\\nOverall Accuracy: {accuracy:.2%}\")\n"
      ],
      "metadata": {
        "colab": {
          "base_uri": "https://localhost:8080/"
        },
        "id": "yaUYImX4ccA3",
        "outputId": "ecb62444-2f06-4199-b26c-87ee2f9cc096"
      },
      "execution_count": null,
      "outputs": [
        {
          "output_type": "stream",
          "name": "stdout",
          "text": [
            "Confusion Matrix:\n",
            "[[1215   57    1   21]\n",
            " [ 100  402   36   10]\n",
            " [   1   85  313    2]\n",
            " [  66    9    2  148]]\n",
            "\n",
            "Classification Report:\n",
            "              precision    recall  f1-score   support\n",
            "\n",
            "           0       0.88      0.94      0.91      1294\n",
            "           1       0.73      0.73      0.73       548\n",
            "           2       0.89      0.78      0.83       401\n",
            "           3       0.82      0.66      0.73       225\n",
            "\n",
            "    accuracy                           0.84      2468\n",
            "   macro avg       0.83      0.78      0.80      2468\n",
            "weighted avg       0.84      0.84      0.84      2468\n",
            "\n",
            "\n",
            "Overall Accuracy: 84.20%\n"
          ]
        }
      ]
    },
    {
      "cell_type": "code",
      "source": [
        "from sklearn.metrics import confusion_matrix\n",
        "\n",
        "# Assuming you have defined y_true and y_pred_classes as described in your previous code\n",
        "# y_true contains true labels, and y_pred_classes contains predicted classes\n",
        "\n",
        "# Calculate the confusion matrix\n",
        "confusion_mtx = confusion_matrix(y_true, y_pred_classes)\n",
        "\n",
        "# Calculate sensitivity (TPR) and specificity for each class\n",
        "sensitivity = []\n",
        "specificity = []\n",
        "\n",
        "for i in range(len(confusion_mtx)):\n",
        "    true_positives = confusion_mtx[i, i]\n",
        "    false_negatives = np.sum(confusion_mtx[i, :]) - true_positives\n",
        "    true_negatives = np.sum(confusion_mtx) - np.sum(confusion_mtx[i, :]) - np.sum(confusion_mtx[:, i]) + true_positives\n",
        "    false_positives = np.sum(confusion_mtx[:, i]) - true_positives\n",
        "\n",
        "    sensitivity_i = true_positives / (true_positives + false_negatives)\n",
        "    specificity_i = true_negatives / (true_negatives + false_positives)\n",
        "\n",
        "    sensitivity.append(sensitivity_i)\n",
        "    specificity.append(specificity_i)\n",
        "\n",
        "# Print sensitivity and specificity for each class\n",
        "for i in range(len(sensitivity)):\n",
        "    print(f\"Class {i}:\")\n",
        "    print(f\"Sensitivity (True Positive Rate): {sensitivity[i]:.2f}\")\n",
        "    print(f\"Specificity (True Negative Rate): {specificity[i]:.2f}\")\n",
        "    print()\n"
      ],
      "metadata": {
        "colab": {
          "base_uri": "https://localhost:8080/"
        },
        "id": "4Xzgfa2McrcW",
        "outputId": "bc91c642-944c-4442-8d7b-edfc699658a2"
      },
      "execution_count": null,
      "outputs": [
        {
          "output_type": "stream",
          "name": "stdout",
          "text": [
            "Class 0:\n",
            "Sensitivity (True Positive Rate): 0.94\n",
            "Specificity (True Negative Rate): 0.86\n",
            "\n",
            "Class 1:\n",
            "Sensitivity (True Positive Rate): 0.73\n",
            "Specificity (True Negative Rate): 0.92\n",
            "\n",
            "Class 2:\n",
            "Sensitivity (True Positive Rate): 0.78\n",
            "Specificity (True Negative Rate): 0.98\n",
            "\n",
            "Class 3:\n",
            "Sensitivity (True Positive Rate): 0.66\n",
            "Specificity (True Negative Rate): 0.99\n",
            "\n"
          ]
        }
      ]
    },
    {
      "cell_type": "code",
      "source": [
        "import numpy as np\n",
        "import matplotlib.pyplot as plt\n",
        "from sklearn.metrics import ConfusionMatrixDisplay\n",
        "\n",
        "\n",
        "# Display labels for the classes\n",
        "display_labels = ['Class 0', 'Class 1', 'Class 2', 'Class 3']\n",
        "\n",
        "# Create a ConfusionMatrixDisplay object\n",
        "disp = ConfusionMatrixDisplay(confusion_matrix=confusion_mtx, display_labels=display_labels)\n",
        "\n",
        "# Plot the confusion matrix\n",
        "disp.plot(cmap=plt.cm.Blues)\n",
        "\n",
        "# Save the figure as a PNG file\n",
        "plt.savefig('cm_conf_4_classes.png', dpi=100)\n",
        "\n",
        "# Show the plot\n",
        "plt.show()\n"
      ],
      "metadata": {
        "colab": {
          "base_uri": "https://localhost:8080/",
          "height": 450
        },
        "id": "aiHtp529dmEj",
        "outputId": "f58ed39a-445b-43fd-8092-3b5e5b112a5b"
      },
      "execution_count": null,
      "outputs": [
        {
          "output_type": "display_data",
          "data": {
            "text/plain": [
              "<Figure size 640x480 with 2 Axes>"
            ],
            "image/png": "[encoded data removed]"
          },
          "metadata": {}
        }
      ]
    }
  ],
  "metadata": {
    "accelerator": "GPU",
    "colab": {
      "machine_shape": "hm",
      "provenance": [],
      "gpuType": "V100"
    },
    "kernelspec": {
      "display_name": "Python 3",
      "name": "python3"
    },
    "language_info": {
      "name": "python"
    }
  },
  "nbformat": 4,
  "nbformat_minor": 0
}